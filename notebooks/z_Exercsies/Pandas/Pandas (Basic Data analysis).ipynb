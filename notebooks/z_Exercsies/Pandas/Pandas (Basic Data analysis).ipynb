{
 "cells": [
  {
   "cell_type": "markdown",
   "id": "a17ae945-fae3-4146-ae64-3289c1f0c88b",
   "metadata": {},
   "source": [
    "# Pandas Exercises (Basics for data analysis)\n",
    "\n",
    "## 📌 Sample Dataset (CSV)"
   ]
  },
  {
   "cell_type": "code",
   "execution_count": 1,
   "id": "3f09e952-12ed-4a52-827b-205eda4e4d0e",
   "metadata": {},
   "outputs": [],
   "source": [
    "import pandas as pd\n",
    "\n",
    "# Sample sales dataset\n",
    "data = {\n",
    "    \"Order_ID\": [101, 102, 103, 104, 105, 106, 107, 108, 109, 110],\n",
    "    \"Customer\": [\"Alice\", \"Bob\", \"Charlie\", \"David\", \"Eve\", \"Frank\", \"Grace\", \"Alice\", \"Bob\", \"Charlie\"],\n",
    "    \"Category\": [\"Electronics\", \"Furniture\", \"Electronics\", \"Clothing\", \"Furniture\", \n",
    "                 \"Clothing\", \"Electronics\", \"Furniture\", \"Clothing\", \"Electronics\"],\n",
    "    \"Product\": [\"Laptop\", \"Chair\", \"Phone\", \"Shirt\", \"Table\", \"Shoes\", \"Headphones\", \"Sofa\", \"Jacket\", \"Tablet\"],\n",
    "    \"Quantity\": [1, 2, 1, 3, 1, 2, 1, 1, 2, 1],\n",
    "    \"Price_per_unit\": [1000, 200, 800, 50, 300, 80, 150, 500, 120, 400],\n",
    "    \"Date\": pd.to_datetime([\"2024-03-01\", \"2024-03-02\", \"2024-03-03\", \"2024-03-04\", \n",
    "                             \"2024-03-05\", \"2024-03-06\", \"2024-03-07\", \"2024-03-08\", \n",
    "                             \"2024-03-09\", \"2024-03-10\"])\n",
    "}\n",
    "\n",
    "df = pd.DataFrame(data)\n",
    "df.to_csv(\"sales_data.csv\", index=False)"
   ]
  },
  {
   "cell_type": "markdown",
   "id": "8b8b247b-dfea-414a-b5a5-bcacf1a364d1",
   "metadata": {},
   "source": [
    "### 🔹 Exercises"
   ]
  },
  {
   "cell_type": "markdown",
   "id": "c0cd404b-d8aa-46e6-a641-d253c5468a48",
   "metadata": {},
   "source": [
    "1. Load the dataset \\\n",
    "\t•\tRead the dataset from sales_data.csv and display the first 5 rows."
   ]
  },
  {
   "cell_type": "code",
   "execution_count": null,
   "id": "3ee94266-9557-4308-b5f6-7c37d3086845",
   "metadata": {},
   "outputs": [],
   "source": []
  },
  {
   "cell_type": "markdown",
   "id": "b5647bbf-a497-47ed-ba07-b8a4ffb4079c",
   "metadata": {},
   "source": [
    "2. Add a new column for total sales \\\n",
    "\t•\tCreate a new column Total_Sales by multiplying Quantity with Price_per_unit."
   ]
  },
  {
   "cell_type": "code",
   "execution_count": null,
   "id": "3718fc5f-e636-4445-8430-bad13734a5c4",
   "metadata": {},
   "outputs": [],
   "source": []
  },
  {
   "cell_type": "markdown",
   "id": "89e57ffc-5e09-4ab3-9578-a516084e54b4",
   "metadata": {},
   "source": [
    "3. Filter data \\\n",
    "\t•\tFind all sales where the Total_Sales is greater than 500."
   ]
  },
  {
   "cell_type": "code",
   "execution_count": null,
   "id": "7db54e46-71fc-42e2-9dce-e4f9ae7bf22d",
   "metadata": {},
   "outputs": [],
   "source": []
  },
  {
   "cell_type": "markdown",
   "id": "a0af13de-4ee8-47fb-91f2-247e5feb965e",
   "metadata": {},
   "source": [
    "4. Find the most purchased category \\\n",
    "\t•\tIdentify which Category has the highest total quantity sold."
   ]
  },
  {
   "cell_type": "code",
   "execution_count": null,
   "id": "50b23eed-e4b5-4d2e-9705-5f8e61119dcc",
   "metadata": {},
   "outputs": [],
   "source": []
  },
  {
   "cell_type": "markdown",
   "id": "5228ca39-6e14-46ea-b90d-c0f15861cc24",
   "metadata": {},
   "source": [
    "5. Find the top 2 customers with the highest total spending \\\n",
    "\t•\tGroup by Customer, sum the Total_Sales, and display the top 2 spenders."
   ]
  },
  {
   "cell_type": "code",
   "execution_count": null,
   "id": "4f11f7ca-cf9d-43f6-a7d4-eb1e4c721af9",
   "metadata": {},
   "outputs": [],
   "source": []
  },
  {
   "cell_type": "markdown",
   "id": "1140245b-4080-4da6-bb51-78181ddaa0f4",
   "metadata": {},
   "source": [
    "6. Find the most expensive item sold \\\n",
    "\t•\tIdentify the item with the highest Price_per_unit."
   ]
  },
  {
   "cell_type": "code",
   "execution_count": null,
   "id": "3050f941-f47a-44f1-a71b-8fd0c02861ed",
   "metadata": {},
   "outputs": [],
   "source": []
  },
  {
   "cell_type": "markdown",
   "id": "44b195a6-dd76-4f6a-adfb-278b92b36ab1",
   "metadata": {},
   "source": [
    "7. Add a discount column \\\n",
    "\t•\tCreate a new column Discounted_Price where a 10% discount is applied if the Quantity purchased is more than 1."
   ]
  },
  {
   "cell_type": "code",
   "execution_count": null,
   "id": "23234033-ea6d-4ae8-a6c9-b1dfac3c8d2c",
   "metadata": {},
   "outputs": [],
   "source": []
  },
  {
   "cell_type": "markdown",
   "id": "464f7617-a4f4-4b80-b984-e38dd5bc773c",
   "metadata": {},
   "source": [
    "8. Find daily total sales \\\n",
    "\t•\tGroup by Date and find the total sales per day."
   ]
  },
  {
   "cell_type": "code",
   "execution_count": null,
   "id": "58dfa0dc-27f2-47c4-93ed-e077316c1bbe",
   "metadata": {},
   "outputs": [],
   "source": []
  },
  {
   "cell_type": "markdown",
   "id": "7cb95d2d-9c44-4509-bc46-c8d10f22dcf6",
   "metadata": {},
   "source": [
    "9. Pivot Table Analysis \\\n",
    "\t•\tCreate a pivot table showing total sales by Category and Customer."
   ]
  },
  {
   "cell_type": "code",
   "execution_count": null,
   "id": "8b9b6002-3c3f-44d9-99e6-6bd2bab3e63e",
   "metadata": {},
   "outputs": [],
   "source": []
  }
 ],
 "metadata": {
  "kernelspec": {
   "display_name": "Python 3 (ipykernel)",
   "language": "python",
   "name": "python3"
  },
  "language_info": {
   "codemirror_mode": {
    "name": "ipython",
    "version": 3
   },
   "file_extension": ".py",
   "mimetype": "text/x-python",
   "name": "python",
   "nbconvert_exporter": "python",
   "pygments_lexer": "ipython3",
   "version": "3.12.7"
  }
 },
 "nbformat": 4,
 "nbformat_minor": 5
}

{
 "cells": [
  {
   "cell_type": "markdown",
   "id": "ea728932-666e-472c-acab-746a7c1bc2d9",
   "metadata": {},
   "source": [
    "## <a href=\"https://leetcode.com/problems/two-sum/description/\">1. Two Sum</a>\n",
    "<span style=\"background-color: lightgreen; color: black;\">easy<span>\n",
    "\n",
    "Given an array of integers nums and an integer target, return indices of the two numbers such that they add up to target.\n",
    "\n",
    "You may assume that each input would have exactly one solution, and you may not use the same element twice.\n",
    "\n",
    "You can return the answer in any order.\n",
    "\n",
    " \n",
    "\n",
    "Example 1:\n",
    "\n",
    "```Input: nums = [2,7,11,15], target = 9``` \\\n",
    "```Output: [0,1]``` \\\n",
    "```Explanation: Because nums[0] + nums[1] == 9, we return [0, 1].``` \n",
    "\n",
    "Example 2:\n",
    "\n",
    "```Input: nums = [3,2,4], target = 6``` \\\n",
    "```Output: [1,2]``` \n",
    "\n",
    "Example 3:\n",
    "\n",
    "```Input: nums = [3,3], target = 6``` \\\n",
    "```Output: [0,1]```\n",
    " \n",
    "\n",
    "Constraints:\n",
    "\n",
    "2 <= nums.length <= 104 \\\n",
    "-109 <= nums[i] <= 109 \\\n",
    "-109 <= target <= 109 \\\n",
    "Only one valid answer exists.\n",
    "\n",
    "```class Solution:``` \\\n",
    "```    def twoSum(self, nums: List[int], target: int) -> List[int]:```"
   ]
  },
  {
   "cell_type": "code",
   "execution_count": 2,
   "id": "530b16cd-66df-4acd-a433-b00a9b824845",
   "metadata": {},
   "outputs": [
    {
     "data": {
      "text/plain": [
       "(0, 3)"
      ]
     },
     "execution_count": 2,
     "metadata": {},
     "output_type": "execute_result"
    }
   ],
   "source": [
    "class Solution:\n",
    "    # The following syntax tells us nums is expected to be a list containing integer values\n",
    "    # target is expected to be an integer\n",
    "    # output is expected to be a list of integers\n",
    "    def twoSum(self, nums: list[int], target: [int]) -> list[int]:\n",
    "\n",
    "        for i, value in enumerate(nums):\n",
    "            for j in range(len(nums)):\n",
    "                if value + nums[j] == target:\n",
    "                    return i, j\n",
    "                    break\n",
    "        print(\"No matches\")\n",
    "\n",
    "s = Solution()\n",
    "nums = [2,4,5,3]\n",
    "s.twoSum(nums, 5)"
   ]
  },
  {
   "cell_type": "code",
   "execution_count": 3,
   "id": "c6bd9943-6bdc-4b9e-9097-54caa3e4fdf9",
   "metadata": {},
   "outputs": [
    {
     "data": {
      "text/plain": [
       "(2, 0)"
      ]
     },
     "execution_count": 3,
     "metadata": {},
     "output_type": "execute_result"
    }
   ],
   "source": [
    "# Trying using O(n) / Hash Map\n",
    "\n",
    "class Solution:\n",
    "    def twoSum(self, nums: list[int], target: [int]) -> list[int]:\n",
    "\n",
    "        seen = {}\n",
    "        for i, value in enumerate(nums):\n",
    "            if target - nums[i] in seen:\n",
    "                return i, seen[target - nums[i]]\n",
    "            seen[nums[i]] = i\n",
    "\n",
    "s = Solution()\n",
    "s.twoSum([2, 4, 3], 5)"
   ]
  }
 ],
 "metadata": {
  "kernelspec": {
   "display_name": "Python 3 (ipykernel)",
   "language": "python",
   "name": "python3"
  },
  "language_info": {
   "codemirror_mode": {
    "name": "ipython",
    "version": 3
   },
   "file_extension": ".py",
   "mimetype": "text/x-python",
   "name": "python",
   "nbconvert_exporter": "python",
   "pygments_lexer": "ipython3",
   "version": "3.12.7"
  }
 },
 "nbformat": 4,
 "nbformat_minor": 5
}

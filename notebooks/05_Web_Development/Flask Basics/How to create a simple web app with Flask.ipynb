{
 "cells": [
  {
   "cell_type": "markdown",
   "id": "ffc733de-84eb-4a23-b527-4560f8900d64",
   "metadata": {},
   "source": [
    "# How to make a simple flask web application "
   ]
  },
  {
   "cell_type": "markdown",
   "id": "dffa3452-3e88-41dd-9c5e-1efd5a773ed0",
   "metadata": {},
   "source": [
    "## File structure\n",
    "\n",
    "`flask_app/` \\\n",
    "`├── website/` \\\n",
    "`│   ├── __init__.py` \\\n",
    "`│   ├── views.py` \\\n",
    "`│   └── static/` \\\n",
    "`│   └── templates/` \\\n",
    "`│       └── index.html` \\\n",
    "`└── main.py` \\\n",
    "`└── requirements.txt` "
   ]
  },
  {
   "cell_type": "code",
   "execution_count": 3,
   "id": "eba5e65a-93be-4e2e-9566-db7839cdd061",
   "metadata": {},
   "outputs": [
    {
     "name": "stdout",
     "output_type": "stream",
     "text": [
      "Requirement already satisfied: flask in /opt/anaconda3/lib/python3.12/site-packages (3.0.3)\n",
      "Requirement already satisfied: Werkzeug>=3.0.0 in /opt/anaconda3/lib/python3.12/site-packages (from flask) (3.0.3)\n",
      "Requirement already satisfied: Jinja2>=3.1.2 in /opt/anaconda3/lib/python3.12/site-packages (from flask) (3.1.4)\n",
      "Requirement already satisfied: itsdangerous>=2.1.2 in /opt/anaconda3/lib/python3.12/site-packages (from flask) (2.2.0)\n",
      "Requirement already satisfied: click>=8.1.3 in /opt/anaconda3/lib/python3.12/site-packages (from flask) (8.1.7)\n",
      "Requirement already satisfied: blinker>=1.6.2 in /opt/anaconda3/lib/python3.12/site-packages (from flask) (1.6.2)\n",
      "Requirement already satisfied: MarkupSafe>=2.0 in /opt/anaconda3/lib/python3.12/site-packages (from Jinja2>=3.1.2->flask) (2.1.3)\n"
     ]
    }
   ],
   "source": [
    "# Install flask \n",
    "!pip install flask"
   ]
  },
  {
   "cell_type": "code",
   "execution_count": 4,
   "id": "b9adbd05-949e-4726-9a89-7c5614889881",
   "metadata": {},
   "outputs": [],
   "source": [
    "# __init__.py\n",
    "\n",
    "from flask import Flask\n",
    "\n",
    "def create_app():\n",
    "    app = Flask(__name__)\n",
    "\n",
    "    app.config['SECRET_KEY'] = 'secret_key'\n",
    "\n",
    "    from .views import website\n",
    "    app.register_blueprint(website)\n",
    "\n",
    "    return app"
   ]
  },
  {
   "cell_type": "code",
   "execution_count": 6,
   "id": "27fe07ab-367f-4450-a43c-fbdc5618d9e6",
   "metadata": {},
   "outputs": [],
   "source": [
    "# views.py \n",
    "\n",
    "from flask import Blueprint, render_template, request, jsonify, send_from_directory\n",
    "\n",
    "website = Blueprint('website', __name__)\n",
    "\n",
    "@website.route('/', methods=['GET', 'POST'])\n",
    "def home():\n",
    "    if request.method == \"POST\":\n",
    "        return \"<h1>Button May have been clicked</h1>\"\n",
    "    return render_template('index.html')"
   ]
  },
  {
   "cell_type": "raw",
   "id": "256d4569-b44a-4771-a2fb-2cf4883ebf5c",
   "metadata": {},
   "source": [
    "# index.html \n",
    "\n",
    "<!DOCTYPE html>\n",
    "<html>\n",
    "<head>\n",
    "    <title>Flask Modular App</title>\n",
    "</head>\n",
    "<body>\n",
    "    <h1>Welcome to the Modular Flask App</h1>\n",
    "</body>\n",
    "</html>"
   ]
  },
  {
   "cell_type": "code",
   "execution_count": null,
   "id": "69891465-b4bf-43eb-90ea-baf51f7fb221",
   "metadata": {},
   "outputs": [],
   "source": [
    "# main.py \n",
    "\n",
    "from website import create_app\n",
    "\n",
    "app = create_app()\n",
    "\n",
    "if __name__ == '__main__':\n",
    "    app.run(debug=True, port=5000, host='0.0.0.0')"
   ]
  }
 ],
 "metadata": {
  "kernelspec": {
   "display_name": "Python 3 (ipykernel)",
   "language": "python",
   "name": "python3"
  },
  "language_info": {
   "codemirror_mode": {
    "name": "ipython",
    "version": 3
   },
   "file_extension": ".py",
   "mimetype": "text/x-python",
   "name": "python",
   "nbconvert_exporter": "python",
   "pygments_lexer": "ipython3",
   "version": "3.12.7"
  }
 },
 "nbformat": 4,
 "nbformat_minor": 5
}

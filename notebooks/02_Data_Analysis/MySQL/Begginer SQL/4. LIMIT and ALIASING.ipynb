{
 "cells": [
  {
   "cell_type": "markdown",
   "id": "5ffbb1c2-bef1-4e2f-91ad-9b536a923826",
   "metadata": {},
   "source": [
    "# LIMIT \n",
    "\n",
    "<hr>\n",
    "\n",
    "### We can use LIMIT to display the top *n* number of values \n",
    "\n",
    "<hr>\n",
    "\n",
    "```SELECT *```\\\n",
    "```FROM employee_demographics```\\\n",
    "```ORDER BY age DESC```\\\n",
    "```LIMIT 3```\\\n",
    "```;```\n",
    "\n",
    "<img src=\"static/LIMIT_01.png\" style=\"width: 70%; margin: auto;\">\n",
    "\n",
    "<hr>\n",
    "\n",
    "Additionally, we can use aliasing to give columns a different name/ alias\n",
    "\n",
    "```SELECT gender, AVG(age) AS avg_age```\\\n",
    "```FROM employee_demographics```\\\n",
    "```GROUP BY gender```\\\n",
    "```ORDER BY avg_age DESC```\\\n",
    "```;```\n",
    "\n",
    "<img src=\"static/ALIAS_01.png\" style=\"width: 70%; margin: auto;\">\n"
   ]
  },
  {
   "cell_type": "code",
   "execution_count": null,
   "id": "902f07f6-4f55-4c23-976c-13dc3db49b29",
   "metadata": {},
   "outputs": [],
   "source": []
  }
 ],
 "metadata": {
  "kernelspec": {
   "display_name": "Python 3 (ipykernel)",
   "language": "python",
   "name": "python3"
  },
  "language_info": {
   "codemirror_mode": {
    "name": "ipython",
    "version": 3
   },
   "file_extension": ".py",
   "mimetype": "text/x-python",
   "name": "python",
   "nbconvert_exporter": "python",
   "pygments_lexer": "ipython3",
   "version": "3.12.7"
  }
 },
 "nbformat": 4,
 "nbformat_minor": 5
}

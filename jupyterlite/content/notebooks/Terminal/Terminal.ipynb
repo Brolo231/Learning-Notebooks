{
 "cells": [
  {
   "cell_type": "markdown",
   "id": "57d1573b-e0ea-4702-8ad9-98fc89873937",
   "metadata": {},
   "source": [
    "# <a href=\"https://brolo231.github.io/Learning-Notebooks/\">Home Page</a>"
   ]
  },
  {
   "cell_type": "markdown",
   "id": "80aae7d1-c51e-4320-913e-601b9108b389",
   "metadata": {},
   "source": [
    "# Command Line Commands "
   ]
  },
  {
   "cell_type": "markdown",
   "id": "fb01b0eb-041b-4521-bd75-9c7f5d30efdc",
   "metadata": {},
   "source": [
    "## 📌 Table of Contents  \n",
    "- [1. Navigation & Directory Management](#navigation)  \n",
    "- [2. Viewing & Editing Files](#viewing-editing)  \n",
    "- [3. Searching & Finding Files](#searching-files)  \n",
    "- [4. System Information](#system-info)  \n",
    "- [5. Networking Commands](#networking)  \n",
    "- [6. Archiving & Compression](#archiving)"
   ]
  },
  {
   "cell_type": "markdown",
   "id": "13a656db-4441-4599-bf6b-310043749e78",
   "metadata": {},
   "source": [
    "## 1. Navigation & Directory Management <a id=\"navigation\"></a>\n",
    "| Command | Description | Linux/macOS | Windows |\n",
    "|---------|------------|------------|---------|\n",
    "| `pwd` | Print current directory | ✅ | ❌ |\n",
    "| `ls` | List files in a directory | ✅ | ❌ |\n",
    "| `dir` | List files in a directory | ❌ | ✅ |\n",
    "| `cd foldername` | Change active directory | ✅ | ✅ |\n",
    "| `cd ..` | Move up one directory | ✅ | ✅ |\n",
    "| ` cd / ` | Go to root directory | ✅ | ✅ |\n",
    "| ` cd ~ ` | Go to home directory | ✅ | ❌ |\n",
    "| ` mkdir foldername ` | Create a new directory | ✅ | ✅ |\n",
    "| ` rmdir foldername ` | Remove empty directory | ✅ | ✅ |\n",
    "| ` rm -r foldername ` | Remove directory and all it's contents | ✅ | ❌ |\n",
    "| ` del /s /q foldername ` | Remove directory and all it's contents | ❌ | ✅ |\n",
    "| `clear` | Clears the CLI (command line interface) | ✅ | ❌|\n",
    "\n",
    "#### When working with command line commands in Jupyter notebook we can either use '!' or '%' before out command (only for jupyter notebook). \n",
    "#### The difference is that '!' creates a new shell process executes the subprocess and then exits out of it. So '!' is only running in a subprocess whereas '%' wil create a persistent state for commands"
   ]
  },
  {
   "cell_type": "code",
   "execution_count": 47,
   "id": "44532c5e-4059-4af4-ba91-e135d377ad39",
   "metadata": {},
   "outputs": [
    {
     "data": {
      "text/plain": [
       "'/Users/brandonfourie/Desktop/Pong'"
      ]
     },
     "execution_count": 47,
     "metadata": {},
     "output_type": "execute_result"
    }
   ],
   "source": [
    "# Print current directory\n",
    "%pwd"
   ]
  },
  {
   "cell_type": "markdown",
   "id": "bf33d012-629e-4c93-a1f8-fa31d8e56947",
   "metadata": {},
   "source": [
    "## 2. Viewing & Editing Files <a id=\"viewing-editing\"></a>\n",
    "| Command | Description | Linux/macOS | Windows |\n",
    "|---------|------------|------------|---------|\n",
    "| ` pycharm . ` | Open project (directory) in pycharm | ✅ | ✅ |"
   ]
  },
  {
   "cell_type": "code",
   "execution_count": 20,
   "id": "0c58f106-9f96-4195-ba76-440550aa0a97",
   "metadata": {},
   "outputs": [],
   "source": [
    "# %pycharm . will not work in Jupyter Notebook but will run in terminal if PyCharm Command Line is set up"
   ]
  },
  {
   "cell_type": "markdown",
   "id": "6805d170-bed7-4313-95d7-5f248d530ea7",
   "metadata": {},
   "source": [
    "## 3. Searching & Finding Files <a id=\"searching-files\"></a>\n",
    "| Command | Description | Linux/macOS | Windows|\n",
    "|------|------|--------|-------|\n",
    "| ` find . -name \"filename\" ` | Find a file in the current directory | ✅ | ❌ |\n",
    "| ` dir /s filename ` | Find a file in the current directory | ❌ | ✅ |\n",
    "| ` grep \"text\" filename ` | Search for text inside a file | ✅ | ❌ |\n",
    "| ` findstr \"text\" filename ` | Search for text inside a file | ❌ | ✅ |"
   ]
  },
  {
   "cell_type": "code",
   "execution_count": 57,
   "id": "d8424af8-6be9-49b0-bca4-46ce047bcfc5",
   "metadata": {},
   "outputs": [],
   "source": [
    "# these commands will not work in Jupyter Notebook (use a terminal)"
   ]
  },
  {
   "cell_type": "markdown",
   "id": "79b06532-ffc0-47d5-a303-0383d972df8f",
   "metadata": {},
   "source": [
    "## 4. System Information <a id=\"system-info\"></a>\n",
    "\n",
    "|Command|Description|Linux/macOS|Windows|\n",
    "|-----|-----|-----|-----|\n",
    "|`whoami`|\tDisplay current user|\t✅|\t✅|\n",
    "|`hostname`|\tDisplay system hostname\t|✅\t|✅|\n",
    "|`df -h`|\tShow disk space usage\t|✅\t|❌|\n",
    "|`free -m`|\tShow memory usage\t|✅\t|❌|\n",
    "|`tasklist`|\tShow running processes\t|❌\t|✅|\n",
    "|`ps aux`|\tShow running processes (Linux)\t|✅\t|❌|\n",
    "|`top`|\tDisplay system resource usage\t|✅ |\t❌|"
   ]
  },
  {
   "cell_type": "code",
   "execution_count": 55,
   "id": "28686b82-3029-4a8d-915e-92aa4e530408",
   "metadata": {},
   "outputs": [],
   "source": [
    "# These commands will not work in Jupyter Notebook (use a terminal)"
   ]
  },
  {
   "cell_type": "markdown",
   "id": "95b760f0-74d8-4367-9172-4ef717536503",
   "metadata": {},
   "source": [
    "##  5. Networking Commands <a id=\"networking\"></a>\n",
    "\n",
    "|Command|Description|Linux/macOS|Windows|\n",
    "|-----|-----|-----|-----|\n",
    "|`ping google.com`|\tTest network connection|\t✅\t|✅|\n",
    "|`ifconfig`|\tShow network details|\t✅\t|❌|\n",
    "|`ipconfig`|\tShow network details (Windows)|\t❌|\t✅|"
   ]
  },
  {
   "cell_type": "code",
   "execution_count": 68,
   "id": "f99d44ae-25ee-44b0-9d17-72d700106ff8",
   "metadata": {},
   "outputs": [],
   "source": [
    "# These commands will not work in Jupyter Notebook (use a terminal)"
   ]
  },
  {
   "cell_type": "markdown",
   "id": "9a2756e3-615c-4fcd-9544-ceef0ca97758",
   "metadata": {},
   "source": [
    "## 6. Archiving & Compression <a id=\"archiving\"></a>\n",
    "\n",
    "|Command|Description|Linux/macOS|Windows|\n",
    "|-----|-----|-----|-----|\n",
    "|`zip -r archive.zip foldername`|\tCreate a zip archive |\t✅\t|✅|\n",
    "|`unzip archive.zip`|\textract a zip archive |\t✅\t|✅|"
   ]
  },
  {
   "cell_type": "code",
   "execution_count": 1,
   "id": "5e59bed2-9fe9-4987-ae74-7f73351c4343",
   "metadata": {},
   "outputs": [],
   "source": [
    "# These commands will not work in Jupyter Notebook (use a terminal)"
   ]
  }
 ],
 "metadata": {
  "kernelspec": {
   "display_name": "Python 3 (ipykernel)",
   "language": "python",
   "name": "python3"
  },
  "language_info": {
   "codemirror_mode": {
    "name": "ipython",
    "version": 3
   },
   "file_extension": ".py",
   "mimetype": "text/x-python",
   "name": "python",
   "nbconvert_exporter": "python",
   "pygments_lexer": "ipython3",
   "version": "3.12.7"
  }
 },
 "nbformat": 4,
 "nbformat_minor": 5
}

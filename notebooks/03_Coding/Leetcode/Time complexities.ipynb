{
 "cells": [
  {
   "cell_type": "markdown",
   "id": "ca552e98-1703-4f70-877c-0df3f4a78366",
   "metadata": {},
   "source": [
    "# 📘 Time Complexity Crash Course (LeetCode Focused)\n",
    "\n",
    "---\n",
    "\n",
    "## 🧠 What is Time Complexity?\n",
    "\n",
    "Time complexity tells us how the runtime of an algorithm grows with the size of the input `n`.\n",
    "\n",
    "It uses **Big-O notation** to describe performance.\n",
    "\n",
    "---\n",
    "\n",
    "## 📊 Common Big-O Notations\n",
    "\n",
    "| Notation | Name            | Example Use Case            |\n",
    "|----------|------------------|-----------------------------|\n",
    "| O(1)     | Constant         | Array indexing              |\n",
    "| O(log n) | Logarithmic      | Binary Search               |\n",
    "| O(n)     | Linear           | Single for-loop             |\n",
    "| O(n log n) | Linearithmic   | Merge Sort, Quick Sort      |\n",
    "| O(n²)    | Quadratic        | Nested loops                |\n",
    "| O(2ⁿ)    | Exponential      | Recursive subset generation |\n",
    "| O(n!)    | Factorial        | All permutations            |\n",
    "\n",
    "---"
   ]
  },
  {
   "cell_type": "markdown",
   "id": "e9d6800f-deb3-40ec-8fe3-07b9d762fb49",
   "metadata": {},
   "source": [
    "## 🟩 O(1) – Constant Time\n",
    "\n",
    "Example: Accessing an element by index"
   ]
  },
  {
   "cell_type": "code",
   "execution_count": 1,
   "id": "518c6009-3c91-4286-97e9-4027d04347af",
   "metadata": {},
   "outputs": [
    {
     "name": "stdout",
     "output_type": "stream",
     "text": [
      "10\n"
     ]
    }
   ],
   "source": [
    "def get_first_element(arr):\n",
    "    return arr[0]\n",
    "\n",
    "# O(1)\n",
    "print(get_first_element([10, 20, 30]))"
   ]
  },
  {
   "cell_type": "markdown",
   "id": "0b175dcd-290d-40d3-b8c4-6dde534bef66",
   "metadata": {},
   "source": [
    "<hr>\n",
    "\n",
    "## 🟩 O(log n) – Logarithmic Time\n",
    "\n",
    "Example: Binary Search"
   ]
  },
  {
   "cell_type": "code",
   "execution_count": 2,
   "id": "053a5017-1d76-4eca-b0ce-0312a651021c",
   "metadata": {},
   "outputs": [
    {
     "name": "stdout",
     "output_type": "stream",
     "text": [
      "3\n"
     ]
    }
   ],
   "source": [
    "def binary_search(arr, target):\n",
    "    left, right = 0, len(arr) - 1\n",
    "    while left <= right:\n",
    "        mid = (left + right) // 2\n",
    "        if arr[mid] == target:\n",
    "            return mid\n",
    "        elif arr[mid] < target:\n",
    "            left = mid + 1\n",
    "        else:\n",
    "            right = mid - 1\n",
    "    return -1\n",
    "\n",
    "# O(log n)\n",
    "print(binary_search([1, 3, 5, 7, 9], 7))"
   ]
  },
  {
   "cell_type": "markdown",
   "id": "5e179efb-5da5-45be-8632-a1901cfa36c6",
   "metadata": {},
   "source": [
    "<hr>\n",
    "\n",
    "## 🟨 O(n) – Linear Time\n",
    "\n",
    "Example: Find max element"
   ]
  },
  {
   "cell_type": "code",
   "execution_count": 3,
   "id": "28b2fc16-ae54-47a5-98e0-59d78de49a58",
   "metadata": {},
   "outputs": [
    {
     "name": "stdout",
     "output_type": "stream",
     "text": [
      "9\n"
     ]
    }
   ],
   "source": [
    "def find_max(arr):\n",
    "    max_val = arr[0]\n",
    "    for num in arr:\n",
    "        if num > max_val:\n",
    "            max_val = num\n",
    "    return max_val\n",
    "\n",
    "# O(n)\n",
    "print(find_max([1, 5, 2, 9, 3]))"
   ]
  },
  {
   "cell_type": "markdown",
   "id": "95b5de67-7bd7-4b63-96c9-d5ad1b10a25f",
   "metadata": {},
   "source": [
    "<hr>\n",
    "\n",
    "## 🟨 O(n log n) – Linearithmic Time\n",
    "\n",
    "Example: Merge Sort"
   ]
  },
  {
   "cell_type": "code",
   "execution_count": 4,
   "id": "1ce8de29-12e7-4ecd-b002-7dcb232c55a5",
   "metadata": {},
   "outputs": [
    {
     "name": "stdout",
     "output_type": "stream",
     "text": [
      "[1, 2, 3, 4, 5, 6]\n"
     ]
    }
   ],
   "source": [
    "def merge_sort(arr):\n",
    "    if len(arr) <= 1:\n",
    "        return arr\n",
    "    mid = len(arr) // 2\n",
    "    left = merge_sort(arr[:mid])\n",
    "    right = merge_sort(arr[mid:])\n",
    "    return merge(left, right)\n",
    "\n",
    "def merge(left, right):\n",
    "    result, i, j = [], 0, 0\n",
    "    while i < len(left) and j < len(right):\n",
    "        if left[i] < right[j]:\n",
    "            result.append(left[i])\n",
    "            i += 1\n",
    "        else:\n",
    "            result.append(right[j])\n",
    "            j += 1\n",
    "    result.extend(left[i:])\n",
    "    result.extend(right[j:])\n",
    "    return result\n",
    "\n",
    "# O(n log n)\n",
    "print(merge_sort([5, 2, 4, 6, 1, 3]))"
   ]
  },
  {
   "cell_type": "markdown",
   "id": "3b6d181c-907f-455a-ae71-7211a21d0a1c",
   "metadata": {},
   "source": [
    "<hr>\n",
    "\n",
    "## 🟥 O(n²) – Quadratic Time\n",
    "\n",
    "Example: Bubble Sort"
   ]
  },
  {
   "cell_type": "code",
   "execution_count": 5,
   "id": "764e69f2-6c9f-4f25-9a7a-a5195dfcfc72",
   "metadata": {},
   "outputs": [
    {
     "name": "stdout",
     "output_type": "stream",
     "text": [
      "[1, 2, 3, 4, 7]\n"
     ]
    }
   ],
   "source": [
    "def bubble_sort(arr):\n",
    "    n = len(arr)\n",
    "    for i in range(n):\n",
    "        for j in range(n - i - 1):\n",
    "            if arr[j] > arr[j + 1]:\n",
    "                arr[j], arr[j + 1] = arr[j + 1], arr[j]\n",
    "    return arr\n",
    "\n",
    "# O(n^2)\n",
    "print(bubble_sort([4, 2, 7, 1, 3]))"
   ]
  },
  {
   "cell_type": "markdown",
   "id": "43644efa-1ccf-41c0-9bd2-afa17389c334",
   "metadata": {},
   "source": [
    "<hr>\n",
    "\n",
    "## 🟥 O(2ⁿ) – Exponential Time\n",
    "\n",
    "Example: Fibonacci (recursive)"
   ]
  },
  {
   "cell_type": "code",
   "execution_count": 6,
   "id": "7e94c193-90f4-4173-a33d-207215793ea6",
   "metadata": {},
   "outputs": [
    {
     "name": "stdout",
     "output_type": "stream",
     "text": [
      "5\n"
     ]
    }
   ],
   "source": [
    "def fibonacci(n):\n",
    "    if n <= 1:\n",
    "        return n\n",
    "    return fibonacci(n-1) + fibonacci(n-2)\n",
    "\n",
    "# O(2^n)\n",
    "print(fibonacci(5))"
   ]
  },
  {
   "cell_type": "markdown",
   "id": "74a769f8-7687-456a-8cfa-f81509de3ff4",
   "metadata": {},
   "source": [
    "<hr>\n",
    "\n",
    "## 🟥 O(n!) – Factorial Time\n",
    "\n",
    "Example: Generating all permutations"
   ]
  },
  {
   "cell_type": "code",
   "execution_count": 7,
   "id": "ce9283e4-379a-4bec-95a8-1e376fb7ebcf",
   "metadata": {},
   "outputs": [
    {
     "name": "stdout",
     "output_type": "stream",
     "text": [
      "[(1, 2, 3), (1, 3, 2), (2, 1, 3), (2, 3, 1), (3, 1, 2), (3, 2, 1)]\n"
     ]
    }
   ],
   "source": [
    "from itertools import permutations\n",
    "\n",
    "def generate_permutations(arr):\n",
    "    return list(permutations(arr))\n",
    "\n",
    "# O(n!)\n",
    "print(generate_permutations([1, 2, 3]))"
   ]
  },
  {
   "cell_type": "code",
   "execution_count": null,
   "id": "3f00f167-c83e-41f6-a5cb-26313d104bb3",
   "metadata": {},
   "outputs": [],
   "source": []
  }
 ],
 "metadata": {
  "kernelspec": {
   "display_name": "Python 3 (ipykernel)",
   "language": "python",
   "name": "python3"
  },
  "language_info": {
   "codemirror_mode": {
    "name": "ipython",
    "version": 3
   },
   "file_extension": ".py",
   "mimetype": "text/x-python",
   "name": "python",
   "nbconvert_exporter": "python",
   "pygments_lexer": "ipython3",
   "version": "3.12.7"
  }
 },
 "nbformat": 4,
 "nbformat_minor": 5
}

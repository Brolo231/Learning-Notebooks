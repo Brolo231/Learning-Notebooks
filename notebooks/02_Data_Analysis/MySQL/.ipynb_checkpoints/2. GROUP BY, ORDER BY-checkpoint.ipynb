{
 "cells": [
  {
   "cell_type": "markdown",
   "id": "b5421eb7-a326-4b39-b32a-e10909aa6dcf",
   "metadata": {},
   "source": [
    "# GROUP BY\n",
    "\n",
    "<hr>\n",
    "\n",
    "#### Group by rolls up rows that have the same value in one or more columns so that AGGREGATE functions can be performed on each group separately \n",
    "\n",
    "<hr>\n",
    "\n",
    "For the following we are:\n",
    "- selecting gender\n",
    "- from employee_demographics\n",
    "- and we're grouping by gender\n",
    "\n",
    "Note: Notice that we only get an output of Male and Female. This is because 'male' and 'female' are the only unique values in the gender column. We are rolling up all the values into these unique groups. \n",
    "\n",
    "<img src=\"static/GROUP_BY_01.png\" style=\"width: 70%; margin: auto;\">\n",
    "\n",
    "####\n",
    "\n",
    "It now makes it easier for us to perform aggregate functions on certain groups based on the other column data. \n",
    "\n",
    "For example:\n",
    "- we are selecting gender and the average age\n",
    "- from employee_demographics\n",
    "- and we are grouping by gender. (average age for each rolled up group: male and female)\n",
    "\n",
    "<img src=\"static/GROUP_BY_02.png\" style=\"width: 70%; margin: auto;\">\n",
    "\n",
    "**Note:** We can still use aggregate functions without the GROUP BY clause. Note for the following we would not be able to display other columns with it. E.g != AVG(age), gender <- wont work \n",
    "\n",
    "<img src=\"static/GROUP_BY_03.png\" style=\"width: 70%; margin: auto;\">\n",
    "\n",
    "\n"
   ]
  },
  {
   "cell_type": "code",
   "execution_count": null,
   "id": "f6455c71-0ca4-4a03-b43e-ad24c00a23cd",
   "metadata": {},
   "outputs": [],
   "source": []
  }
 ],
 "metadata": {
  "kernelspec": {
   "display_name": "Python 3 (ipykernel)",
   "language": "python",
   "name": "python3"
  },
  "language_info": {
   "codemirror_mode": {
    "name": "ipython",
    "version": 3
   },
   "file_extension": ".py",
   "mimetype": "text/x-python",
   "name": "python",
   "nbconvert_exporter": "python",
   "pygments_lexer": "ipython3",
   "version": "3.12.7"
  }
 },
 "nbformat": 4,
 "nbformat_minor": 5
}

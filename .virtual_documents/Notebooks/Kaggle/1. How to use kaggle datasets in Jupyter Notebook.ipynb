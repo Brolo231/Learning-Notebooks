


import zipfile
import os
from kaggle.api.kaggle_api_extended import KaggleApi

api = KaggleApi()
api.authenticate()

# Download the dataset
api.dataset_download_file('rakeshkapilavai/extrovert-vs-introvert-behavior-data', 
                          file_name='personality_dataset.csv', 
                          path='datasets/') # specify download location

# Unzip if needed
# with zipfile.ZipFile("personality_dataset.csv.zip", 'r') as zip_ref:
#    zip_ref.extractall(".")

# Load the dataset
import pandas as pd
df = pd.read_csv('datasets/personality_dataset.csv')


df.head(5)


df.describe()

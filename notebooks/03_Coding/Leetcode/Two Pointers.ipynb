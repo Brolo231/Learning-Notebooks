{
 "cells": [
  {
   "cell_type": "markdown",
   "id": "2a002ba6-8915-4b9c-9ee5-44b13e913c39",
   "metadata": {},
   "source": [
    "# Two Pointers\n",
    "\n",
    "<hr>\n",
    "\n",
    "## <a href=\"https://leetcode.com/problems/valid-palindrome/description/\">125. Valid Palindrome</a>\n",
    "<span style=\"background-color: lightgreen; color: black;\">easy<span>\n",
    "\n",
    "\n",
    "\n",
    "A phrase is a palindrome if, after converting all uppercase letters into lowercase letters and removing all non-alphanumeric characters, it reads the same forward and backward. Alphanumeric characters include letters and numbers.\n",
    "\n",
    "Given a string s, return true if it is a palindrome, or false otherwise.\n",
    "\n",
    " \n",
    "\n",
    "Example 1: \n",
    "\n",
    "```Input: s = \"A man, a plan, a canal: Panama\"```\\\n",
    "```Output: true``` \\\n",
    "Explanation: \"amanaplanacanalpanama\" is a palindrome.\n",
    "\n",
    "Example 2:\n",
    "\n",
    "```Input: s = \"race a car\"```\n",
    "```Output: false```\\\n",
    "Explanation: \"raceacar\" is not a palindrome.\n",
    "\n",
    "Example 3:\n",
    "\n",
    "```Input: s = \" \"```\\\n",
    "```Output: true```\\\n",
    "Explanation: s is an empty string \"\" after removing non-alphanumeric characters. \\\n",
    "Since an empty string reads the same forward and backward, it is a palindrome.\n",
    "\n",
    "```class Solution:```\\\n",
    "```    def isPalindrome(self, s: str) -> bool:```\n"
   ]
  },
  {
   "cell_type": "code",
   "execution_count": 41,
   "id": "c4c92a7f-b952-4599-8df5-d2e01f532914",
   "metadata": {},
   "outputs": [],
   "source": [
    "class Solution:\n",
    "    def isPalindrome(self, s: str) -> bool:\n",
    "\n",
    "        left = 0\n",
    "        right = len(s) - 1\n",
    "            \n",
    "        while left < right:\n",
    "\n",
    "            # while not s[left].isalnum() and left<right:\n",
    "            #     left += 1\n",
    "\n",
    "            # while not s[right].isalnum() and left<right:\n",
    "            #     right -= 1\n",
    "\n",
    "            # The above code was my original code but was not working with the test case: \".a\"\n",
    "            # After asking chatGPT for a solution it gave me the following code below. I was \n",
    "            # confused and thought the above was the same as the below. ChatGPT then explained \n",
    "            # the following: \n",
    "            \n",
    "            # In Python, the and operator evaluates from left to right, and stops (short-circuits) \n",
    "            # as soon as it finds a condition that is False.\n",
    "            \n",
    "            while left < right and not s[left].isalnum():\n",
    "                left += 1\n",
    "                \n",
    "            while left < right and not s[right].isalnum():\n",
    "                right -= 1\n",
    "            \n",
    "            if s[left].lower() != s[right].lower():\n",
    "                return False\n",
    "            \n",
    "            left += 1\n",
    "            right -= 1\n",
    "\n",
    "        return True"
   ]
  },
  {
   "cell_type": "markdown",
   "id": "65bce0c0-da35-44c7-b5c2-19ed09926034",
   "metadata": {},
   "source": [
    "- s[0] = '.' → not s[0].isalnum() is True\n",
    "- left < right is also True\n",
    "- So it enters the loop, and increments left = 1\n",
    "- Now left == right == 1, but the main loop expects to compare characters, which now doesn’t happen anymore since loop exits (left < right is False)\n",
    "\n",
    "💥 So you skip checking if \"a\" is a valid single-character palindrome, which it is."
   ]
  },
  {
   "cell_type": "code",
   "execution_count": 42,
   "id": "bfe42b16-9a78-48f4-ad90-f4d8afe96fdf",
   "metadata": {},
   "outputs": [
    {
     "data": {
      "text/plain": [
       "True"
      ]
     },
     "execution_count": 42,
     "metadata": {},
     "output_type": "execute_result"
    }
   ],
   "source": [
    "s = Solution()\n",
    "s.isPalindrome(\".a\")"
   ]
  },
  {
   "cell_type": "code",
   "execution_count": null,
   "id": "5b16e052-cacc-4db0-a31b-b8351637273c",
   "metadata": {},
   "outputs": [],
   "source": []
  },
  {
   "cell_type": "markdown",
   "id": "290189f0-0ea6-42e0-8496-290bac715b9e",
   "metadata": {},
   "source": [
    "<hr>\n",
    "\n",
    "# ChatGPT Solution"
   ]
  },
  {
   "cell_type": "code",
   "execution_count": null,
   "id": "1dc753f2-0a0b-4f89-900a-c6515b4c7688",
   "metadata": {},
   "outputs": [],
   "source": [
    "class Solution:\n",
    "    def isPalindrome(self, s: str) -> bool:\n",
    "        left, right = 0, len(s) - 1\n",
    "        \n",
    "        while left < right:\n",
    "            # Move left forward if not alphanumeric\n",
    "            while left < right and not s[left].isalnum():\n",
    "                left += 1\n",
    "            # Move right backward if not alphanumeric\n",
    "            while left < right and not s[right].isalnum():\n",
    "                right -= 1\n",
    "            \n",
    "            # Compare characters\n",
    "            if s[left].lower() != s[right].lower():\n",
    "                return False\n",
    "            \n",
    "            left += 1\n",
    "            right -= 1\n",
    "        \n",
    "        return True"
   ]
  }
 ],
 "metadata": {
  "kernelspec": {
   "display_name": "Python 3 (ipykernel)",
   "language": "python",
   "name": "python3"
  },
  "language_info": {
   "codemirror_mode": {
    "name": "ipython",
    "version": 3
   },
   "file_extension": ".py",
   "mimetype": "text/x-python",
   "name": "python",
   "nbconvert_exporter": "python",
   "pygments_lexer": "ipython3",
   "version": "3.12.7"
  }
 },
 "nbformat": 4,
 "nbformat_minor": 5
}

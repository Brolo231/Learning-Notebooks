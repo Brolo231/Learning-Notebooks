{
 "cells": [
  {
   "cell_type": "markdown",
   "id": "be26b434-0227-49fe-9193-4d96d8ce3d43",
   "metadata": {},
   "source": [
    "# What is a database? \n",
    "\n",
    "#### A database is a collection of related data used to support the activities of a particular organization\n",
    "\n",
    "<hr>\n",
    "\n",
    "## Database properties\n",
    "\n",
    "- It is a representation of some aspect of the real world or a collection of data elements (facts) representing real-world information.\n",
    "- A database is logical, coherent, and internally consistent.\n",
    "- A database is designed, built, and populated with a purpose.\n",
    "- Each data item is stored in a field.\n",
    "- A combination of fields make up a record and a combination of records together make up a table.\n",
    "\n",
    "**Note:** A database may contain multiple tables\n",
    "\n",
    "<hr>\n",
    "\n",
    "## Database Management system\n",
    "\n",
    "A database management system (DBMS) is a collection of programs that enables users to create and maintain databases and control all access to them. The primary goal of a DBMS is to provide an environment that is both convenient and efficient for users to retrieve and store information.\n",
    "\n",
    "<hr>\n",
    "\n",
    "<div style=\"text-align: center; font-size: 2rem; color: rgb(255, 105, 97);\">EXERCISE 2 - Pg 16</div>\n",
    "\n",
    "1. What is a database management system (DBMS)?\n",
    "\n",
    "<div style=\"color: lightgreen;\">\n",
    "    A DBMS is the software that allows users and programs to interact with the database. It manages data storage, retrieval, security, and concurrency.\n",
    "</div>\n",
    "\n",
    "2. What are the properties of a DBMS?\n",
    "\n",
    "<div style=\"color: lightgreen;\">\n",
    "    Data storage management, data manipulation, concurrency control \n",
    "</div>\n",
    "\n",
    "3. Provide three examples of a real-world database (e.g., the library contains a database of books).\n",
    "\n",
    "<div style=\"color: lightgreen;\">\n",
    "    A hospital contains a database of patient information \n",
    "    A retail store contains a database of customer related info \n",
    "    The music app on your phone contains a database to store and retrieve music \n",
    "</div>"
   ]
  }
 ],
 "metadata": {
  "kernelspec": {
   "display_name": "Python 3 (ipykernel)",
   "language": "python",
   "name": "python3"
  },
  "language_info": {
   "codemirror_mode": {
    "name": "ipython",
    "version": 3
   },
   "file_extension": ".py",
   "mimetype": "text/x-python",
   "name": "python",
   "nbconvert_exporter": "python",
   "pygments_lexer": "ipython3",
   "version": "3.12.7"
  }
 },
 "nbformat": 4,
 "nbformat_minor": 5
}

{
 "cells": [
  {
   "cell_type": "markdown",
   "id": "1f507bd9-be05-4fbc-a98e-4cb19364073e",
   "metadata": {},
   "source": [
    "## <a href=\"https://leetcode.com/problems/valid-palindrome/description/\">125. Valid Palindrome</a>\n",
    "<span style=\"background-color: lightgreen; color: black;\">easy<span>\n",
    "\n",
    "\n",
    "\n",
    "A phrase is a palindrome if, after converting all uppercase letters into lowercase letters and removing all non-alphanumeric characters, it reads the same forward and backward. Alphanumeric characters include letters and numbers.\n",
    "\n",
    "Given a string s, return true if it is a palindrome, or false otherwise.\n",
    "\n",
    " \n",
    "\n",
    "Example 1: \n",
    "\n",
    "```Input: s = \"A man, a plan, a canal: Panama\"```\\\n",
    "```Output: true``` \\\n",
    "Explanation: \"amanaplanacanalpanama\" is a palindrome.\n",
    "\n",
    "Example 2:\n",
    "\n",
    "```Input: s = \"race a car\"```\n",
    "```Output: false```\\\n",
    "Explanation: \"raceacar\" is not a palindrome.\n",
    "\n",
    "Example 3:\n",
    "\n",
    "```Input: s = \" \"```\\\n",
    "```Output: true```\\\n",
    "Explanation: s is an empty string \"\" after removing non-alphanumeric characters. \\\n",
    "Since an empty string reads the same forward and backward, it is a palindrome.\n",
    "\n",
    "```class Solution:```\\\n",
    "```    def isPalindrome(self, s: str) -> bool:```"
   ]
  },
  {
   "cell_type": "code",
   "execution_count": 2,
   "id": "d393fb37-43b2-4eb5-9338-59140397eb72",
   "metadata": {},
   "outputs": [],
   "source": [
    "class Solution:\n",
    "    def isPalindrome(self, s: str) -> bool:\n",
    "\n",
    "        left = 0\n",
    "        right = len(s) - 1\n",
    "            \n",
    "        while left < right:\n",
    "\n",
    "            # while not s[left].isalnum() and left<right:\n",
    "            #     left += 1\n",
    "\n",
    "            # while not s[right].isalnum() and left<right:\n",
    "            #     right -= 1\n",
    "\n",
    "            # The above code was my original code but was not working with the test case: \".a\"\n",
    "            # After asking chatGPT for a solution it gave me the following code below. I was \n",
    "            # confused and thought the above was the same as the below. ChatGPT then explained \n",
    "            # the following: \n",
    "            \n",
    "            # In Python, the and operator evaluates from left to right, and stops (short-circuits) \n",
    "            # as soon as it finds a condition that is False.\n",
    "            \n",
    "            while left < right and not s[left].isalnum():\n",
    "                left += 1\n",
    "                \n",
    "            while left < right and not s[right].isalnum():\n",
    "                right -= 1\n",
    "            \n",
    "            if s[left].lower() != s[right].lower():\n",
    "                return False\n",
    "            \n",
    "            left += 1\n",
    "            right -= 1\n",
    "\n",
    "        return True"
   ]
  },
  {
   "cell_type": "markdown",
   "id": "35e223a5-3c5b-4b7b-9efa-789e1298dae2",
   "metadata": {},
   "source": [
    "- s[0] = '.' → not s[0].isalnum() is True\n",
    "- left < right is also True\n",
    "- So it enters the loop, and increments left = 1\n",
    "- Now left == right == 1, but the main loop expects to compare characters, which now doesn’t happen anymore since loop exits (left < right is False)\n",
    "\n",
    "💥 So you skip checking if \"a\" is a valid single-character palindrome, which it is."
   ]
  },
  {
   "cell_type": "code",
   "execution_count": 3,
   "id": "a8824e28-916f-4b61-a187-ff93b552648b",
   "metadata": {},
   "outputs": [
    {
     "data": {
      "text/plain": [
       "True"
      ]
     },
     "execution_count": 3,
     "metadata": {},
     "output_type": "execute_result"
    }
   ],
   "source": [
    "s = Solution()\n",
    "s.isPalindrome(\".a\")"
   ]
  },
  {
   "cell_type": "markdown",
   "id": "f448b273-6b56-42ef-a160-e4d93d0f0751",
   "metadata": {},
   "source": [
    "<hr>\n",
    "\n",
    "# ChatGPT Solution"
   ]
  },
  {
   "cell_type": "code",
   "execution_count": 6,
   "id": "a104b4c2-72ff-4646-810f-c3ab702cbc62",
   "metadata": {},
   "outputs": [
    {
     "data": {
      "text/plain": [
       "True"
      ]
     },
     "execution_count": 6,
     "metadata": {},
     "output_type": "execute_result"
    }
   ],
   "source": [
    "class Solution:\n",
    "    def isPalindrome(self, s: str) -> bool:\n",
    "        left, right = 0, len(s) - 1\n",
    "        \n",
    "        while left < right:\n",
    "            # Move left forward if not alphanumeric\n",
    "            while left < right and not s[left].isalnum():\n",
    "                left += 1\n",
    "            # Move right backward if not alphanumeric\n",
    "            while left < right and not s[right].isalnum():\n",
    "                right -= 1\n",
    "            \n",
    "            # Compare characters\n",
    "            if s[left].lower() != s[right].lower():\n",
    "                return False\n",
    "            \n",
    "            left += 1\n",
    "            right -= 1\n",
    "        \n",
    "        return True\n",
    "\n",
    "s = Solution()\n",
    "s.isPalindrome(\"A man, a plan, a canal: Panama\")"
   ]
  }
 ],
 "metadata": {
  "kernelspec": {
   "display_name": "Python 3 (ipykernel)",
   "language": "python",
   "name": "python3"
  },
  "language_info": {
   "codemirror_mode": {
    "name": "ipython",
    "version": 3
   },
   "file_extension": ".py",
   "mimetype": "text/x-python",
   "name": "python",
   "nbconvert_exporter": "python",
   "pygments_lexer": "ipython3",
   "version": "3.12.7"
  }
 },
 "nbformat": 4,
 "nbformat_minor": 5
}

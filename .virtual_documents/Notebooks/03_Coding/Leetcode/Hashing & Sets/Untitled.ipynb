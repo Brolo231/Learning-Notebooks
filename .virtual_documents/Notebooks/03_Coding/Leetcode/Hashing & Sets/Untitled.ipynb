





from collections import defaultdict

class Solution:
    def topKFrequent(self, nums: list[int], k: int) -> list[int]:

        seen = defaultdict(0)

        for idx, num in enumerate(nums):
            seen[num] += 1

        print(seen)

s = Solution()
s.topKFrequent([1,1,1,2,2,3], 2)


seen = {}
seen[3] = 1
seen[3] += 1
seen




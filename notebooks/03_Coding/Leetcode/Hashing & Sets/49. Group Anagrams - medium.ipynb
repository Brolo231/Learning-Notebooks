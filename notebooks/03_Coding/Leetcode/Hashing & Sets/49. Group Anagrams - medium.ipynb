{
 "cells": [
  {
   "cell_type": "markdown",
   "id": "5bc9830d-9803-4519-b053-688c35e9e157",
   "metadata": {},
   "source": [
    "## <a href=\"https://leetcode.com/problems/group-anagrams/description/\">49. Group Anagrams</a>\n",
    "<span style=\"background-color: yellow; color: black;\">medium<span>\n",
    "\n",
    "Given an array of strings strs, group the anagrams together. You can return the answer in any order.\n",
    "\n",
    "\n",
    "Example 1:\n",
    "\n",
    "```Input: strs = [\"eat\",\"tea\",\"tan\",\"ate\",\"nat\",\"bat\"]```\\\n",
    "```Output: [[\"bat\"],[\"nat\",\"tan\"],[\"ate\",\"eat\",\"tea\"]]```\n",
    "\n",
    "Explanation:\n",
    "\n",
    "There is no string in strs that can be rearranged to form \"bat\". \\\n",
    "The strings \"nat\" and \"tan\" are anagrams as they can be rearranged to form each other. \\\n",
    "The strings \"ate\", \"eat\", and \"tea\" are anagrams as they can be rearranged to form each other. \n",
    "\n",
    "Example 2:\n",
    "\n",
    "```Input: strs = [\"\"]```\\\n",
    "```Output: [[\"\"]]```\n",
    "\n",
    "Example 3:\n",
    "\n",
    "```Input: strs = [\"a\"]```\\\n",
    "```Output: [[\"a\"]]```\n",
    "\n",
    " \n",
    "\n",
    "Constraints:\n",
    "\n",
    "1 <= strs.length <= 104 \\\n",
    "0 <= strs[i].length <= 100 \\\n",
    "strs[i] consists of lowercase English letters.\n",
    "\n",
    "```class Solution:```\\\n",
    "```    def groupAnagrams(self, strs: List[str]) -> List[List[str]]:```"
   ]
  },
  {
   "cell_type": "code",
   "execution_count": 1,
   "id": "c06b61d1-3aa7-491f-8ace-d27eaa397d4a",
   "metadata": {},
   "outputs": [
    {
     "data": {
      "text/plain": [
       "[['eat', 'tea', 'ate'], ['tan', 'nat'], ['bat']]"
      ]
     },
     "execution_count": 1,
     "metadata": {},
     "output_type": "execute_result"
    }
   ],
   "source": [
    "class Solution:\n",
    "    def groupAnagrams(self, strs: list[str]) -> list[list[str]]:\n",
    "\n",
    "        seen = []\n",
    "        for value in strs:\n",
    "            for idx, pair in enumerate(seen):\n",
    "                if sorted(value) == sorted(pair[0]):\n",
    "                    seen[idx].append(value)\n",
    "                    break\n",
    "                if sorted(value) != sorted(pair[0]) and idx == len(seen) - 1:\n",
    "                    seen.append([value])\n",
    "                    break\n",
    "            if not seen:\n",
    "                seen.append([strs[0]])\n",
    "\n",
    "        return seen\n",
    "\n",
    "s = Solution()\n",
    "s.groupAnagrams([\"eat\",\"tea\",\"tan\",\"ate\",\"nat\",\"bat\"])"
   ]
  },
  {
   "cell_type": "markdown",
   "id": "49222b8e-c5c3-4174-a202-fb06af38618c",
   "metadata": {},
   "source": [
    "### Using a nested for loop to iterate over each value in strs and compare it to the 'groups' currently added to *seen* makes sense to me. However, with a time complexity of $O(n² * k log k)$ (n = # of words, k = word length) this solution is insufficient for leetcode's grader. \n",
    "\n",
    "### ChatGPT Solution: "
   ]
  },
  {
   "cell_type": "code",
   "execution_count": 2,
   "id": "8bf69a17-e2cd-4ec2-8f32-58557ad973c2",
   "metadata": {},
   "outputs": [
    {
     "data": {
      "text/plain": [
       "[['eat', 'tea', 'ate'], ['tan', 'nat'], ['bat']]"
      ]
     },
     "execution_count": 2,
     "metadata": {},
     "output_type": "execute_result"
    }
   ],
   "source": [
    "class Solution:\n",
    "    def groupAnagrams(self, strs: list[str]) -> list[list[str]]:\n",
    "        anagrams = {}\n",
    "\n",
    "        for word in strs:\n",
    "            key = ''.join(sorted(word))  # use sorted string as the key\n",
    "            if key not in anagrams:\n",
    "                anagrams[key] = []\n",
    "            anagrams[key].append(word)\n",
    "\n",
    "        return list(anagrams.values())\n",
    "\n",
    "s = Solution()\n",
    "s.groupAnagrams([\"eat\",\"tea\",\"tan\",\"ate\",\"nat\",\"bat\"])"
   ]
  }
 ],
 "metadata": {
  "kernelspec": {
   "display_name": "Python 3 (ipykernel)",
   "language": "python",
   "name": "python3"
  },
  "language_info": {
   "codemirror_mode": {
    "name": "ipython",
    "version": 3
   },
   "file_extension": ".py",
   "mimetype": "text/x-python",
   "name": "python",
   "nbconvert_exporter": "python",
   "pygments_lexer": "ipython3",
   "version": "3.12.7"
  }
 },
 "nbformat": 4,
 "nbformat_minor": 5
}

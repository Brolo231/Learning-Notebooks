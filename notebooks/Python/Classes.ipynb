{
 "cells": [
  {
   "cell_type": "markdown",
   "id": "74be4870-9cbf-486c-902f-663003976928",
   "metadata": {},
   "source": [
    "# Classes\n",
    "\n",
    "A class in Python is a blueprint for creating objects. It defines a set of attributes (data) and methods (functions) that describe an entity.\n",
    "\n",
    "**Why Use Classes?** \\\n",
    "\t• Encapsulation: Group related data and methods together. \\\n",
    "\t• Reusability: Code written once can be used multiple times. \\\n",
    "\t• Abstraction: Hide implementation details from users. \\\n",
    "\t• Scalability: Makes it easier to manage large programs. "
   ]
  },
  {
   "cell_type": "markdown",
   "id": "4d0ca95d-f746-40fa-8062-4c1cca4beea9",
   "metadata": {},
   "source": [
    "<hr>"
   ]
  },
  {
   "cell_type": "markdown",
   "id": "53f7886f-5ed5-4784-aaf3-662e882b3cf7",
   "metadata": {},
   "source": [
    "## 1. Defining a Class and Creating Objects\n",
    "\n",
    "A class is defined using the class keyword, and objects (instances) are created from it.\n",
    "\n",
    "**Example: Creating a Simple Class**"
   ]
  },
  {
   "cell_type": "code",
   "execution_count": null,
   "id": "e25c9c38-a651-41f3-a748-d906e4e5fc9e",
   "metadata": {},
   "outputs": [],
   "source": [
    "class Person:\n",
    "    def __init__(self, name, age):\n",
    "        self.name = name  # Attribute\n",
    "        self.age = age    # Attribute\n",
    "\n",
    "    def greet(self):  # Method\n",
    "        return f\"Hello, my name is {self.name} and I am {self.age} years old.\"\n",
    "\n",
    "# Creating objects (instances)\n",
    "person1 = Person(\"Alice\", 25)\n",
    "person2 = Person(\"Bob\", 30)\n",
    "\n",
    "print(person1.greet())  # Output: Hello, my name is Alice and I am 25 years old.\n",
    "print(person2.greet())  # Output: Hello, my name is Bob and I am 30 years old."
   ]
  },
  {
   "cell_type": "markdown",
   "id": "84a184ad-7059-45d5-b9b5-85d546d8da3c",
   "metadata": {},
   "source": [
    "**Key Points** \n",
    "\n",
    "\t• `__init__` is the constructor (special method called when an object is created). \n",
    "\t• self refers to the instance of the class. \n",
    "\t• Attributes (name, age) store object data. \n",
    "\t• Methods (greet) define object behavior.\n",
    "\n",
    "So when we call the above class and create an object with parameters (\"Alice\", 25) the following happens: \\\n",
    "&nbsp;&nbsp;&nbsp;&nbsp;&nbsp;&nbsp;&nbsp;&nbsp;1. `def __init__` is called when created \\\n",
    "&nbsp;&nbsp;&nbsp;&nbsp;&nbsp;&nbsp;&nbsp;&nbsp;2. self.name = name -> becomes -> self.name = \"Alice\" \\\n",
    "&nbsp;&nbsp;&nbsp;&nbsp;&nbsp;&nbsp;&nbsp;&nbsp;3. ^- same for age \\\n",
    "&nbsp;&nbsp;&nbsp;&nbsp;&nbsp;&nbsp;&nbsp;&nbsp;4. We then have a method set up so we call the method with person1.greet() this executes the method. "
   ]
  },
  {
   "cell_type": "code",
   "execution_count": null,
   "id": "2da84503-a344-4e02-8780-249948ccc95e",
   "metadata": {},
   "outputs": [],
   "source": []
  }
 ],
 "metadata": {
  "kernelspec": {
   "display_name": "Python 3 (ipykernel)",
   "language": "python",
   "name": "python3"
  },
  "language_info": {
   "codemirror_mode": {
    "name": "ipython",
    "version": 3
   },
   "file_extension": ".py",
   "mimetype": "text/x-python",
   "name": "python",
   "nbconvert_exporter": "python",
   "pygments_lexer": "ipython3",
   "version": "3.12.7"
  }
 },
 "nbformat": 4,
 "nbformat_minor": 5
}

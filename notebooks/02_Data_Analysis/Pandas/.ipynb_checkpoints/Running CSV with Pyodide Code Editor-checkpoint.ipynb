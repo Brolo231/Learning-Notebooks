{
 "cells": [
  {
   "cell_type": "markdown",
   "id": "b6cc113b-d7fc-496e-b36b-75ebf0f3b05b",
   "metadata": {},
   "source": [
    "# How to run a csv dataset in the pyodide code editor on the home screen"
   ]
  },
  {
   "cell_type": "code",
   "execution_count": null,
   "id": "9edc1fd3-293d-4ef8-bb24-7cec2c4e792e",
   "metadata": {},
   "outputs": [],
   "source": [
    "from pyodide.http import open_url\n",
    "import pandas as pd\n",
    "import io\n",
    "\n",
    "url = \"https://brolo231.github.io/Learning-Notebooks/datasets/unclean_dataset.csv\"\n",
    "response = open_url(url)\n",
    "data_str = response.read()\n",
    "\n",
    "df = pd.read_csv(io.StringIO(data_str), on_bad_lines='skip')\n",
    "print(df.head())"
   ]
  },
  {
   "cell_type": "markdown",
   "id": "ac725f3f-06e2-4e11-a49a-eed9b0822922",
   "metadata": {},
   "source": [
    "<hr>\n",
    "\n",
    "## We can also update the output of pandas dataframes with the following: "
   ]
  },
  {
   "cell_type": "code",
   "execution_count": null,
   "id": "8e58eef3-a432-43ee-a879-af0ac14bf71f",
   "metadata": {},
   "outputs": [],
   "source": [
    "# Set display options to show all columns\n",
    "pd.set_option('display.max_columns', None)   # Show all columns\n",
    "pd.set_option('display.width', None)         # Don't wrap lines based on screen width\n",
    "pd.set_option('display.max_colwidth', None)  # Show full content in each cell"
   ]
  }
 ],
 "metadata": {
  "kernelspec": {
   "display_name": "Python 3 (ipykernel)",
   "language": "python",
   "name": "python3"
  },
  "language_info": {
   "codemirror_mode": {
    "name": "ipython",
    "version": 3
   },
   "file_extension": ".py",
   "mimetype": "text/x-python",
   "name": "python",
   "nbconvert_exporter": "python",
   "pygments_lexer": "ipython3",
   "version": "3.12.7"
  }
 },
 "nbformat": 4,
 "nbformat_minor": 5
}

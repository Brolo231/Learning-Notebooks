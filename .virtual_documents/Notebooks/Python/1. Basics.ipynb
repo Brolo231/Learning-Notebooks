


# __init__ is what initializes self.name and self.age - when a class object is created __init__ is automatically called

class Dog:
    def __init__(self, name, age):
        self.name = name      # instance attribute
        self.age = age        # instance attribute

    # bark is a method of the class Dog that needs to be called manually
    
    def bark(self):           # method
        print(f"{self.name} says Woof!")

# Create an object (instance)
my_dog = Dog("Rex", 5)

#   1.	Allocates memory for a new Dog object.
#	2.	Calls __init__(self, "Rex", 5).
#   3.	Sets:
#   •	my_dog.name = "Rex"
#   •	my_dog.age = 5


# Access methods and attributes
print(my_dog.name)  # Output: Rex
print(my_dog.age)   # Output: 5
my_dog.bark()       # Output: Rex says Woof!





class Course:
    def __init__(self, course_code, course_name, max_students):
        self.course_code = course_code
        self.course_name = course_name
        self.max_students = max_students
        self.student_list = []
    

    def register_student(self, student_name):
        if len(self.student_list) < self.max_students:
            self.student_list.append(student_name)
        else:
            print(f'Max capacity reached! Cannot register {student_name}')

    def unregister_student(self, student_name):
        if student_name in self.student_list:
            # ChatGPT:
            # You’re wrapping student_name in an f-string, which isn’t wrong 
            # if it’s a string, but it’s redundant and can cause bugs if someone 
            # ever passes a non-string accidentally.

            # Instead use:
            # self.student_list.remove(student_name)
            self.student_list.remove(f'{student_name}')
        else:
            print(f'{student_name} is not registered')

    def course_info(self):
        print(f'Course {self.course_code}: {self.course_name}')
        print(f'Students registered: {len(self.student_list)}')
        print(f'Seats remaining: {self.max_students - len(self.student_list)}')
        


c = Course("CSC101", "Intro to Computer Science", 2)


c.register_student("Alice")


c.register_student("Bob")


c.register_student("Charlie")


c.unregister_student("Alice")


c.course_info()








class Book:
    def __init__(self, title, author, isbn, copies_total):
        # Public attributes
        self.title = title
        self.author = author
        self.isbn = isbn 
        # Private attributes
        self.__copies_total = copies_total
        self.__copies_available = copies_total
        self.__borrow_history = []

    # methods 

    def borrow_book(self, borrower_name):
        if self.__copies_available > 0:
            self.__copies_available -= 1
            self.__borrow_history.append(borrower_name)
        else:
            print("No copies available")

    def return_book(self, borrower_name):
        if borrower_name in self.__borrow_history:
            self.__borrow_history.remove(borrower_name)
            self.__copies_available += 1
        else:
            print(f'Borrower name "{borrower_name}" not found')


    # getters
    
    # __copies_available
    def get_available_copies(self):
        return self.__copies_available

    
    # ChatGPT: 
    # This exposes internal data — a user could do:
    # book.get_borrow_history().append("FakeUser")
    # ✅ Fix:
    # def get_borrow_history(self):
    #     return self.__borrow_history.copy()
    # This way, they get a copy of the list and can’t modify the real one.
    def get_borrow_history(self):
        return self.__borrow_history

    # setters

    def set_total_copies(self, new_total):
        # must be equal to or higher than number of currently borrowered books
        # 
        if new_total >= len(self.__borrow_history):
            self.__copies_total = new_total
            self.__copies_available = self.__copies_total - len(self.__borrow_history)
        else:
            print(f'Copies available must be equal to or higher than number of borrowed books: {len(self.__borrow_history)}')



book = Book("1984", "George Orwell", "ISBN123", 3)


book.borrow_book("Alice")


book.borrow_book("Bob")


book.borrow_book("Charlie")


book.borrow_book("Dave")


print(book.get_available_copies())


book.return_book("Alice")


print(book.get_available_copies())


book.set_total_copies(2)


book.set_total_copies(0)


print(book.get_borrow_history())








book = Book("1984", "Orwell", "ISBN123", 3)

book.borrow_book("Alice")
book.borrow_book("Bob")
book.borrow_book("Charlie")
book.borrow_book("Dave")  # No copies available

print(book.get_available_copies())  # 0

book.return_book("Zoe")  # Not found
book.return_book("Alice")

book.set_total_copies(1)  # Should fail (still 2 borrowed)
book.set_total_copies(4)  # Should work

print(book.get_available_copies())  # Should now be 2
print(book.get_borrow_history())    # ['Bob', 'Charlie']




{
 "cells": [
  {
   "cell_type": "markdown",
   "id": "2b914ad9-cef4-4469-b5c9-bb0076e3123e",
   "metadata": {},
   "source": [
    "# Introduction to DDL (Data definition Language) with MySQL \n",
    "\n",
    "<hr>\n",
    "\n",
    "**Data Definition Language (DDL) statements define and manage database structures like tables, indexes, and schemas. Key commands include:**\n",
    "\n",
    "- ```CREATE```: To create new objects (e.g., tables, databases).\n",
    "- ```ALTER```: To modify existing objects (e.g., add/remove columns, change data types).\n",
    "- ```DROP```: To delete objects (e.g., tables).\n",
    "- ```RENAME```: To rename objects.\n",
    "- ```TRUNCATE```: To remove all data from a table while keeping the structure (technically DML but often grouped with DDL for table management).\n",
    "\n",
    "**DDL operations are auto-committed in MySQL (no rollback unless in a transaction with InnoDB). They can lock tables, impacting performance in production.**"
   ]
  },
  {
   "cell_type": "code",
   "execution_count": null,
   "id": "8aa4e6bd-7f69-4f86-80bb-2da10c3a7c14",
   "metadata": {},
   "outputs": [],
   "source": []
  }
 ],
 "metadata": {
  "kernelspec": {
   "display_name": "Python 3 (ipykernel)",
   "language": "python",
   "name": "python3"
  },
  "language_info": {
   "codemirror_mode": {
    "name": "ipython",
    "version": 3
   },
   "file_extension": ".py",
   "mimetype": "text/x-python",
   "name": "python",
   "nbconvert_exporter": "python",
   "pygments_lexer": "ipython3",
   "version": "3.12.7"
  }
 },
 "nbformat": 4,
 "nbformat_minor": 5
}

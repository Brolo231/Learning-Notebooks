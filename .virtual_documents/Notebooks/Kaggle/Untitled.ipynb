# Load the dataset
import pandas as pd
df = pd.read_csv('datasets/personality_dataset.csv')







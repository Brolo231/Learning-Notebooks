{
 "cells": [
  {
   "cell_type": "markdown",
   "id": "f26205c6-2d0c-4a1f-ac85-486b08586014",
   "metadata": {},
   "source": [
    "## <a href=\"https://leetcode.com/problems/valid-anagram/description/\">242. Valid Anagram</a>\n",
    "<span style=\"background-color: lightgreen; color: black;\">easy<span>\n",
    "\n",
    "Given two strings s and t, return true if t is an anagram of s, and false otherwise.\n",
    "\n",
    " \n",
    "\n",
    "Example 1:\n",
    "\n",
    "```Input: s = \"anagram\", t = \"nagaram\"```\\\n",
    "```Output: true```\n",
    "\n",
    "Example 2:\n",
    "\n",
    "```Input: s = \"rat\", t = \"car\"```\\\n",
    "```Output: false```\n",
    "\n",
    " \n",
    "\n",
    "Constraints:\n",
    "\n",
    "1 <= s.length, t.length <= 5 * 104\n",
    "s and t consist of lowercase English letters.\n",
    " \n",
    "\n",
    "Follow up: What if the inputs contain Unicode characters? How would you adapt your solution to such a case?\n",
    "\n",
    "```class Solution:```\\\n",
    "```    def isAnagram(self, s: str, t: str) -> bool:```\n",
    "        "
   ]
  },
  {
   "cell_type": "code",
   "execution_count": 1,
   "id": "533be2cb-804e-4cc9-bac9-ec4ff7d136cc",
   "metadata": {},
   "outputs": [
    {
     "data": {
      "text/plain": [
       "True"
      ]
     },
     "execution_count": 1,
     "metadata": {},
     "output_type": "execute_result"
    }
   ],
   "source": [
    "class Solution:\n",
    "    def isAnagram(self, s: str, t: str) -> bool:\n",
    "        if len(s) == len(t):\n",
    "            for i in s:\n",
    "                if i in t:\n",
    "                    continue\n",
    "                else:\n",
    "                    return False\n",
    "            return True\n",
    "        else:\n",
    "            return False\n",
    "\n",
    "s = Solution()\n",
    "s.isAnagram(\"aacc\", \"ccac\")"
   ]
  },
  {
   "cell_type": "markdown",
   "id": "5957a8f9-ca5f-4724-aa7c-71c1da18e2c0",
   "metadata": {},
   "source": [
    "^^ Incorrect\n",
    "\n",
    "**Second attempt:** "
   ]
  },
  {
   "cell_type": "code",
   "execution_count": 2,
   "id": "e448c7d2-0e4f-4d88-9911-d96c755971bb",
   "metadata": {},
   "outputs": [
    {
     "data": {
      "text/plain": [
       "True"
      ]
     },
     "execution_count": 2,
     "metadata": {},
     "output_type": "execute_result"
    }
   ],
   "source": [
    "class Solution:\n",
    "    def isAnagram(self, s: str, t: str) -> bool:\n",
    "\n",
    "        seen = {}\n",
    "        if len(s) != len(t):\n",
    "            return False\n",
    "            \n",
    "        for letter in s:\n",
    "            if letter in seen:\n",
    "                seen[letter] += 1\n",
    "            else:\n",
    "                seen[letter] = 1\n",
    "\n",
    "        for letter in t:\n",
    "            if letter in seen and seen[letter] != 0:\n",
    "                seen[letter] -= 1\n",
    "            else:\n",
    "                return False\n",
    "\n",
    "        return True\n",
    "\n",
    "s = Solution()\n",
    "s.isAnagram(\"caac-\", \"acca-\")"
   ]
  },
  {
   "cell_type": "code",
   "execution_count": 3,
   "id": "a34d5206-40e9-4ee0-81a1-787f390576d8",
   "metadata": {},
   "outputs": [],
   "source": [
    "# Cheating solution is to use the sorted() method"
   ]
  },
  {
   "cell_type": "code",
   "execution_count": 4,
   "id": "7b050ce5-492d-41c2-a55b-cbbcce8da63c",
   "metadata": {},
   "outputs": [
    {
     "data": {
      "text/plain": [
       "False"
      ]
     },
     "execution_count": 4,
     "metadata": {},
     "output_type": "execute_result"
    }
   ],
   "source": [
    "class Solution:\n",
    "    def isAnagram(self, s: str, t: str) -> bool:\n",
    "        if sorted(s) == sorted(t):\n",
    "            return True\n",
    "        return False\n",
    "\n",
    "s = Solution()\n",
    "s.isAnagram(\"caac-\", \"acca+\")"
   ]
  }
 ],
 "metadata": {
  "kernelspec": {
   "display_name": "Python 3 (ipykernel)",
   "language": "python",
   "name": "python3"
  },
  "language_info": {
   "codemirror_mode": {
    "name": "ipython",
    "version": 3
   },
   "file_extension": ".py",
   "mimetype": "text/x-python",
   "name": "python",
   "nbconvert_exporter": "python",
   "pygments_lexer": "ipython3",
   "version": "3.12.7"
  }
 },
 "nbformat": 4,
 "nbformat_minor": 5
}

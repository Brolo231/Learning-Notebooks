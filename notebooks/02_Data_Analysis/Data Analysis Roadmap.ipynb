{
 "cells": [
  {
   "cell_type": "markdown",
   "id": "fa43c21d-f31a-46ca-b670-0a0c3168e05b",
   "metadata": {},
   "source": [
    "<img src=\"data_analyst_roadmap.JPG\" alt=\"data_analysis_roadmap\" style=\"display: flex; width: 95%; margin:auto;\">"
   ]
  },
  {
   "cell_type": "code",
   "execution_count": null,
   "id": "374c0b49-21e3-40aa-9974-38e25028e0b8",
   "metadata": {},
   "outputs": [],
   "source": []
  }
 ],
 "metadata": {
  "kernelspec": {
   "display_name": "Python 3 (ipykernel)",
   "language": "python",
   "name": "python3"
  },
  "language_info": {
   "codemirror_mode": {
    "name": "ipython",
    "version": 3
   },
   "file_extension": ".py",
   "mimetype": "text/x-python",
   "name": "python",
   "nbconvert_exporter": "python",
   "pygments_lexer": "ipython3",
   "version": "3.12.7"
  }
 },
 "nbformat": 4,
 "nbformat_minor": 5
}

{
 "cells": [
  {
   "cell_type": "markdown",
   "id": "0e97599a-f37e-4df5-8cfb-e32ad3f85664",
   "metadata": {},
   "source": [
    "# Lists, Tuples, Dictionaries, and Sets: What Are They?\n",
    "\n",
    "These are data structures in Python, specifically built-in collections used to store and manage groups of data efficiently. \n",
    "They each serve different purposes based on their properties.\n",
    "\n",
    "**Quick overview:**\n",
    "\n",
    "| Feature         | List (`list`)    | Tuple (`tuple`)  | Dictionary (`dict`) | Set (`set`)  |\n",
    "|---------------|-----------------|-----------------|------------------|-------------|\n",
    "| **Ordered?**  | ✅ Yes          | ✅ Yes         | ❌ No (before Python 3.7), ✅ Yes (Python 3.7+) | ❌ No |\n",
    "| **Mutable?**  | ✅ Yes          | ❌ No          | ✅ Yes         | ✅ Yes     |\n",
    "| **Allows Duplicates?** | ✅ Yes        | ✅ Yes        | ❌ No (keys must be unique) | ❌ No      |\n",
    "| **Indexing Supported?**  | ✅ Yes         | ✅ Yes        | ❌ No (keys instead of index) | ❌ No     |\n",
    "| **Best For**  | Dynamic collections   | Fixed data     | Key-value storage | Unique values |\n",
    "\n",
    "## `List[]` \n",
    "\n",
    "A list is an ordered, mutable (changeable) collection of elements. It allows duplicate values and can store different data types.\n",
    "- What do we mean by **ordered**? This means that elements maintain their position/order. If it was not ordered and we repeatedly printed the list, the order of the elemnts would be different each time. \n",
    "\n",
    "### Useful Use Cases:\n",
    "\n",
    "✅ Dynamic collections – When you need to store an ordered sequence of items that might change. \\\n",
    "✅ Storing records – E.g., a list of student names or user input. \\\n",
    "✅ Stack/Queue operations – Lists support .append() (push) and .pop() (pop)."
   ]
  },
  {
   "cell_type": "code",
   "execution_count": 1,
   "id": "21b446e0-7e54-4d1c-902b-021fa056913e",
   "metadata": {},
   "outputs": [
    {
     "name": "stdout",
     "output_type": "stream",
     "text": [
      "1\n",
      "5\n",
      "[1, 99, 4, 5, 6]\n"
     ]
    }
   ],
   "source": [
    "# Creating a list\n",
    "numbers = [1, 2, 3, 4, 5]\n",
    "mixed_list = [1, \"hello\", 3.14, [2, 4, 6]]  # Lists can store different data types\n",
    "\n",
    "# Accessing elements\n",
    "print(numbers[0])  # 1 (indexing starts from 0)\n",
    "print(numbers[-1])  # 5 (last element)\n",
    "\n",
    "# Modifying list\n",
    "numbers.append(6)  # Adds element at the end\n",
    "numbers.remove(3)  # Removes first occurrence of 3\n",
    "numbers[1] = 99    # Change second element to 99\n",
    "\n",
    "print(numbers)  # [1, 99, 4, 5, 6]"
   ]
  },
  {
   "cell_type": "markdown",
   "id": "23709815-b5bc-4f76-baa8-b5f654b96d2f",
   "metadata": {},
   "source": [
    "## `Tuple()`\n",
    "\n",
    "A tuple is an ordered, immutable (unchangeable) collection of elements. It allows duplicate values and is often used for fixed data.\n",
    "\n",
    "### Useful Use Cases:\n",
    "\n",
    "✅ Fixed data – When you don’t want values to change (e.g., GPS coordinates, settings). \\\n",
    "✅ Dictionary keys – Tuples can be used as dictionary keys (lists cannot). \\\n",
    "✅ Returning multiple values from a function:"
   ]
  },
  {
   "cell_type": "code",
   "execution_count": 2,
   "id": "293e19e6-e704-4779-ade0-d094c4123d89",
   "metadata": {},
   "outputs": [
    {
     "name": "stdout",
     "output_type": "stream",
     "text": [
      "10.5\n",
      "10.5 20.8\n"
     ]
    }
   ],
   "source": [
    "# Creating a tuple\n",
    "coordinates = (10.5, 20.8)\n",
    "user_data = (\"John\", 25, \"Engineer\")\n",
    "\n",
    "# Accessing elements\n",
    "print(coordinates[0])  # 10.5\n",
    "\n",
    "# Tuples are immutable, so this will cause an error:\n",
    "# coordinates[0] = 15  ❌ TypeError\n",
    "\n",
    "# Tuple unpacking\n",
    "x, y = coordinates\n",
    "print(x, y)  # 10.5, 20.8"
   ]
  },
  {
   "cell_type": "markdown",
   "id": "0a2c697c-40d5-4c95-9c68-74ac1d6f3abe",
   "metadata": {},
   "source": [
    "## `Dictionaries Dict{}`\n",
    "\n",
    "A dictionary is an unordered, mutable collection of key-value pairs. Each key is unique.\n",
    "\n",
    "### Useful Use Cases:\n",
    "\n",
    "✅ Fast lookups – Retrieving values using keys (O(1) complexity). \\\n",
    "✅ JSON-like data storage – API responses and config files often use dictionaries. \\\n",
    "✅ Counting occurrences:"
   ]
  },
  {
   "cell_type": "code",
   "execution_count": 3,
   "id": "f2440bbf-dcff-479b-b577-4cf11560cbd2",
   "metadata": {},
   "outputs": [
    {
     "name": "stdout",
     "output_type": "stream",
     "text": [
      "Alice\n",
      "{'name': 'Alice', 'age': 22, 'GPA': 3.8}\n"
     ]
    }
   ],
   "source": [
    "# Creating a dictionary\n",
    "student = {\n",
    "    \"name\": \"Alice\",\n",
    "    \"age\": 21,\n",
    "    \"major\": \"Computer Science\"\n",
    "}\n",
    "\n",
    "# Accessing values\n",
    "print(student[\"name\"])  # Alice\n",
    "\n",
    "# Modifying dictionary\n",
    "student[\"age\"] = 22  # Update age\n",
    "student[\"GPA\"] = 3.8  # Add new key-value pair\n",
    "\n",
    "# Removing an element\n",
    "del student[\"major\"]\n",
    "\n",
    "print(student)  # {'name': 'Alice', 'age': 22, 'GPA': 3.8}"
   ]
  },
  {
   "cell_type": "markdown",
   "id": "a2236a23-ebb4-4139-a2c5-a6d930901d3e",
   "metadata": {},
   "source": [
    "### Another Useful Example: "
   ]
  },
  {
   "cell_type": "code",
   "execution_count": 4,
   "id": "ba500c6d-9e5b-4710-9740-ed40f4a7101e",
   "metadata": {},
   "outputs": [
    {
     "name": "stdout",
     "output_type": "stream",
     "text": [
      "Counter({'apple': 2, 'banana': 1, 'orange': 1})\n"
     ]
    }
   ],
   "source": [
    "from collections import Counter\n",
    "words = [\"apple\", \"banana\", \"apple\", \"orange\"]\n",
    "word_count = Counter(words)\n",
    "print(word_count)  # {'apple': 2, 'banana': 1, 'orange': 1}"
   ]
  },
  {
   "cell_type": "markdown",
   "id": "3394f31d-79a5-4230-809a-47b1ea37be4f",
   "metadata": {},
   "source": [
    "### **Looping through keys and values of a dict**"
   ]
  },
  {
   "cell_type": "code",
   "execution_count": 12,
   "id": "ff5d5749-7482-4b1d-a24b-12a0deb3fa3b",
   "metadata": {},
   "outputs": [
    {
     "name": "stdout",
     "output_type": "stream",
     "text": [
      "key: age, Pair value: 25\n",
      "key: name, Pair value: John\n",
      "key: height, Pair value: 172\n"
     ]
    }
   ],
   "source": [
    "my_dict = {\n",
    "    \"age\" : 25,\n",
    "    \"name\" : \"John\",\n",
    "    \"height\" : 172\n",
    "}\n",
    "\n",
    "for key_val, pair_val in my_dict.items():\n",
    "    print(f\"key: {key_val}, Pair value: {pair_val}\")"
   ]
  },
  {
   "cell_type": "markdown",
   "id": "7538908c-426c-4bff-8594-04ddc8973dbd",
   "metadata": {},
   "source": [
    "## `Sets{} (set)`\n",
    "\n",
    "A set is an unordered, mutable collection of unique elements. It does not allow duplicates.\n",
    "\n",
    "### Useful Use Cases:\n",
    "\n",
    "✅ Removing duplicates from a list:"
   ]
  },
  {
   "cell_type": "code",
   "execution_count": 6,
   "id": "1cb637ac-98f0-4b8c-ab69-0690b4ff4be5",
   "metadata": {},
   "outputs": [
    {
     "name": "stdout",
     "output_type": "stream",
     "text": [
      "[1, 2, 3]\n"
     ]
    }
   ],
   "source": [
    "numbers = [1, 2, 3, 3, 2, 1]\n",
    "unique_numbers = list(set(numbers))\n",
    "print(unique_numbers)  # [1, 2, 3]"
   ]
  },
  {
   "cell_type": "markdown",
   "id": "30bc3ba7-eb61-4abe-8b47-134921e587b9",
   "metadata": {},
   "source": [
    "✅ Mathematical operations – Union, Intersection, Difference:"
   ]
  },
  {
   "cell_type": "code",
   "execution_count": 8,
   "id": "a54e69e8-03d4-4ff5-a451-893b5040d5b7",
   "metadata": {},
   "outputs": [
    {
     "name": "stdout",
     "output_type": "stream",
     "text": [
      "{1, 2, 3, 4, 5}\n",
      "{3}\n",
      "{1, 2}\n"
     ]
    }
   ],
   "source": [
    "set1 = {1, 2, 3}\n",
    "set2 = {3, 4, 5}\n",
    "\n",
    "print(set1 | set2)  # Union: {1, 2, 3, 4, 5}\n",
    "print(set1 & set2)  # Intersection: {3}\n",
    "print(set1 - set2)  # Difference: {1, 2}"
   ]
  },
  {
   "cell_type": "markdown",
   "id": "bd005245-7b10-4cfa-bd52-ea9eea0ac5ab",
   "metadata": {},
   "source": [
    "✅ Checking membership efficiently – Sets use hashing, making in operations faster than lists."
   ]
  },
  {
   "cell_type": "code",
   "execution_count": null,
   "id": "fafcc2be-923d-4e06-a026-eca76b5c8221",
   "metadata": {},
   "outputs": [],
   "source": []
  }
 ],
 "metadata": {
  "kernelspec": {
   "display_name": "Python 3 (ipykernel)",
   "language": "python",
   "name": "python3"
  },
  "language_info": {
   "codemirror_mode": {
    "name": "ipython",
    "version": 3
   },
   "file_extension": ".py",
   "mimetype": "text/x-python",
   "name": "python",
   "nbconvert_exporter": "python",
   "pygments_lexer": "ipython3",
   "version": "3.12.7"
  }
 },
 "nbformat": 4,
 "nbformat_minor": 5
}

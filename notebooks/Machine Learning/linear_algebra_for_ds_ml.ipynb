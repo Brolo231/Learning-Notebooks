{
 "cells": [
  {
   "cell_type": "markdown",
   "metadata": {},
   "source": [
    "# Linear Algebra for data science\n",
    "\n",
    "<hr>\n",
    "\n",
    "#### Math is crucial for data science because it provides the framework for: \n",
    "- understanding data\n",
    "- building models\n",
    "- making predictions.\n",
    "#### It's the foundation for:\n",
    "- analyzing patterns\n",
    "- developing algorithms\n",
    "- interpreting results\n",
    "#### ultimately enabling data scientists to extract valuable insights from raw data. "
   ]
  },
  {
   "cell_type": "markdown",
   "metadata": {},
   "source": [
    "<hr>\n",
    "\n",
    "## Vectors and Vector Spaces\n",
    "\n",
    "👉 Definition:\n",
    "\n",
    "A vector is an ordered list of numbers that represents a direction and magnitude in space. In 2D:\n",
    "\n",
    "<strong>V</strong> = \\begin{bmatrix} v_1 \\\\ v_2 \\end{bmatrix}\n",
    "\n",
    "In 3D:\n",
    "\n",
    "<strong>V</strong> = \\begin{bmatrix} v_1 \\\\ v_2 \\\\ v_3 \\end{bmatrix}\n",
    "\n",
    "Vectors can represent:\n",
    "- Points in space\n",
    "- Features of a data sample\n",
    "- Directions in geometry"
   ]
  },
  {
   "cell_type": "markdown",
   "metadata": {},
   "source": [
    "<hr>"
   ]
  },
  {
   "cell_type": "markdown",
   "metadata": {},
   "source": [
    "## Linear Combinations and Spans\n",
    "\n",
    "👉 Linear Combination:\n",
    "\n",
    "Given vectors $$\\vec{v_1}, \\vec{v_2}, …, \\vec{v_n}$$ a linear combination is:\n",
    "\n",
    "$$a_1\\vec{v_1} + a_2\\vec{v_2} + … + a_n\\vec{v_n}$$\n",
    "\n",
    "Where $$a_1, a_2, …, a_n \\in \\mathbb{R}$$ are scalars.\n",
    "\n",
    "Example:\n",
    "\n",
    "Let:\n",
    "$$\\vec{v_1} = \\begin{bmatrix} 1 \\\\ 2 \\end{bmatrix},\\quad \\vec{v_2} = \\begin{bmatrix} 2 \\\\ 1 \\end{bmatrix}$$\n",
    "\n",
    "Then:\n",
    "$$3\\vec{v_1} - 1\\vec{v_2} = 3\\begin{bmatrix} 1 \\\\ 2 \\end{bmatrix} - 1\\begin{bmatrix} 2 \\\\ 1 \\end{bmatrix} = \\begin{bmatrix} 3 \\\\ 6 \\end{bmatrix} - \\begin{bmatrix} 2 \\\\ 1 \\end{bmatrix} = \\begin{bmatrix} 1 \\\\ 5 \\end{bmatrix}$$"
   ]
  },
  {
   "cell_type": "markdown",
   "metadata": {},
   "source": [
    "### 📐 Span:\n",
    "\n",
    "The span of a set of vectors is the set of all possible linear combinations of them.\n",
    "\n",
    "If $$\\vec{v_1}$$ and $$\\vec{v_2}$$ are 2D vectors not on the same line, their span is the entire 2D plane."
   ]
  },
  {
   "cell_type": "markdown",
   "metadata": {},
   "source": [
    "<hr> \n",
    "\n",
    "## Linear Dependence and Independence\n",
    "\n",
    "👉 Linearly Dependent:\n",
    "\n",
    "Vectors are dependent if one can be written as a combination of the others.\n",
    "\n",
    "$$\\vec{v_3} = a\\vec{v_1} + b\\vec{v_2}$$\n",
    "\n",
    "If this is possible, then the vectors are dependent.\n",
    "\n",
    "👉 Linearly Independent:\n",
    "\n",
    "Vectors are independent if no vector in the set can be written as a combination of the others.\n",
    "\n",
    "✨ Geometric Intuition:\n",
    "- Two vectors in 2D are dependent if they lie on the same line.\n",
    "- Three vectors in 3D are dependent if they lie in the same plane."
   ]
  },
  {
   "cell_type": "markdown",
   "metadata": {},
   "source": [
    "<hr>\n",
    "\n",
    "## Dot Product\n",
    "\n",
    "👉 Definition:\n",
    "\n",
    "For vectors $$\\vec{a} = [a_1, a_2, …, a_n]$$ and $$\\vec{b} = [b_1, b_2, …, b_n]$$:\n",
    "\n",
    "$$\\vec{a} \\cdot \\vec{b} = a_1b_1 + a_2b_2 + … + a_nb_n$$\n",
    "\n",
    "👉 Geometric Form:\n",
    "\n",
    "$$\\vec{a} \\cdot \\vec{b} = \\|\\vec{a}\\| \\|\\vec{b}\\| \\cos(\\theta)$$\n",
    "\n",
    "Where $$\\theta$$ is the angle between vectors.\n",
    "\n",
    "🔍 Interpretation:"
   ]
  },
  {
   "cell_type": "markdown",
   "metadata": {},
   "source": [
    "| Result | Meaning                          |\n",
    "|--------|----------------------------------|\n",
    "| > 0    | Vectors point in similar direction |\n",
    "| = 0    | Vectors are perpendicular         |\n",
    "| < 0    | Vectors point in opposite direction |\n"
   ]
  },
  {
   "cell_type": "markdown",
   "metadata": {},
   "source": [
    "### Real world example: \n",
    "\n",
    "Imagine you’re building a movie recommender system. You want to recommend movies to a user based on how similar their tastes are to a movie’s characteristics.\n",
    "\n",
    "🧠 Concept: User Preference Vector vs Movie Feature Vector \n",
    "\n",
    "Let’s say:\n",
    "- Each user has preferences for genres like Action, Comedy, and Drama.\n",
    "- Each movie has a score for how much it fits into each genre.\n",
    "\n",
    "\n",
    "User = [0.9, 0.1, 0.0] \\\n",
    "*Likes Action a lot, Comedy a bit, doesn't like Drama*\n",
    "\n",
    "Movie A = [1.0, 0.0, 0.0] \\\n",
    "*Pure Action*\n",
    "\n",
    "Movie B = [0.3, 0.7, 0.0] \\\n",
    "*Mixed Action and Comedy*\n",
    "\n",
    "✅ Dot Product Calculation\n",
    "\n",
    "The dot product of two vectors gives a scalar score indicating how aligned they are.\n",
    "\n",
    "$$\\text{Score}_A = \\vec{User} \\cdot \\vec{Movie}_A = (0.9)(1.0) + (0.1)(0.0) + (0.0)(0.0) = 0.9$$\n",
    "\n",
    "$$\\text{Score}_B = \\vec{User} \\cdot \\vec{Movie}_B = (0.9)(0.3) + (0.1)(0.7) + (0.0)(0.0) = 0.27 + 0.07 = 0.34$$\n",
    "\n",
    "📊 Interpretation:\n",
    "- Movie A has a higher score (0.9), meaning it aligns closely with the user’s preferences.\n",
    "- Movie B is less aligned (score 0.34).\n",
    "\n",
    "So, you would recommend Movie A to the user.\n"
   ]
  }
 ],
 "metadata": {
  "kernelspec": {
   "display_name": "Python 3 (ipykernel)",
   "language": "python",
   "name": "python3"
  },
  "language_info": {
   "codemirror_mode": {
    "name": "ipython",
    "version": 3
   },
   "file_extension": ".py",
   "mimetype": "text/x-python",
   "name": "python",
   "nbconvert_exporter": "python",
   "pygments_lexer": "ipython3",
   "version": "3.12.7"
  }
 },
 "nbformat": 4,
 "nbformat_minor": 4
}

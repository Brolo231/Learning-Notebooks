


from flask import Flask, render_template
from flask_socketio import SocketIO, emit

# Initialize the flask web app
app = Flask(__name__)
app.config['SECRET_KEY'] = 'your-secret-key'
socketio = SocketIO(app, cors_allowed_origins="*")  # Optional: allow CORS  It prevents your frontend from accidentally leaking data to or accepting data from unknown sources.

@app.route('/')
def index():
    return render_template('index.html')

# This allows us to have a custom socketio event listener: 'chat_message'
@socketio.on('chat_message')
def handle_message(msg):
    print('Chat message received: ' + msg)
    # emit allows us to send this response to a specific socketio event on the frontend
    emit('chat_response', msg, broadcast=True)  # Custom event sent to frontend

if __name__ == '__main__':
    socketio.run(app, debug=True, allow_unsafe_werkzeug=True, port=8000, host='0.0.0.0')








<!DOCTYPE html>
<html>
<head>
    <title>Chat</title>
    <script src="https://cdn.socket.io/4.7.2/socket.io.min.js"></script>
</head>
<body>
    <h2>Chat Room</h2>
    <ul id="messages"></ul>
    <input id="message" type="text" placeholder="Type your message here" />
    <button onclick="sendMessage()">Send</button>

    <script>
        const socket = io();

        // Receive messages from the 'chat_response' event
        socket.on('chat_response', function(msg) {
            const li = document.createElement('li');
            li.textContent = msg;
            document.getElementById('messages').appendChild(li);
        });

        function sendMessage() {
            const input = document.getElementById('message');
            const message = input.value;
            socket.emit('chat_message', message);  // Emit custom event to backend
            input.value = '';
        }
    </script>
</body>
</html>

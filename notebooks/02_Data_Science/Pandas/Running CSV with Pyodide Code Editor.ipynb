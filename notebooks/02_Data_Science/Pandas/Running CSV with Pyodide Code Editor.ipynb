{
 "cells": [
  {
   "cell_type": "code",
   "execution_count": null,
   "id": "9edc1fd3-293d-4ef8-bb24-7cec2c4e792e",
   "metadata": {},
   "outputs": [],
   "source": [
    "from pyodide.http import open_url\n",
    "import pandas as pd\n",
    "import io\n",
    "\n",
    "url = \"https://brolo231.github.io/Learning-Notebooks/unclean_dataset.csv\"\n",
    "response = open_url(url)\n",
    "data_str = response.read()\n",
    "\n",
    "df = pd.read_csv(io.StringIO(data_str), on_bad_lines='skip')\n",
    "print(df.head())"
   ]
  }
 ],
 "metadata": {
  "kernelspec": {
   "display_name": "Python 3 (ipykernel)",
   "language": "python",
   "name": "python3"
  },
  "language_info": {
   "codemirror_mode": {
    "name": "ipython",
    "version": 3
   },
   "file_extension": ".py",
   "mimetype": "text/x-python",
   "name": "python",
   "nbconvert_exporter": "python",
   "pygments_lexer": "ipython3",
   "version": "3.12.7"
  }
 },
 "nbformat": 4,
 "nbformat_minor": 5
}

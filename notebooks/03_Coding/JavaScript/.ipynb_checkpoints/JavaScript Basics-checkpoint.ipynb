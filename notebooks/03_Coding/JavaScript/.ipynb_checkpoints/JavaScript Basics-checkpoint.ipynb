{
 "cells": [
  {
   "cell_type": "markdown",
   "id": "229d9b6e-e1fe-495b-8497-40df38b81412",
   "metadata": {},
   "source": [
    "## 1. Variables and Data Types\n",
    "\n",
    "JavaScript has three ways to declare variables:\n",
    "\n",
    "- `var`: The old way; function-scoped and can cause issues with variable hoisting. Avoid using it in modern code.\n",
    "- `let`: Block-scoped, preferred for variables that may change.\n",
    "- `const`: Block-scoped and **cannot be reassigned** after initialization. Use for values that shouldn't change.\n",
    "\n",
    "| Data Type  | Description                          | Example                         |\n",
    "|------------|--------------------------------------|----------------------------------|\n",
    "| String     | Sequence of characters (text)        | `\"Hello, World!\"`               |\n",
    "| Number     | Numeric values (integer or float)    | `42`, `3.14`                    |\n",
    "| Boolean    | Logical values: true or false        | `true`, `false`                 |\n",
    "| Undefined  | Variable declared but no value       | `let x;` (`x` is `undefined`)   |\n",
    "| Null       | Explicit absence of any value        | `let y = null;`                 |\n",
    "| Object     | Complex data structures              | `{ name: \"Brandon\", age: 25 }`  |\n",
    "| Symbol     | Unique identifiers (advanced)        | `Symbol('id')`                  |"
   ]
  },
  {
   "cell_type": "code",
   "execution_count": 3,
   "id": "d942d7c8-51b1-4c0a-98c0-f4c41723c9a2",
   "metadata": {},
   "outputs": [
    {
     "name": "stdout",
     "output_type": "stream",
     "text": [
      "John\n"
     ]
    }
   ],
   "source": [
    "var age = 25;              // a variable whose value can change\n",
    "const name = \"John\";    // a constant string variable that cannot change\n",
    "var isStudent = true;      // function-scoped boolean (legacy, avoid)\n",
    "\n",
    "console.log(name)"
   ]
  },
  {
   "cell_type": "markdown",
   "id": "49c4858a-7056-45d8-8a37-9d69763a3f43",
   "metadata": {},
   "source": [
    "## 2. Basic Operations and Expressions\n",
    "\n",
    "String Concatenation\n",
    "\n",
    "Use the + operator to join strings:"
   ]
  },
  {
   "cell_type": "code",
   "execution_count": 4,
   "id": "568434fe-9e50-48a3-a857-066cdcd8185f",
   "metadata": {},
   "outputs": [
    {
     "name": "stdout",
     "output_type": "stream",
     "text": [
      "John Doe\n"
     ]
    }
   ],
   "source": [
    "let firstName = \"John\";\n",
    "let lastName = \"Doe\";\n",
    "let fullName = firstName + \" \" + lastName;  // \"John Doe\"\n",
    "\n",
    "console.log(fullName)"
   ]
  },
  {
   "cell_type": "markdown",
   "id": "410e0c9d-109c-4f93-9d9a-cb9f4b7e8e80",
   "metadata": {},
   "source": [
    "**A cleaner way to embed variables in strings using backticks:**"
   ]
  },
  {
   "cell_type": "code",
   "execution_count": 5,
   "id": "53d4c108-7a5a-4418-9142-e9676f3ebf0f",
   "metadata": {},
   "outputs": [
    {
     "name": "stdout",
     "output_type": "stream",
     "text": [
      "Hello, my name is John Doe and I am 25 years old.\n"
     ]
    }
   ],
   "source": [
    "let greeting = `Hello, my name is ${fullName} and I am ${age} years old.`;\n",
    "console.log(greeting);"
   ]
  },
  {
   "cell_type": "markdown",
   "id": "d2609eef-a1e0-490a-98d2-2bc4aa7a75a1",
   "metadata": {},
   "source": [
    "## 3. Comparison Operators\n",
    "\n",
    "| Operator | Description              | Example      | Result |\n",
    "|----------|--------------------------|--------------|--------|\n",
    "| `==`     | Equal (loose equality)   | `5 == '5'`   | `true` |\n",
    "| `===`    | Equal (strict equality)  | `5 === '5'`  | `false`|\n",
    "| `!=`     | Not equal (loose)        | `5 != 3`     | `true` |\n",
    "| `!==`    | Not equal (strict)       | `5 !== '5'`  | `true` |\n",
    "| `>`      | Greater than             | `7 > 5`      | `true` |\n",
    "| `<`      | Less than                | `3 < 2`      | `false`|\n",
    "| `>=`     | Greater or equal         | `4 >= 4`     | `true` |\n",
    "| `<=`     | Less or equal            | `3 <= 3`     | `true` |\n",
    "\n",
    "Difference between == and ===\n",
    "\t•\t== checks equality after type conversion (coercion)\n",
    "\t•\t=== checks equality without type conversion (strict)"
   ]
  },
  {
   "cell_type": "code",
   "execution_count": 6,
   "id": "b78a49d3-c1f4-4381-97c0-4c80644e7d34",
   "metadata": {},
   "outputs": [
    {
     "name": "stdout",
     "output_type": "stream",
     "text": [
      "true\n",
      "false\n"
     ]
    }
   ],
   "source": [
    "console.log(5 == '5')    // true, because '5' is converted to 5\n",
    "console.log(5 === '5')   // false, different types (number vs string)"
   ]
  },
  {
   "cell_type": "markdown",
   "id": "8659a85a-1b8f-4fa8-83d5-37838693ff96",
   "metadata": {},
   "source": [
    "## 4. Functions\n",
    "\n",
    "Functions are reusable blocks of code designed to perform a specific task."
   ]
  },
  {
   "cell_type": "code",
   "execution_count": 7,
   "id": "9cc8ea74-21c9-4e9a-a3d6-23fe6eb4e712",
   "metadata": {},
   "outputs": [
    {
     "name": "stdout",
     "output_type": "stream",
     "text": [
      "Hello, John!\n"
     ]
    }
   ],
   "source": [
    "function greet(name) {\n",
    "  return `Hello, ${name}!`;\n",
    "}\n",
    "\n",
    "console.log(greet(\"John\"));  "
   ]
  },
  {
   "cell_type": "markdown",
   "id": "65c1d4a6-795b-4234-b8f4-9efa1dbd9d83",
   "metadata": {},
   "source": [
    "**Function Expression**\n",
    "\n",
    "**A function can also be stored in a variable:**"
   ]
  },
  {
   "cell_type": "code",
   "execution_count": 8,
   "id": "7adc0fa1-c9db-4d83-a7c3-2198768a479b",
   "metadata": {},
   "outputs": [],
   "source": [
    "var greet = function(name) {\n",
    "  return `Hi, ${name}!`;\n",
    "};"
   ]
  },
  {
   "cell_type": "markdown",
   "id": "b5e0d065-3aa2-47a3-9243-be407ee61daa",
   "metadata": {},
   "source": [
    "**Arrow Functions (ES6+)**\n",
    "\n",
    "**Shorter syntax for writing functions, especially for small/simple ones:**"
   ]
  },
  {
   "cell_type": "code",
   "execution_count": 9,
   "id": "37d0b678-7b9c-484e-8cc1-c31d1f035911",
   "metadata": {},
   "outputs": [
    {
     "name": "stdout",
     "output_type": "stream",
     "text": [
      "Hey, Brandon!\n"
     ]
    }
   ],
   "source": [
    "var greet = (name) => `Hey, ${name}!`;\n",
    "console.log(greet(\"Brandon\"));  // Hey, Brandon!"
   ]
  },
  {
   "cell_type": "markdown",
   "id": "2ef749a0-198b-48f2-a049-5814ef908fb3",
   "metadata": {},
   "source": [
    "## 5. Conditionals\n",
    "\n",
    "Used to perform different actions based on different conditions."
   ]
  },
  {
   "cell_type": "code",
   "execution_count": 10,
   "id": "43384173-7692-45f5-ade1-aa4972045219",
   "metadata": {},
   "outputs": [
    {
     "name": "stdout",
     "output_type": "stream",
     "text": [
      "You are an adult.\n"
     ]
    }
   ],
   "source": [
    "var age = 20;\n",
    "\n",
    "if (age >= 18) {\n",
    "  console.log(\"You are an adult.\");\n",
    "} else if (age > 12) {\n",
    "  console.log(\"You are a teenager.\");\n",
    "} else {\n",
    "  console.log(\"You are a child.\");\n",
    "}"
   ]
  },
  {
   "cell_type": "markdown",
   "id": "fc9fe54d-b8b3-4a7b-8605-bbe194e30e2a",
   "metadata": {},
   "source": [
    "Switch Statement (alternative to many if-else)"
   ]
  },
  {
   "cell_type": "code",
   "execution_count": 29,
   "id": "edfd7c5a-706e-44b0-bde5-4310da77b16e",
   "metadata": {},
   "outputs": [
    {
     "name": "stdout",
     "output_type": "stream",
     "text": [
      "Wednesday\n"
     ]
    }
   ],
   "source": [
    "globalThis.day = 3;\n",
    "\n",
    "switch(day) {\n",
    "  case 1:\n",
    "    console.log(\"Monday\");\n",
    "    break;\n",
    "  case 2:\n",
    "    console.log(\"Tuesday\");\n",
    "    break;\n",
    "  case 3:\n",
    "    console.log(\"Wednesday\");\n",
    "    break;\n",
    "  default:\n",
    "    console.log(\"Unknown day\");\n",
    "}"
   ]
  },
  {
   "cell_type": "markdown",
   "id": "a43fc997-544f-4ebb-a868-dfb6767a47f4",
   "metadata": {},
   "source": [
    "## 6. Loops\n",
    "\n",
    "For Loop"
   ]
  },
  {
   "cell_type": "code",
   "execution_count": 31,
   "id": "902dc605-cc9d-44e1-aaef-579abfc6445f",
   "metadata": {},
   "outputs": [
    {
     "name": "stdout",
     "output_type": "stream",
     "text": [
      "0\n",
      "1\n",
      "2\n",
      "3\n",
      "4\n"
     ]
    }
   ],
   "source": [
    "for (let i = 0; i < 5; i++) {\n",
    "  console.log(i);\n",
    "}"
   ]
  },
  {
   "cell_type": "markdown",
   "id": "d1d7dffb-8668-4ee0-8f6a-c94851174576",
   "metadata": {},
   "source": [
    "While loop"
   ]
  },
  {
   "cell_type": "code",
   "execution_count": 35,
   "id": "59c6eb9b-b486-45d1-9749-6dc30433a5b9",
   "metadata": {},
   "outputs": [
    {
     "name": "stdout",
     "output_type": "stream",
     "text": [
      "0\n",
      "1\n",
      "2\n",
      "3\n",
      "4\n"
     ]
    },
    {
     "data": {
      "text/plain": [
       "4"
      ]
     },
     "execution_count": 35,
     "metadata": {},
     "output_type": "execute_result"
    }
   ],
   "source": [
    "let i = 0;\n",
    "while (i < 5) {\n",
    "  console.log(i);\n",
    "  i++;\n",
    "}"
   ]
  },
  {
   "cell_type": "markdown",
   "id": "382564bd-6d0c-4228-8600-ce54a01d7c9b",
   "metadata": {},
   "source": [
    "For…of Loop (for arrays)"
   ]
  },
  {
   "cell_type": "code",
   "execution_count": 37,
   "id": "f33a2654-04fb-4f5a-856c-14a79db4e88f",
   "metadata": {},
   "outputs": [
    {
     "name": "stdout",
     "output_type": "stream",
     "text": [
      "apple\n",
      "banana\n",
      "cherry\n"
     ]
    }
   ],
   "source": [
    "let fruits = [\"apple\", \"banana\", \"cherry\"];\n",
    "for (let fruit of fruits) {\n",
    "  console.log(fruit);\n",
    "}"
   ]
  },
  {
   "cell_type": "markdown",
   "id": "20b89d96-f63c-491d-81c8-f2c6192054ec",
   "metadata": {},
   "source": [
    "## 7. Classes (ES6+)\n",
    "\n",
    "Classes are blueprints to create objects with properties (variables) and methods (functions).\n",
    "\n",
    "Defining a Class"
   ]
  },
  {
   "cell_type": "code",
   "execution_count": 39,
   "id": "52b307ce-0e0e-4690-b9ba-709f87c3e87d",
   "metadata": {},
   "outputs": [],
   "source": [
    "class Person {\n",
    "  // The constructor runs when a new object is created\n",
    "  constructor(name, age) {\n",
    "    this.name = name;  // property\n",
    "    this.age = age;\n",
    "  }\n",
    "\n",
    "  // Method\n",
    "  greet() {\n",
    "    return `Hello, my name is ${this.name} and I am ${this.age} years old.`;\n",
    "  }\n",
    "}"
   ]
  },
  {
   "cell_type": "markdown",
   "id": "d4ca35f6-df49-4f71-852e-32a9e3036cee",
   "metadata": {},
   "source": [
    "Creating an Instance of a Class"
   ]
  }
 ],
 "metadata": {
  "kernelspec": {
   "display_name": "JavaScript (Node.js)",
   "language": "javascript",
   "name": "javascript"
  },
  "language_info": {
   "file_extension": ".js",
   "mimetype": "application/javascript",
   "name": "javascript",
   "version": "18.20.8"
  }
 },
 "nbformat": 4,
 "nbformat_minor": 5
}

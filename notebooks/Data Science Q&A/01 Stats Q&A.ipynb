{
 "cells": [
  {
   "cell_type": "markdown",
   "id": "51238d82-0433-4a35-b275-54858daf201f",
   "metadata": {},
   "source": [
    "# 🧠 Statistics for Data Science – Quiz / Self-Check|"
   ]
  },
  {
   "cell_type": "markdown",
   "id": "87cabd9b-fdf5-45cb-824d-1d02edb92c4d",
   "metadata": {},
   "source": [
    "## Types of Data\n",
    "\n",
    "**Q1:** What is the difference between *nominal* and *ordinal* data?"
   ]
  },
  {
   "cell_type": "markdown",
   "id": "b3792d2f-91b4-4e24-8649-5e65523f5872",
   "metadata": {},
   "source": [
    "## Shape of Distribution\n",
    "\n",
    "**Q2:** What does it mean if a dataset is *right-skewed*?\n"
   ]
  },
  {
   "cell_type": "markdown",
   "id": "dfd25e03-c895-49b8-8694-84666ef93fcd",
   "metadata": {},
   "source": [
    "## Variance and Standard Deviation\n",
    "\n",
    "**Q3:** What does a high standard deviation tell you about a dataset?\n",
    "\n",
    "**Q4:** Can variance ever be negative?"
   ]
  },
  {
   "cell_type": "markdown",
   "id": "62785e60-08dd-4ad4-9e00-1c82964539b4",
   "metadata": {},
   "source": [
    "## Percentiles, Quartiles, and IQR\n",
    "\n",
    "**Q5:** What does the 75th percentile represent?\n",
    "\n",
    "**Q6:** How is IQR calculated and what is it used for?"
   ]
  },
  {
   "cell_type": "markdown",
   "id": "bde9d0e2-568f-4952-90a8-fb5ffa0a7b9a",
   "metadata": {},
   "source": [
    "## Outliers\n",
    "\n",
    "**Q7:** How can you detect outliers using the IQR method?\n",
    "\n",
    "**Q8:** Why is it important to handle outliers before building a machine learning model?"
   ]
  },
  {
   "cell_type": "markdown",
   "id": "c250b873-f080-41fb-a729-f3e98e0c4e54",
   "metadata": {},
   "source": [
    "## Correlation and Covariance\n",
    "\n",
    "**Q9:** What does a correlation coefficient of -0.95 indicate?\n",
    "\n",
    "**Q10:** How does correlation differ from covariance?\n"
   ]
  },
  {
   "cell_type": "markdown",
   "id": "f99f71a1-ca8b-4c10-a706-103c2b80ab84",
   "metadata": {},
   "source": [
    "## Probability Basics\n",
    "\n",
    "**Q11:** What is the probability of getting heads in a fair coin toss?\n",
    "\n",
    "**Q12:** Why is probability important in machine learning?"
   ]
  },
  {
   "cell_type": "markdown",
   "id": "aa6f0516-07b4-40ec-b445-3172fe3669ad",
   "metadata": {},
   "source": [
    "## Common Distributions\n",
    "\n",
    "**Q17:** Give an example where the Poisson distribution is appropriate.\n",
    "\n",
    "**Q18:** When should you use the normal distribution in analysis?\n"
   ]
  },
  {
   "cell_type": "markdown",
   "id": "ad41753a-c5bf-4412-ac13-1f421dcfc06a",
   "metadata": {},
   "source": [
    "## Challenge Questions\n",
    "\n",
    "**Q19:** You have two features in your dataset with a correlation of 0.98. What should you consider doing before training a linear model?\n",
    "\n",
    "**Q20:** Why is understanding data distribution crucial before applying machine learning algorithms?"
   ]
  }
 ],
 "metadata": {
  "kernelspec": {
   "display_name": "Python 3 (ipykernel)",
   "language": "python",
   "name": "python3"
  },
  "language_info": {
   "codemirror_mode": {
    "name": "ipython",
    "version": 3
   },
   "file_extension": ".py",
   "mimetype": "text/x-python",
   "name": "python",
   "nbconvert_exporter": "python",
   "pygments_lexer": "ipython3",
   "version": "3.12.7"
  }
 },
 "nbformat": 4,
 "nbformat_minor": 5
}

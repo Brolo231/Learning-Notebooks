{
 "cells": [
  {
   "cell_type": "markdown",
   "id": "a81fe7ec-fad0-40d1-aa92-22b4932f59fe",
   "metadata": {},
   "source": [
    "## <a href=\"https://leetcode.com/problems/best-time-to-buy-and-sell-stock/\">121. Best time to buy and sell stock</a>\n",
    "\n",
    "<span style=\"background-color: lightgreen; color: black;\">easy<span>\n",
    "\n",
    "You are given an array *prices* where *prices[i]* is the price of a given stock on the ith day.\n",
    "\n",
    "You want to maximize your profit by choosing a single day to buy one stock and choosing a different day in the future to sell that stock.\n",
    "\n",
    "Return the maximum profit you can achieve from this transaction. If you cannot achieve any profit, return 0.\n",
    "\n",
    " \n",
    "\n",
    "Example 1:\n",
    "\n",
    "```Input: prices = [7,1,5,3,6,4]```\\\n",
    "```Output: 5``` \\\n",
    "Explanation: Buy on day 2 (price = 1) and sell on day 5 (price = 6), profit = 6-1 = 5. \\\n",
    "**Note:** that buying on day 2 and selling on day 1 is not allowed because you must buy before you sell.\n",
    "\n",
    "Example 2:\n",
    "\n",
    "```Input: prices = [7,6,4,3,1]```\\\n",
    "```Output: 0``` \\\n",
    "Explanation: In this case, no transactions are done and the max profit = 0.\n",
    " \n",
    "\n",
    "Constraints:\n",
    "\n",
    "```1 <= prices.length <= 105```\\\n",
    "```0 <= prices[i] <= 104```\n",
    "\n",
    "Given: \\\n",
    "```class Solution:```\\\n",
    "```    def maxProfit(self, prices: List[int]) -> int:```\n",
    "        "
   ]
  },
  {
   "cell_type": "code",
   "execution_count": 2,
   "id": "b748440b-c41e-4ba6-86cf-c907a2f26e27",
   "metadata": {},
   "outputs": [
    {
     "data": {
      "text/plain": [
       "8"
      ]
     },
     "execution_count": 2,
     "metadata": {},
     "output_type": "execute_result"
    }
   ],
   "source": [
    "class Solution:\n",
    "    def maxProfit(self, prices: list[int]) -> int:\n",
    "        current_highest_profit = 0\n",
    "        for idx, value in enumerate(prices):\n",
    "            for j in range(len(prices)):\n",
    "                if prices[j] - value > current_highest_profit and idx < j:\n",
    "                    current_highest_profit = prices[j] - value\n",
    "\n",
    "        return current_highest_profit\n",
    "\n",
    "s = Solution()\n",
    "s.maxProfit([1,7,6,4,3,1,9])"
   ]
  }
 ],
 "metadata": {
  "kernelspec": {
   "display_name": "Python 3 (ipykernel)",
   "language": "python",
   "name": "python3"
  },
  "language_info": {
   "codemirror_mode": {
    "name": "ipython",
    "version": 3
   },
   "file_extension": ".py",
   "mimetype": "text/x-python",
   "name": "python",
   "nbconvert_exporter": "python",
   "pygments_lexer": "ipython3",
   "version": "3.12.7"
  }
 },
 "nbformat": 4,
 "nbformat_minor": 5
}

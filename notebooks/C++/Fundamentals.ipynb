{
 "cells": [
  {
   "cell_type": "markdown",
   "id": "c81c7fdf-d803-4c1c-a4fd-d4230c47418c",
   "metadata": {},
   "source": [
    "# C++ Basics Refresher\n",
    "\n",
    "<hr>\n",
    "\n",
    "### 📌 Table of Contents\n",
    "- <a href=\"#1.1\">Variables & Data Types</a>\n",
    "- <a href=\"#1.2\">Input and Output</a>\n",
    "- <a href=\"#1.3\">Operators</a>\n",
    "- <a href=\"#1.4\">Conditionals (if-else)</a>\n",
    "- <a href=\"#1.5\">Loops</a>\n",
    "- <a href=\"#1.6\">Functions</a>\n",
    "- <a href=\"#1.7\">Arrays</a>\n",
    "- <a href=\"#1.8\">String class</a>\n",
    "\n",
    "<hr>\n",
    "\n",
    "**Notes** \n",
    "- Variables have to be declared before using them (C++ is statically typed unlike pythons dynamically typed)\n",
    "\n",
    "\n",
    "<hr>\n",
    "\n",
    "<p id=\"1.1\"></p>\n",
    "\n",
    "## 1.1 Variables & Data Types\n",
    "\n",
    "In C++, every variable has a type. Common ones include:\n",
    "\n",
    "#include <iostream>\n",
    "using namespace std;\n",
    "\n",
    "`int main() {` \\\n",
    "`    int age = 21;`         // Integer \\\n",
    "`    float pi = 3.14;`      // Floating point number \\\n",
    "`    char grade = 'A';`     // Character \\\n",
    "`    string name = \"Brandon\"` // String (requires #include <string>) \\\n",
    "`    bool isStudent = true;'` // Boolean (true/false) \\\n",
    "    // Display variables \\\n",
    "`    cout << \"Name: \" << name << \", Age: \" << age << endl;` \\\n",
    "`    return 0;` \\\n",
    "`}`"
   ]
  },
  {
   "cell_type": "markdown",
   "id": "dd2b13c9-23c1-4e4b-ad6d-88ead78c8242",
   "metadata": {},
   "source": [
    "<hr>"
   ]
  },
  {
   "cell_type": "markdown",
   "id": "03df2bf8-cb4a-4407-8ee7-f26ab43a8f39",
   "metadata": {},
   "source": [
    "<p id=\"1.2\"></p>\n",
    "\n",
    "## 1.2 Input & Output\n",
    "\n",
    "User input is handled using cin:\n",
    "\n",
    "`include <iostream>` \\\n",
    "`using namespace std;` \n",
    "\n",
    "`int main() {` \\\n",
    "`    string name;` \\\n",
    "`    int age;` \n",
    "\n",
    "`    cout << \"Enter your name: \";` \\\n",
    "`    cin >> name;` \\\n",
    "`    cout << \"Enter your age: \";` \\\n",
    "`    cin >> age;` \n",
    "\n",
    "`    cout << \"Hello, \" << name << \"! You are \" << age << \" years old.\" << endl;` \\\n",
    "`    return 0;` \\\n",
    "`}`"
   ]
  },
  {
   "cell_type": "markdown",
   "id": "61efe7c2-3afc-4c5a-aa86-fc0b7bf3327f",
   "metadata": {},
   "source": [
    "<hr>"
   ]
  },
  {
   "cell_type": "markdown",
   "id": "ea2d367d-d91a-4d5a-afb3-137c86a2be80",
   "metadata": {},
   "source": [
    "<p id=\"1.3\"></p>\n",
    "\n",
    "## 1.3 Operators\n",
    "\n",
    "Arithmetic (+, -, *, /, %):\n",
    "\n",
    "`int sum = 5 + 3;   // 8` \\\n",
    "`int diff = 10 - 4; // 6` \\\n",
    "`int prod = 2 * 3;  // 6` \\\n",
    "`int div = 8 / 2;   // 4` \\\n",
    "`int mod = 10 % 3;  // 1 (remainder)`\n",
    "\n",
    "<hr>"
   ]
  },
  {
   "cell_type": "markdown",
   "id": "cd294bd0-19bc-4486-9a26-34398e8aa194",
   "metadata": {},
   "source": [
    "<p id=\"1.4\"></p>\n",
    "\n",
    "## 1.4 Conditionals (if-else, switch)\n",
    "\n",
    "Use if to make decisions: \n",
    "\n",
    "`if (age >= 18) {` \\\n",
    "`    cout << \"You are an adult.\";` \\\n",
    "`} else {` \\\n",
    "`    cout << \"You are a minor.\";` \\\n",
    "`}` \n",
    "\n",
    "Switch-case is useful for multiple choices:\n",
    "\n",
    "`char grade = 'B';` \n",
    "\n",
    "`switch (grade) {` \\\n",
    "`    case 'A': cout << \"Excellent!\"; break;` \\\n",
    "`    case 'B': cout << \"Good job!\"; break;` \\\n",
    "`    case 'C': cout << \"Fair.\"; break;` \\\n",
    "`    default: cout << \"Try harder!\";` \\\n",
    "`}`"
   ]
  },
  {
   "cell_type": "markdown",
   "id": "ab2dd1a1-d8a0-4888-a582-ac65cc4172dc",
   "metadata": {},
   "source": [
    "<hr>"
   ]
  },
  {
   "cell_type": "markdown",
   "id": "39f82df4-4db8-4210-ad96-9821bb0fbee7",
   "metadata": {},
   "source": [
    "<p id=\"1.5\"></p>\n",
    "\n",
    "## 1.5 Loops (for, while, do-while)\n",
    "\n",
    "**For loop (counting)**\n",
    "\n",
    "`for (int i = 1; i <= 5; i++) {` \\\n",
    "`    cout << i << \" \";` \\\n",
    "`}`\n",
    "\n",
    "**While loop (repeats until condition is false)**\n",
    "\n",
    "`int i = 1;` \\\n",
    "`while (i <= 5) {` \\\n",
    "`    cout << i << \" \";` \\\n",
    "`    i++;` \\\n",
    "`}` \n",
    "\n",
    "**Do-while loop (executes at least once)**\n",
    "\n",
    "`int x;` \\\n",
    "`do {` \\\n",
    "`    cout << \"Enter a number (negative to stop): \";` \\\n",
    "`    cin >> x;` \\\n",
    "`} while (x >= 0);`\n",
    "\n",
    "<hr>"
   ]
  },
  {
   "cell_type": "markdown",
   "id": "701fb2d7-fcb8-44ac-8783-bc127de85053",
   "metadata": {},
   "source": [
    "<p id=\"1.6\"></p>\n",
    "\n",
    "## 1.6 Functions\n",
    "\n",
    "Functions help break code into reusable parts.\n",
    "\n",
    "`int add(int a, int b) {` \\\n",
    "`    return a + b;` \\\n",
    "`}` \n",
    "\n",
    "`int main() {` \\\n",
    "`    int sum = add(3, 4);` \\\n",
    "`    cout << \"Sum: \" << sum;` \\\n",
    "`}`\n",
    "\n",
    "<hr>"
   ]
  },
  {
   "cell_type": "markdown",
   "id": "0bed2f2e-c658-48ad-a413-d3bd6980238d",
   "metadata": {},
   "source": [
    "<p id=\"1.7\"></p>\n",
    "\n",
    "## 1.7 Arrays\n",
    "\n",
    "An array stores multiple values of the same type.\n",
    "\n",
    "`int numbers[5] = {1, 2, 3, 4, 5};` \\\n",
    "`cout << numbers[2]; // Output: 3`\n",
    "\n",
    "<hr>"
   ]
  },
  {
   "cell_type": "markdown",
   "id": "28d99dca-9971-4da7-85be-8325f70eda26",
   "metadata": {},
   "source": [
    "<p id=\"1.8\"></p>\n",
    "\n",
    "## 1.8 Strings (using string class)\n",
    "\n",
    "`#include <string>` \\\n",
    "`string fullName = \"Brandon Fourie\";` \\\n",
    "`cout << \"Length: \" << fullName.length();`"
   ]
  },
  {
   "cell_type": "markdown",
   "id": "b305f9ef-04f6-45d8-94e8-fef31990a6a0",
   "metadata": {},
   "source": [
    "<hr>"
   ]
  }
 ],
 "metadata": {
  "kernelspec": {
   "display_name": "Python 3 (ipykernel)",
   "language": "python",
   "name": "python3"
  },
  "language_info": {
   "codemirror_mode": {
    "name": "ipython",
    "version": 3
   },
   "file_extension": ".py",
   "mimetype": "text/x-python",
   "name": "python",
   "nbconvert_exporter": "python",
   "pygments_lexer": "ipython3",
   "version": "3.12.7"
  }
 },
 "nbformat": 4,
 "nbformat_minor": 5
}

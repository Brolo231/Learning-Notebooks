{
 "cells": [
  {
   "cell_type": "markdown",
   "id": "9394c412-405b-4521-a2e5-9a651d6daae6",
   "metadata": {},
   "source": [
    "# What is Docker? \n",
    "\n",
    "- Docker is an open platform for developing, shipping, and running applications. Docker enables you to separate your applications from your infrastructure so you can deliver software quickly.\n",
    "- By taking advantage of Docker's methodologies for shipping, testing, and deploying code, you can significantly reduce the delay between writing code and running it in production.\n",
    "\n",
    "### Consider the follwoing example: \n",
    "\n",
    "- Your developers write code locally and share their work with their colleagues using Docker containers.\n",
    "- They use Docker to push their applications into a test environment and run automated and manual tests.\n",
    "- When developers find bugs, they can fix them in the development environment and redeploy them to the test environment for testing and validation.\n",
    "- When testing is complete, getting the fix to the customer is as simple as pushing the updated image to the production environment."
   ]
  },
  {
   "cell_type": "markdown",
   "id": "7a13c953-86c9-4b30-86b7-aea2af109183",
   "metadata": {},
   "source": [
    "## Why cant Docker be used to run windows games on mac? \n",
    "\n",
    "Docker can’t run Windows-only games on a Mac because it doesn’t emulate the Windows OS or kernel — it just containers what’s already compatible with the host system."
   ]
  },
  {
   "cell_type": "markdown",
   "id": "2b1e61b9-8f8a-4eff-8262-cbf9e2893dc9",
   "metadata": {},
   "source": [
    "| **Feature**                | **Docker**                          | **VM / Wine / Cloud**            |\n",
    "|---------------------------|-------------------------------------|----------------------------------|\n",
    "| Windows Kernel Support     | ❌ No (on macOS/Linux)              | ✅ Yes (in VM/Wine)              |\n",
    "| Run `.exe` apps            | ❌ Not directly                     | ✅ In VM or with Wine            |\n",
    "| Performance for games      | ❌ Poor or non-functional           | ✅ VM/cloud can be decent        |\n",
    "| Intended use               | ✅ Apps, scripts, servers           | ✅ Full OS & GUI apps            |\n"
   ]
  },
  {
   "cell_type": "markdown",
   "id": "77c32794-12bb-4fd0-94da-ea5fa309cb91",
   "metadata": {},
   "source": [
    "### Docker components: "
   ]
  },
  {
   "cell_type": "markdown",
   "id": "58bbb191-043b-4172-a85a-c13bcede2640",
   "metadata": {},
   "source": [
    "| **Concept**       | **Meaning**                                                                 |\n",
    "|-------------------|------------------------------------------------------------------------------|\n",
    "| **Image**         | A snapshot of your app + environment (OS, Python, dependencies, etc.)       |\n",
    "| **Container**     | A running instance of an image                                               |\n",
    "| **Dockerfile**    | Instructions to build a Docker image                                         |\n",
    "| **Volume**        | Persisted data (e.g., DB data) outside the container’s lifecycle             |\n",
    "| **docker-compose**| Tool to manage multi-container applications via a YAML file                 |"
   ]
  },
  {
   "cell_type": "markdown",
   "id": "19ae031d-25bf-4fde-b69b-94a8fb7c34cb",
   "metadata": {},
   "source": [
    "<hr>\n",
    "\n",
    "# Dockerizing a Simple Flask App: \n",
    "\n",
    "🧱 Project Structure\n",
    "\n",
    "flask-docker-app/ \\\n",
    "├── app.py \\\n",
    "├── requirements.txt \\\n",
    "└── Dockerfile"
   ]
  },
  {
   "cell_type": "markdown",
   "id": "2799b824-3d3e-4626-a169-060d336a3a84",
   "metadata": {},
   "source": [
    "### 🔹 app.py"
   ]
  },
  {
   "cell_type": "code",
   "execution_count": null,
   "id": "9b4b368b-21c4-463c-8bcc-295d4ded5b38",
   "metadata": {},
   "outputs": [],
   "source": [
    "from flask import Flask\n",
    "\n",
    "app = Flask(__name__)\n",
    "\n",
    "@app.route(\"/\")\n",
    "def home():\n",
    "    return \"Hello from Docker!\"\n",
    "\n",
    "if __name__ == \"__main__\":\n",
    "    app.run(debug=True, host=\"0.0.0.0\")"
   ]
  },
  {
   "cell_type": "markdown",
   "id": "2aec80e7-c5b7-48f7-988b-92c3f699cc0a",
   "metadata": {},
   "source": [
    "### 🔹 requirements.txt\n",
    "\n",
    "```flask```"
   ]
  },
  {
   "cell_type": "markdown",
   "id": "24a3ca20-bb8c-4389-bdf1-8d3043a7c73d",
   "metadata": {},
   "source": [
    "### 🔹 Dockerfile"
   ]
  },
  {
   "cell_type": "code",
   "execution_count": null,
   "id": "02dc6d5a-33dc-47cf-b638-0c6351504e59",
   "metadata": {},
   "outputs": [],
   "source": [
    "# Use official Python image\n",
    "FROM python:3.10-slim\n",
    "\n",
    "# Set working directory\n",
    "WORKDIR /app\n",
    "\n",
    "# Copy files\n",
    "COPY requirements.txt .\n",
    "RUN pip install -r requirements.txt\n",
    "COPY . .\n",
    "\n",
    "# Expose port and run the app\n",
    "EXPOSE 5000\n",
    "CMD [\"python\", \"app.py\"]"
   ]
  },
  {
   "cell_type": "markdown",
   "id": "620470c6-edd5-4560-aa3d-7b739eae5100",
   "metadata": {},
   "source": [
    "### 🏃 Build and Run"
   ]
  },
  {
   "cell_type": "code",
   "execution_count": null,
   "id": "423946d8-0cb8-4193-8140-9bc617515cfa",
   "metadata": {},
   "outputs": [],
   "source": [
    "# From inside the project folder\n",
    "docker build -t flask-app .\n",
    "docker run -p 5000:5000 flask-app"
   ]
  },
  {
   "cell_type": "markdown",
   "id": "42899e71-200c-4041-9e01-0844f13747ee",
   "metadata": {},
   "source": [
    "<hr> \n",
    "\n",
    "# 🚀 Key Difference Between Using Docker vs Git & GitHub\n",
    "\n",
    "### ✅ **Docker** ensures that your code **runs exactly the same** regardless of:\n",
    "- Operating system (Windows, macOS, Linux)\n",
    "- User (developer, tester, intern, or CI/CD server)\n",
    "\n",
    "It packages your code with its environment — including dependencies, runtime, and configurations — to eliminate the classic “it works on my machine” problem.\n",
    "\n",
    "### 🛠️ **Git & GitHub**, on the other hand:\n",
    "- Are tools for **version control** and **collaboration**\n",
    "- Allow multiple developers to work on the **same codebase**\n",
    "- Track changes, manage branches, and support code reviews\n",
    "\n",
    "However, **Git does not control how the code runs**.  \n",
    "Two developers may have the **exact same code**, but still face different issues if their local environments (e.g., Python version, OS, dependencies) are not configured the same way.\n",
    "\n"
   ]
  },
  {
   "cell_type": "code",
   "execution_count": null,
   "id": "3093f563-840a-4ae4-9953-184678e531f1",
   "metadata": {},
   "outputs": [],
   "source": []
  }
 ],
 "metadata": {
  "kernelspec": {
   "display_name": "Python 3 (ipykernel)",
   "language": "python",
   "name": "python3"
  },
  "language_info": {
   "codemirror_mode": {
    "name": "ipython",
    "version": 3
   },
   "file_extension": ".py",
   "mimetype": "text/x-python",
   "name": "python",
   "nbconvert_exporter": "python",
   "pygments_lexer": "ipython3",
   "version": "3.12.7"
  }
 },
 "nbformat": 4,
 "nbformat_minor": 5
}

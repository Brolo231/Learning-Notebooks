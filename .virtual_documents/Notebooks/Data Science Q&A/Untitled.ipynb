


## 1. Types of Data

**Q1:** What is the difference between *nominal* and *ordinal* data?


## 2. Shape of Distribution

**Q2:** What does it mean if a dataset is *right-skewed*?



## 3. Variance and Standard Deviation

**Q3:** What does a high standard deviation tell you about a dataset?

**Q4:** Can variance ever be negative?


## 4. Percentiles, Quartiles, and IQR

**Q5:** What does the 75th percentile represent?

**Q6:** How is IQR calculated and what is it used for?



## 5. Outliers

**Q7:** How can you detect outliers using the IQR method?

**Q8:** Why is it important to handle outliers before building a machine learning model?


## 6. Correlation and Covariance

**Q9:** What does a correlation coefficient of -0.95 indicate?

**Q10:** How does correlation differ from covariance?



## 7. Probability Basics

**Q11:** What is the probability of getting heads in a fair coin toss?

**Q12:** Why is probability important in machine learning?


## 8. Sampling and Central Limit Theorem (CLT)

**Q13:** What does the Central Limit Theorem state?

**Q14:** Why is sampling used in data science?


## 9. Inferential Statistics

**Q15:** What is a p-value in hypothesis testing?

**Q16:** What does a p-value < 0.05 indicate?


## 10. Common Distributions

**Q17:** Give an example where the Poisson distribution is appropriate.

**Q18:** When should you use the normal distribution in analysis?

---





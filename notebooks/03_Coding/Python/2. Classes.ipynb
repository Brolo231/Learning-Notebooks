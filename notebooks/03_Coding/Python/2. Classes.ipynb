{
 "cells": [
  {
   "cell_type": "markdown",
   "id": "7a3356c0-f7bc-42e5-a798-7eeca788f5a5",
   "metadata": {},
   "source": [
    "# Classes, Encapsulation & Inheritance"
   ]
  },
  {
   "cell_type": "code",
   "execution_count": 1,
   "id": "ef0e176c-f8d6-4467-a2b8-bfa26b099246",
   "metadata": {},
   "outputs": [
    {
     "name": "stdout",
     "output_type": "stream",
     "text": [
      "Rex\n",
      "5\n",
      "Rex says Woof!\n"
     ]
    }
   ],
   "source": [
    "# __init__ is what initializes self.name and self.age - when a class object is created __init__ is automatically called\n",
    "\n",
    "class Dog:\n",
    "    def __init__(self, name, age):\n",
    "        self.name = name      # instance attribute\n",
    "        self.age = age        # instance attribute\n",
    "\n",
    "    # bark is a method of the class Dog that needs to be called manually\n",
    "    \n",
    "    def bark(self):           # method\n",
    "        print(f\"{self.name} says Woof!\")\n",
    "\n",
    "# Create an object (instance)\n",
    "my_dog = Dog(\"Rex\", 5)\n",
    "\n",
    "#   1.\tAllocates memory for a new Dog object.\n",
    "#\t2.\tCalls __init__(self, \"Rex\", 5).\n",
    "#   3.\tSets:\n",
    "#   •\tmy_dog.name = \"Rex\"\n",
    "#   •\tmy_dog.age = 5\n",
    "\n",
    "\n",
    "# Access methods and attributes\n",
    "print(my_dog.name)  # Output: Rex\n",
    "print(my_dog.age)   # Output: 5\n",
    "my_dog.bark()       # Output: Rex says Woof!"
   ]
  },
  {
   "cell_type": "markdown",
   "id": "b4c3e074-716c-40a0-82c2-2c63415dc1da",
   "metadata": {},
   "source": [
    "# 🧩 Case Study Practice Question: University Course Management System\n",
    "\n",
    "## 🎓 Scenario:\n",
    "\n",
    "You are asked to design a simple Course Management System for a university that tracks students and the courses they register for.\n",
    "\n",
    "<hr>\n",
    "\n",
    "### 🔧 Requirements:\n",
    "1.\tCreate a Course class with the following attributes: \\\n",
    "• course_code (e.g., “CSC101”) \\\n",
    "• course_name (e.g., “Intro to Computer Science”) \\\n",
    "• max_students (maximum number of students allowed) \\\n",
    "• A list to store the registered students (names only for simplicity) \n",
    "2.\tImplement the following methods for the Course class: \\\n",
    "• register_student(student_name): Adds the student if max is not exceeded. If full,display a warning. \\\n",
    "• unregister_student(student_name): Removes the student if found. \\\n",
    "• course_info(): Returns the course name, code, total registered students, and how many spots are left.\n",
    "\n",
    "<hr>\n",
    "\n",
    "### Sample output: \n",
    "\n",
    "```>>> c = Course(\"CSC101\", \"Intro to Computer Science\", 2)``` \\\n",
    "```>>> c.register_student(\"Alice\")``` \\\n",
    "```>>> c.register_student(\"Bob\")``` \\\n",
    "```>>> c.register_student(\"Charlie\")``` \\\n",
    "```Max capacity reached! Cannot register Charlie.``` \n",
    "\n",
    "```>>> c.unregister_student(\"Alice\")``` \\\n",
    "```>>> c.course_info()``` \\\n",
    "```Course CSC101: Intro to Computer Science``` \\\n",
    "```Students registered: 1``` \\\n",
    "```Seats remaining: 1```"
   ]
  },
  {
   "cell_type": "code",
   "execution_count": 32,
   "id": "5ba6d044-2865-4b0b-9e58-c00dfb526dd7",
   "metadata": {},
   "outputs": [],
   "source": [
    "class Course:\n",
    "    def __init__(self, course_code, course_name, max_students):\n",
    "        self.course_code = course_code\n",
    "        self.course_name = course_name\n",
    "        self.max_students = max_students\n",
    "        self.student_list = []\n",
    "    \n",
    "\n",
    "    def register_student(self, student_name):\n",
    "        if len(self.student_list) < self.max_students:\n",
    "            self.student_list.append(student_name)\n",
    "        else:\n",
    "            print(f'Max capacity reached! Cannot register {student_name}')\n",
    "\n",
    "    def unregister_student(self, student_name):\n",
    "        if student_name in self.student_list:\n",
    "            # ChatGPT:\n",
    "            # You’re wrapping student_name in an f-string, which isn’t wrong \n",
    "            # if it’s a string, but it’s redundant and can cause bugs if someone \n",
    "            # ever passes a non-string accidentally.\n",
    "\n",
    "            # Instead use:\n",
    "            # self.student_list.remove(student_name)\n",
    "            self.student_list.remove(f'{student_name}')\n",
    "        else:\n",
    "            print(f'{student_name} is not registered')\n",
    "\n",
    "    def course_info(self):\n",
    "        print(f'Course {self.course_code}: {self.course_name}')\n",
    "        print(f'Students registered: {len(self.student_list)}')\n",
    "        print(f'Seats remaining: {self.max_students - len(self.student_list)}')\n",
    "        "
   ]
  },
  {
   "cell_type": "code",
   "execution_count": 33,
   "id": "75e4e5b6-ebc3-4a5a-805a-a65b75d83754",
   "metadata": {},
   "outputs": [],
   "source": [
    "c = Course(\"CSC101\", \"Intro to Computer Science\", 2)"
   ]
  },
  {
   "cell_type": "code",
   "execution_count": 34,
   "id": "af6c4712-dc77-48e2-bb09-78091287cf9d",
   "metadata": {},
   "outputs": [],
   "source": [
    "c.register_student(\"Alice\")"
   ]
  },
  {
   "cell_type": "code",
   "execution_count": 35,
   "id": "a0542994-b0e6-41a9-8d90-41a477f93331",
   "metadata": {},
   "outputs": [],
   "source": [
    "c.register_student(\"Bob\")"
   ]
  },
  {
   "cell_type": "code",
   "execution_count": 36,
   "id": "2990e0c4-14b1-4392-aafb-09d9161aea9f",
   "metadata": {},
   "outputs": [
    {
     "name": "stdout",
     "output_type": "stream",
     "text": [
      "Max capacity reached! Cannot register Charlie\n"
     ]
    }
   ],
   "source": [
    "c.register_student(\"Charlie\")"
   ]
  },
  {
   "cell_type": "code",
   "execution_count": 37,
   "id": "32ad9223-689b-46eb-8753-b3bb744ad879",
   "metadata": {},
   "outputs": [],
   "source": [
    "c.unregister_student(\"Alice\")"
   ]
  },
  {
   "cell_type": "code",
   "execution_count": 38,
   "id": "5665c0a7-89dd-4dd6-945e-4ba1a1ef5fb0",
   "metadata": {},
   "outputs": [
    {
     "name": "stdout",
     "output_type": "stream",
     "text": [
      "Course CSC101: Intro to Computer Science\n",
      "Students registered: 1\n",
      "Seats remaining: 1\n"
     ]
    }
   ],
   "source": [
    "c.course_info()"
   ]
  },
  {
   "cell_type": "markdown",
   "id": "71cbd809-53b1-45e1-b692-27e3391a1404",
   "metadata": {},
   "source": [
    "<hr>\n",
    "\n",
    "## 🔐 Encapsulation Definition:\n",
    "\n",
    "Encapsulation in Python is the practice of hiding internal object details and controlling access to them through methods (getters and setters), typically using private attributes.\n",
    "\n",
    "| Level      | Syntax     | Access from outside                              |\n",
    "|------------|------------|--------------------------------------------------|\n",
    "| Public     | `self.name` | ✅ Direct access                                 |\n",
    "| Protected* | `_name`     | ⚠️ Conventionally protected, but accessible      |\n",
    "| Private    | `__name`    | ❌ Direct access blocked (name mangled)          |"
   ]
  },
  {
   "cell_type": "markdown",
   "id": "af8fed99-b564-4721-be6b-68b8cddefc68",
   "metadata": {},
   "source": [
    "# 🎓 Case Study Question: University Library Book Management System\n",
    "\n",
    "## 📚 Scenario:\n",
    "\n",
    "You’re tasked with building a Library Book Management System that tracks book inventory, availability, and borrowing history. The system must protect certain data using encapsulation and follow good OOP design principles.\n",
    "\n",
    "<hr>\n",
    "\n",
    "### 🔧 Requirements:\n",
    "\n",
    "🔷 1. Create a Book class with: \n",
    "- Public attributes: \n",
    "    - title (str) \n",
    "    - author (str) \n",
    "    - isbn (str) \n",
    "- Private attributes:\n",
    "    - __copies_total (int) \n",
    "    - __copies_available (int) \n",
    "    - __borrow_history (a list of borrower names) \n",
    "\n",
    "🔷 2. Include the following methods: \n",
    "- get_available_copies() → returns number of available copies \n",
    "- set_total_copies(new_total) → sets new total only if it’s ≥ currently borrowed copies\n",
    "- borrow_book(borrower_name):\n",
    "    - Checks if a copy is available\n",
    "    - If so, decreases available count, logs borrower’s name\n",
    "    - Else, prints “No copies available”\n",
    "- return_book(borrower_name):\n",
    "    - Increases available count\n",
    "    - Removes borrower’s name from history if present\n",
    "- get_borrow_history() → returns a copy of the borrower list\n",
    "\n",
    "<hr>\n",
    "\n",
    "🔐 Constraints:\n",
    "- All private attributes must be accessed only via getters/setters\n",
    "- Borrow history should not be modifiable directly\n",
    "- Must protect the data from invalid operations (e.g. setting negative copies)"
   ]
  },
  {
   "cell_type": "code",
   "execution_count": 139,
   "id": "f34b8316-8c21-4b4f-b3e8-2671b3555f3f",
   "metadata": {},
   "outputs": [],
   "source": [
    "class Book:\n",
    "    def __init__(self, title, author, isbn, copies_total):\n",
    "        # Public attributes\n",
    "        self.title = title\n",
    "        self.author = author\n",
    "        self.isbn = isbn \n",
    "        # Private attributes\n",
    "        self.__copies_total = copies_total\n",
    "        self.__copies_available = copies_total\n",
    "        self.__borrow_history = []\n",
    "\n",
    "    # methods \n",
    "\n",
    "    def borrow_book(self, borrower_name):\n",
    "        if self.__copies_available > 0:\n",
    "            self.__copies_available -= 1\n",
    "            self.__borrow_history.append(borrower_name)\n",
    "        else:\n",
    "            print(\"No copies available\")\n",
    "\n",
    "    def return_book(self, borrower_name):\n",
    "        if borrower_name in self.__borrow_history:\n",
    "            self.__borrow_history.remove(borrower_name)\n",
    "            self.__copies_available += 1\n",
    "        else:\n",
    "            print(f'Borrower name \"{borrower_name}\" not found')\n",
    "\n",
    "\n",
    "    # getters\n",
    "    \n",
    "    # __copies_available\n",
    "    def get_available_copies(self):\n",
    "        return self.__copies_available\n",
    "\n",
    "    \n",
    "    # ChatGPT: \n",
    "    # This exposes internal data — a user could do:\n",
    "    # book.get_borrow_history().append(\"FakeUser\")\n",
    "    # ✅ Fix:\n",
    "    # def get_borrow_history(self):\n",
    "    #     return self.__borrow_history.copy()\n",
    "    # This way, they get a copy of the list and can’t modify the real one.\n",
    "    def get_borrow_history(self):\n",
    "        return self.__borrow_history\n",
    "\n",
    "    # setters\n",
    "\n",
    "    def set_total_copies(self, new_total):\n",
    "        # must be equal to or higher than number of currently borrowered books\n",
    "        # \n",
    "        if new_total >= len(self.__borrow_history):\n",
    "            self.__copies_total = new_total\n",
    "            self.__copies_available = self.__copies_total - len(self.__borrow_history)\n",
    "        else:\n",
    "            print(f'Copies available must be equal to or higher than number of borrowed books: {len(self.__borrow_history)}')\n"
   ]
  },
  {
   "cell_type": "code",
   "execution_count": 140,
   "id": "f6ab6903-e4a7-446b-86fb-fd004d451501",
   "metadata": {},
   "outputs": [],
   "source": [
    "book = Book(\"1984\", \"George Orwell\", \"ISBN123\", 3)"
   ]
  },
  {
   "cell_type": "code",
   "execution_count": 141,
   "id": "56cfc66e-a95f-44a5-9fd6-c7a4645ce80b",
   "metadata": {},
   "outputs": [],
   "source": [
    "book.borrow_book(\"Alice\")"
   ]
  },
  {
   "cell_type": "code",
   "execution_count": 142,
   "id": "8a9dc0c7-1079-47b3-8c1b-1b60cc92e67a",
   "metadata": {},
   "outputs": [],
   "source": [
    "book.borrow_book(\"Bob\")"
   ]
  },
  {
   "cell_type": "code",
   "execution_count": 143,
   "id": "c7fbba82-e855-4f3c-8a03-483c8ce0a1e0",
   "metadata": {},
   "outputs": [],
   "source": [
    "book.borrow_book(\"Charlie\")"
   ]
  },
  {
   "cell_type": "code",
   "execution_count": 144,
   "id": "65a1f341-9913-44c1-851f-01839e92160a",
   "metadata": {},
   "outputs": [
    {
     "name": "stdout",
     "output_type": "stream",
     "text": [
      "No copies available\n"
     ]
    }
   ],
   "source": [
    "book.borrow_book(\"Dave\")"
   ]
  },
  {
   "cell_type": "code",
   "execution_count": 145,
   "id": "57cbe347-4c95-4e32-b5ea-42765ce592ca",
   "metadata": {},
   "outputs": [
    {
     "name": "stdout",
     "output_type": "stream",
     "text": [
      "0\n"
     ]
    }
   ],
   "source": [
    "print(book.get_available_copies())"
   ]
  },
  {
   "cell_type": "code",
   "execution_count": 146,
   "id": "c1a27177-c403-49c2-a8d0-7a02dbcbd90a",
   "metadata": {},
   "outputs": [],
   "source": [
    "book.return_book(\"Alice\")"
   ]
  },
  {
   "cell_type": "code",
   "execution_count": 147,
   "id": "8af22610-77a9-43d9-8ae9-2551e80595a5",
   "metadata": {},
   "outputs": [
    {
     "name": "stdout",
     "output_type": "stream",
     "text": [
      "1\n"
     ]
    }
   ],
   "source": [
    "print(book.get_available_copies())"
   ]
  },
  {
   "cell_type": "code",
   "execution_count": 148,
   "id": "32b88f82-1450-48db-93de-b26c1c90815f",
   "metadata": {},
   "outputs": [],
   "source": [
    "book.set_total_copies(2)"
   ]
  },
  {
   "cell_type": "code",
   "execution_count": 149,
   "id": "9f3483cc-56b9-4271-a11c-ddec6a9e90ae",
   "metadata": {},
   "outputs": [
    {
     "name": "stdout",
     "output_type": "stream",
     "text": [
      "Copies available must be equal to or higher than number of borrowed books: 2\n"
     ]
    }
   ],
   "source": [
    "book.set_total_copies(0)"
   ]
  },
  {
   "cell_type": "code",
   "execution_count": 150,
   "id": "356eca97-ce39-4dc8-8efd-bda3605015a6",
   "metadata": {},
   "outputs": [
    {
     "name": "stdout",
     "output_type": "stream",
     "text": [
      "['Bob', 'Charlie']\n"
     ]
    }
   ],
   "source": [
    "print(book.get_borrow_history())"
   ]
  },
  {
   "cell_type": "markdown",
   "id": "098bfd02-9abf-4320-8997-99dd31571f36",
   "metadata": {},
   "source": [
    "# Output example for the above exercise: \n",
    "\n",
    "```book = Book(\"1984\", \"George Orwell\", \"ISBN123\", 3)```\n",
    "\n",
    "```book.borrow_book(\"Alice\")```\\\n",
    "```book.borrow_book(\"Bob\")```\\\n",
    "```book.borrow_book(\"Charlie\")```\\\n",
    "```book.borrow_book(\"Dave\")      # Output: No copies available```\n",
    "\n",
    "```print(book.get_available_copies())  # Output: 0```\n",
    "\n",
    "```book.return_book(\"Alice\")```\\\n",
    "```print(book.get_available_copies())  # Output: 1```\n",
    "\n",
    "```book.set_total_copies(2)  # ✅ OK```\\\n",
    "```book.set_total_copies(0)  # ❌ Error: Cannot reduce below current borrowed count```\n",
    "\n",
    "```print(book.get_borrow_history())    # Output: ['Bob', 'Charlie']```"
   ]
  },
  {
   "cell_type": "markdown",
   "id": "4ae11484-b11e-4e5e-b5a3-bc815109fb02",
   "metadata": {},
   "source": [
    "# ChatGPT:\n",
    "\n",
    "## 🧪 Suggestion: Test the Edge Cases\n",
    "\n",
    "Here’s a test you can try in your notebook:"
   ]
  },
  {
   "cell_type": "code",
   "execution_count": 151,
   "id": "2550c531-116e-4731-9a49-3a21988230b2",
   "metadata": {},
   "outputs": [
    {
     "name": "stdout",
     "output_type": "stream",
     "text": [
      "No copies available\n",
      "0\n",
      "Borrower name \"Zoe\" not found\n",
      "Copies available must be equal to or higher than number of borrowed books: 2\n",
      "2\n",
      "['Bob', 'Charlie']\n"
     ]
    }
   ],
   "source": [
    "book = Book(\"1984\", \"Orwell\", \"ISBN123\", 3)\n",
    "\n",
    "book.borrow_book(\"Alice\")\n",
    "book.borrow_book(\"Bob\")\n",
    "book.borrow_book(\"Charlie\")\n",
    "book.borrow_book(\"Dave\")  # No copies available\n",
    "\n",
    "print(book.get_available_copies())  # 0\n",
    "\n",
    "book.return_book(\"Zoe\")  # Not found\n",
    "book.return_book(\"Alice\")\n",
    "\n",
    "book.set_total_copies(1)  # Should fail (still 2 borrowed)\n",
    "book.set_total_copies(4)  # Should work\n",
    "\n",
    "print(book.get_available_copies())  # Should now be 2\n",
    "print(book.get_borrow_history())    # ['Bob', 'Charlie']"
   ]
  },
  {
   "cell_type": "code",
   "execution_count": null,
   "id": "4af8f69a-740c-49da-ae01-8fa7e6b661fe",
   "metadata": {},
   "outputs": [],
   "source": []
  }
 ],
 "metadata": {
  "kernelspec": {
   "display_name": "Python 3 (ipykernel)",
   "language": "python",
   "name": "python3"
  },
  "language_info": {
   "codemirror_mode": {
    "name": "ipython",
    "version": 3
   },
   "file_extension": ".py",
   "mimetype": "text/x-python",
   "name": "python",
   "nbconvert_exporter": "python",
   "pygments_lexer": "ipython3",
   "version": "3.12.7"
  }
 },
 "nbformat": 4,
 "nbformat_minor": 5
}

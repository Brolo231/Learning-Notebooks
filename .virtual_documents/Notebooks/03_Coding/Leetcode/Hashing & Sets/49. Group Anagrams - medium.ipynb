


class Solution:
    def groupAnagrams(self, strs: list[str]) -> list[list[str]]:

        seen = []
        for value in strs:
            for idx, pair in enumerate(seen):
                if sorted(value) == sorted(pair[0]):
                    seen[idx].append(value)
                    break
                if sorted(value) != sorted(pair[0]) and idx == len(seen) - 1:
                    seen.append([value])
                    break
            if not seen:
                seen.append([strs[0]])

        return seen

s = Solution()
s.groupAnagrams(["eat","tea","tan","ate","nat","bat"])





class Solution:
    def groupAnagrams(self, strs: list[str]) -> list[list[str]]:
        anagrams = {}

        for word in strs:
            key = ''.join(sorted(word))  # use sorted string as the key
            if key not in anagrams:
                anagrams[key] = []
            anagrams[key].append(word)

        return list(anagrams.values())

s = Solution()
s.groupAnagrams(["eat","tea","tan","ate","nat","bat"])

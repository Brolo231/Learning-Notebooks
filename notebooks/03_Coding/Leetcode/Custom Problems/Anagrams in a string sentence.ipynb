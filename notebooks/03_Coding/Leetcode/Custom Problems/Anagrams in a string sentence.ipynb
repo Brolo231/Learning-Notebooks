{
 "cells": [
  {
   "cell_type": "markdown",
   "id": "235ea746-0765-4318-8562-ae046e345f91",
   "metadata": {},
   "source": [
    "Find all possible anagrams in a sentence string. \n",
    "\n",
    "Return True if an anagram exists and False if it does not\n",
    "\n",
    "Example: \n",
    "\"Don't ignore that hat or that region\"\n",
    "\n",
    "```class Solution:```\\\n",
    "```     def containsAnagram(sentence: str) -> list:```"
   ]
  },
  {
   "cell_type": "code",
   "execution_count": 21,
   "id": "7188a420-ea7c-46eb-8606-f3cf36f7fb2a",
   "metadata": {},
   "outputs": [
    {
     "data": {
      "text/plain": [
       "True"
      ]
     },
     "execution_count": 21,
     "metadata": {},
     "output_type": "execute_result"
    }
   ],
   "source": [
    "class Solution:\n",
    "    def containsAnagram(self, sentence: str) -> bool:\n",
    "        seen = []\n",
    "    \n",
    "        for word in sentence.split(\" \"):\n",
    "            if sorted(word.strip().lower()) in seen:\n",
    "                return True\n",
    "            else:\n",
    "                seen.append(sorted(word.strip().lower()))\n",
    "\n",
    "        return False\n",
    "\n",
    "s = Solution()\n",
    "s.containsAnagram(\"Don't ignore that hat or that region\")\n",
    "             "
   ]
  },
  {
   "cell_type": "code",
   "execution_count": null,
   "id": "36e9a2b4-8e5e-4d35-97b4-679bdc0c8345",
   "metadata": {},
   "outputs": [],
   "source": []
  }
 ],
 "metadata": {
  "kernelspec": {
   "display_name": "Python 3 (ipykernel)",
   "language": "python",
   "name": "python3"
  },
  "language_info": {
   "codemirror_mode": {
    "name": "ipython",
    "version": 3
   },
   "file_extension": ".py",
   "mimetype": "text/x-python",
   "name": "python",
   "nbconvert_exporter": "python",
   "pygments_lexer": "ipython3",
   "version": "3.12.7"
  }
 },
 "nbformat": 4,
 "nbformat_minor": 5
}

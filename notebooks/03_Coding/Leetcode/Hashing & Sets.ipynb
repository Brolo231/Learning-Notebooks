{
 "cells": [
  {
   "cell_type": "markdown",
   "id": "db398f77-2a23-4277-8c7a-4d4604bc6382",
   "metadata": {},
   "source": [
    "# Hashing and Sets\n",
    "\n",
    "<hr>\n",
    "\n",
    "## <a href=\"https://leetcode.com/problems/contains-duplicate/description/\">217. Contains duplicate</a>\n",
    "<span style=\"background-color: lightgreen; color: black;\">easy<span>\n",
    "\n",
    "\n",
    "\n",
    "Given an integer array nums, return true if any value appears at least twice in the array, and return false if every element is distinct.\n",
    "\n",
    " \n",
    "\n",
    "Example 1:\n",
    "\n",
    "```Input: nums = [1,2,3,1]```\\\n",
    "```Output: true```\n",
    "\n",
    "Explanation:\n",
    "The element 1 occurs at the indices 0 and 3.\n",
    "\n",
    "Example 2:\n",
    "\n",
    "```Input: nums = [1,2,3,4]```\\\n",
    "```Output: false```\n",
    "\n",
    "Explanation:\n",
    "All elements are distinct.\n",
    "\n",
    "Example 3:\n",
    "\n",
    "```Input: nums = [1,1,1,3,3,4,3,2,4,2]```\\\n",
    "```Output: true```\n",
    "\n",
    "\n",
    "Constraints:\n",
    "\n",
    "1 <= nums.length <= 105\n",
    "-109 <= nums[i] <= 109\n",
    "\n",
    "```class Solution:```\\\n",
    "```    def containsDuplicate(self, nums: List[int]) -> bool:```\n"
   ]
  },
  {
   "cell_type": "code",
   "execution_count": 1,
   "id": "268cf06c-28ef-4f75-ad27-e24e82aee914",
   "metadata": {},
   "outputs": [
    {
     "data": {
      "text/plain": [
       "False"
      ]
     },
     "execution_count": 1,
     "metadata": {},
     "output_type": "execute_result"
    }
   ],
   "source": [
    "class Solution:\n",
    "    def containsDuplicate(self, nums: list[int]) -> bool:\n",
    "\n",
    "        seen = {}\n",
    "        for idx, value in enumerate(nums):\n",
    "            if value in seen:\n",
    "                return True\n",
    "            seen[value] = idx\n",
    "        return False\n",
    "\n",
    "s = Solution()\n",
    "s.containsDuplicate([1,2,3])"
   ]
  },
  {
   "cell_type": "markdown",
   "id": "137e98da-2b67-44e2-82a7-43db7e9bce8d",
   "metadata": {},
   "source": [
    "***Notes:***\n",
    "- After running the above in leetcode, I noticed that it was slower and less memory efficient than other submissions. After reviewing solutions I gathered that using a set increases efficiency as well as dramatically improves memory. \n",
    "- This makes sense becasue a dictionary is storing key-value pairs whereas a set is only storing keys and since the above solution only makes use of the value we can replace value with the \"key\"\n",
    "- In terms of efficiency I will refer to chatGPT for why the set is faster than the dict.\n",
    "\n",
    "**chatGPT:** \\\n",
    "\"A set is more appropriate because it’s designed to store unique items and perform fast membership checks (in)\" \\\n",
    "\"Python’s set implementation is optimized for uniqueness and fast lookup.\" \\\n",
    "\"Since set.add() only adds keys and doesn’t check or store a corresponding value, it avoids the value handling steps required in a dict.\""
   ]
  },
  {
   "cell_type": "code",
   "execution_count": 2,
   "id": "e6c6f575-4c45-430c-b171-f7a76eeaf180",
   "metadata": {},
   "outputs": [
    {
     "data": {
      "text/plain": [
       "False"
      ]
     },
     "execution_count": 2,
     "metadata": {},
     "output_type": "execute_result"
    }
   ],
   "source": [
    "class Solution:\n",
    "    def containsDuplicate(self, nums: list[int]) -> bool:\n",
    "\n",
    "        seen = set()\n",
    "        for idx, value in enumerate(nums):\n",
    "            if value in seen:\n",
    "                return True\n",
    "            seen.add(value)\n",
    "        return False\n",
    "\n",
    "s = Solution()\n",
    "s.containsDuplicate([1,2,3])"
   ]
  },
  {
   "cell_type": "code",
   "execution_count": 3,
   "id": "f94ff034-1894-4373-aaa2-7782520e2c1d",
   "metadata": {},
   "outputs": [
    {
     "name": "stdout",
     "output_type": "stream",
     "text": [
      "dict_answer: 0.07999537499563303\n",
      "set_answer: 0.034899207996204495\n"
     ]
    }
   ],
   "source": [
    "import timeit\n",
    "\n",
    "dict_answer = '''\n",
    "class Solution:\n",
    "    def containsDuplicate(self, nums: list[int]) -> bool:\n",
    "\n",
    "        seen = {}\n",
    "        for idx, value in enumerate(nums):\n",
    "            if value in seen:\n",
    "                return True\n",
    "            seen[value] = idx\n",
    "        return False\n",
    "\n",
    "s = Solution()\n",
    "s.containsDuplicate([1,2,3])\n",
    "'''\n",
    "\n",
    "set_answer = '''\n",
    "class Solution:\n",
    "    def containsDuplicate(self, nums: list[int]) -> bool:\n",
    "\n",
    "        seen = set()\n",
    "        for idx, value in enumerate(nums):\n",
    "            if value in seen:\n",
    "                return True\n",
    "            seen.add(value)\n",
    "        return False\n",
    "\n",
    "s = Solution()\n",
    "s.containsDuplicate([1,2,3])\n",
    "'''\n",
    "\n",
    "print(\"dict_answer:\", timeit.timeit(stmt=dict_answer, number=10000))\n",
    "print(\"set_answer:\", timeit.timeit(stmt=set_answer, number=10000))"
   ]
  },
  {
   "cell_type": "markdown",
   "id": "c87f7964-af6e-46f1-99d8-ddf0ad26f79b",
   "metadata": {},
   "source": [
    "<hr>\n",
    "\n",
    "## <a href=\"https://leetcode.com/problems/valid-anagram/description/\">242. Valid Anagram</a>\n",
    "<span style=\"background-color: lightgreen; color: black;\">easy<span>\n",
    "\n",
    "Given two strings s and t, return true if t is an anagram of s, and false otherwise.\n",
    "\n",
    " \n",
    "\n",
    "Example 1:\n",
    "\n",
    "```Input: s = \"anagram\", t = \"nagaram\"```\\\n",
    "```Output: true```\n",
    "\n",
    "Example 2:\n",
    "\n",
    "```Input: s = \"rat\", t = \"car\"```\\\n",
    "```Output: false```\n",
    "\n",
    " \n",
    "\n",
    "Constraints:\n",
    "\n",
    "1 <= s.length, t.length <= 5 * 104\n",
    "s and t consist of lowercase English letters.\n",
    " \n",
    "\n",
    "Follow up: What if the inputs contain Unicode characters? How would you adapt your solution to such a case?\n",
    "\n",
    "```class Solution:```\\\n",
    "```    def isAnagram(self, s: str, t: str) -> bool:```\n",
    "        "
   ]
  },
  {
   "cell_type": "code",
   "execution_count": 4,
   "id": "c85a842b-571d-499a-9e7b-a11aeceb879f",
   "metadata": {},
   "outputs": [
    {
     "data": {
      "text/plain": [
       "True"
      ]
     },
     "execution_count": 4,
     "metadata": {},
     "output_type": "execute_result"
    }
   ],
   "source": [
    "class Solution:\n",
    "    def isAnagram(self, s: str, t: str) -> bool:\n",
    "        if len(s) == len(t):\n",
    "            for i in s:\n",
    "                if i in t:\n",
    "                    continue\n",
    "                else:\n",
    "                    return False\n",
    "            return True\n",
    "        else:\n",
    "            return False\n",
    "\n",
    "s = Solution()\n",
    "s.isAnagram(\"aacc\", \"ccac\")"
   ]
  },
  {
   "cell_type": "markdown",
   "id": "3b7e42b2-bc58-4308-8cc2-cdd5d1071caf",
   "metadata": {},
   "source": [
    "^^ Incorrect\n",
    "\n",
    "**Second attempt:** "
   ]
  },
  {
   "cell_type": "code",
   "execution_count": 5,
   "id": "f12a5db8-d49d-4d3d-b5ec-6d69a5658c82",
   "metadata": {},
   "outputs": [
    {
     "data": {
      "text/plain": [
       "True"
      ]
     },
     "execution_count": 5,
     "metadata": {},
     "output_type": "execute_result"
    }
   ],
   "source": [
    "class Solution:\n",
    "    def isAnagram(self, s: str, t: str) -> bool:\n",
    "\n",
    "        seen = {}\n",
    "        if len(s) != len(t):\n",
    "            return False\n",
    "            \n",
    "        for letter in s:\n",
    "            if letter in seen:\n",
    "                seen[letter] += 1\n",
    "            else:\n",
    "                seen[letter] = 1\n",
    "\n",
    "        for letter in t:\n",
    "            if letter in seen and seen[letter] != 0:\n",
    "                seen[letter] -= 1\n",
    "            else:\n",
    "                return False\n",
    "\n",
    "        return True\n",
    "\n",
    "s = Solution()\n",
    "s.isAnagram(\"caac-\", \"acca-\")"
   ]
  },
  {
   "cell_type": "code",
   "execution_count": 6,
   "id": "9881bfdc-3244-4291-ac32-295e32d9fbb7",
   "metadata": {},
   "outputs": [],
   "source": [
    "# Cheating solution is to use the sorted() method"
   ]
  },
  {
   "cell_type": "code",
   "execution_count": 7,
   "id": "4745c01e-27bf-4fcf-bdfb-431cc72eb1af",
   "metadata": {},
   "outputs": [
    {
     "data": {
      "text/plain": [
       "False"
      ]
     },
     "execution_count": 7,
     "metadata": {},
     "output_type": "execute_result"
    }
   ],
   "source": [
    "class Solution:\n",
    "    def isAnagram(self, s: str, t: str) -> bool:\n",
    "        if sorted(s) == sorted(t):\n",
    "            return True\n",
    "        return False\n",
    "\n",
    "s = Solution()\n",
    "s.isAnagram(\"caac-\", \"acca+\")"
   ]
  },
  {
   "cell_type": "markdown",
   "id": "0febcf1d-be5e-4349-af44-d96aeab994cd",
   "metadata": {},
   "source": [
    "<hr>\n",
    "\n",
    "## <a href=\"https://leetcode.com/problems/group-anagrams/description/\">49. Group Anagrams</a>\n",
    "<span style=\"background-color: yellow; color: black;\">medium<span>\n",
    "\n",
    "Given an array of strings strs, group the anagrams together. You can return the answer in any order.\n",
    "\n",
    "\n",
    "Example 1:\n",
    "\n",
    "```Input: strs = [\"eat\",\"tea\",\"tan\",\"ate\",\"nat\",\"bat\"]```\\\n",
    "```Output: [[\"bat\"],[\"nat\",\"tan\"],[\"ate\",\"eat\",\"tea\"]]```\n",
    "\n",
    "Explanation:\n",
    "\n",
    "There is no string in strs that can be rearranged to form \"bat\". \\\n",
    "The strings \"nat\" and \"tan\" are anagrams as they can be rearranged to form each other. \\\n",
    "The strings \"ate\", \"eat\", and \"tea\" are anagrams as they can be rearranged to form each other. \n",
    "\n",
    "Example 2:\n",
    "\n",
    "```Input: strs = [\"\"]```\\\n",
    "```Output: [[\"\"]]```\n",
    "\n",
    "Example 3:\n",
    "\n",
    "```Input: strs = [\"a\"]```\\\n",
    "```Output: [[\"a\"]]```\n",
    "\n",
    " \n",
    "\n",
    "Constraints:\n",
    "\n",
    "1 <= strs.length <= 104 \\\n",
    "0 <= strs[i].length <= 100 \\\n",
    "strs[i] consists of lowercase English letters.\n",
    "\n",
    "```class Solution:```\\\n",
    "```    def groupAnagrams(self, strs: List[str]) -> List[List[str]]:```"
   ]
  },
  {
   "cell_type": "code",
   "execution_count": 33,
   "id": "fbb14e33-4987-404b-b256-042bca5f4e13",
   "metadata": {},
   "outputs": [
    {
     "data": {
      "text/plain": [
       "[['eat', 'tea', 'ate'], ['tan', 'nat'], ['bat']]"
      ]
     },
     "execution_count": 33,
     "metadata": {},
     "output_type": "execute_result"
    }
   ],
   "source": [
    "class Solution:\n",
    "    def groupAnagrams(self, strs: list[str]) -> list[list[str]]:\n",
    "\n",
    "        seen = []\n",
    "        for value in strs:\n",
    "            for idx, pair in enumerate(seen):\n",
    "                if sorted(value) == sorted(pair[0]):\n",
    "                    seen[idx].append(value)\n",
    "                    break\n",
    "                if sorted(value) != sorted(pair[0]) and idx == len(seen) - 1:\n",
    "                    seen.append([value])\n",
    "                    break\n",
    "            if not seen:\n",
    "                seen.append([strs[0]])\n",
    "\n",
    "        return seen\n",
    "\n",
    "s = Solution()\n",
    "s.groupAnagrams([\"eat\",\"tea\",\"tan\",\"ate\",\"nat\",\"bat\"])"
   ]
  },
  {
   "cell_type": "markdown",
   "id": "e5ec0475-4bdb-4019-9070-b32f59e0f25d",
   "metadata": {},
   "source": [
    "### Using a nested for loop to iterate over each value in strs and compare it to the 'groups' currently added to *seen* makes sense to me. However, with a time complexity of $O(n² * k log k)$ (n = # of words, k = word length) this solution is insufficient for leetcode's grader. \n",
    "\n",
    "### ChatGPT Solution: "
   ]
  },
  {
   "cell_type": "code",
   "execution_count": 34,
   "id": "40014908-ed45-451c-a37c-fe0584e5c287",
   "metadata": {},
   "outputs": [
    {
     "data": {
      "text/plain": [
       "[['eat', 'tea', 'ate'], ['tan', 'nat'], ['bat']]"
      ]
     },
     "execution_count": 34,
     "metadata": {},
     "output_type": "execute_result"
    }
   ],
   "source": [
    "class Solution:\n",
    "    def groupAnagrams(self, strs: list[str]) -> list[list[str]]:\n",
    "        anagrams = {}\n",
    "\n",
    "        for word in strs:\n",
    "            key = ''.join(sorted(word))  # use sorted string as the key\n",
    "            if key not in anagrams:\n",
    "                anagrams[key] = []\n",
    "            anagrams[key].append(word)\n",
    "\n",
    "        return list(anagrams.values())\n",
    "\n",
    "s = Solution()\n",
    "s.groupAnagrams([\"eat\",\"tea\",\"tan\",\"ate\",\"nat\",\"bat\"])"
   ]
  },
  {
   "cell_type": "code",
   "execution_count": null,
   "id": "0b207efc-0a89-45d2-8086-69ca7a2121a8",
   "metadata": {},
   "outputs": [],
   "source": []
  }
 ],
 "metadata": {
  "kernelspec": {
   "display_name": "Python 3 (ipykernel)",
   "language": "python",
   "name": "python3"
  },
  "language_info": {
   "codemirror_mode": {
    "name": "ipython",
    "version": 3
   },
   "file_extension": ".py",
   "mimetype": "text/x-python",
   "name": "python",
   "nbconvert_exporter": "python",
   "pygments_lexer": "ipython3",
   "version": "3.12.7"
  }
 },
 "nbformat": 4,
 "nbformat_minor": 5
}

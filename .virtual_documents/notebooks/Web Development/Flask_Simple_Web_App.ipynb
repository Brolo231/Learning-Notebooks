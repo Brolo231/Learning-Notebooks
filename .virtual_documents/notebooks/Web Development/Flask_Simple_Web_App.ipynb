





# Install flask 
!pip install flask


# __init__.py

from flask import Flask

def create_app():
    app = Flask(__name__)

    app.config['SECRET_KEY'] = 'secret_key'

    from .views import website
    app.register_blueprint(website)

    return app


# views.py 

from flask import Blueprint, render_template, request, jsonify, send_from_directory

website = Blueprint('website', __name__)

@website.route('/', methods=['GET', 'POST'])
def home():
    if request.method == "POST":
        return "<h1>Button May have been clicked</h1>"
    return render_template('index.html')





# main.py 

from website import create_app

app = create_app()

if __name__ == '__main__':
    app.run(debug=True, port=5000, host='0.0.0.0')

{
 "cells": [
  {
   "cell_type": "markdown",
   "id": "4835e344-4973-4a63-953e-4d602999691c",
   "metadata": {},
   "source": [
    "# COS2611 Assessment 1 - Practice questions\n",
    "\n",
    "### Exercise 1: Basic Queue Implementation with Passenger Data\n",
    "**Objective:** Implement a simple queue to manage passengers with a single destination type. Practice enqueue, dequeue, and display operations.\n",
    "\n",
    "**Problem:**\n",
    "\n",
    "Create a program that uses a queue to manage passengers. Each passenger has a processing_time. Read passenger data from a file (passengerData.txt) with the format:\n",
    "\n",
    "time,processing_time (e.g., 1,2). Simulate a single queue where passengers are added and processed over time.\n",
    "\n",
    "**Sample File** (passengerData.txt): \\\n",
    "1,2 \\\n",
    "3,1 \\\n",
    "5,3 "
   ]
  },
  {
   "cell_type": "code",
   "execution_count": 36,
   "id": "132a1100-2e49-4f66-bc74-53480ba49482",
   "metadata": {},
   "outputs": [
    {
     "name": "stdout",
     "output_type": "stream",
     "text": [
      "Overwriting passengerData.cpp\n"
     ]
    }
   ],
   "source": [
    "%%writefile passengerData.cpp\n",
    "#include <iostream>\n",
    "#include <fstream>\n",
    "using namespace std;\n",
    "\n",
    "int main(){\n",
    "\n",
    "    // File Input:\n",
    "    ofstream myFile(\"passengerData.txt\");\n",
    "    if(myFile.is_open()){\n",
    "        cout << \"File successfully opened!\\n\\n\";\n",
    "        myFile << 1 << \",\" << 2 << \"\\n\";\n",
    "        myFile << 3 << \",\" << 1 << \"\\n\";\n",
    "        myFile << 5 << \",\" << 3 << \"\\n\";\n",
    "        myFile.close();\n",
    "    }else{\n",
    "        cout << \"Error opening/creating file\\n\\n\";\n",
    "    }\n",
    "\n",
    "    // File Output:\n",
    "    ifstream myFileRead(\"passengerData.txt\");\n",
    "    string line;\n",
    "    if(myFileRead.is_open()){\n",
    "        cout << \"File successfully opened for reading\\n\\n\";\n",
    "        while(getline(myFileRead, line)){\n",
    "            cout << line << \"\\n\";\n",
    "        }\n",
    "        myFileRead.close();\n",
    "    }else{\n",
    "        cout << \"Error opening file for reading\\n\\n\";\n",
    "    }\n",
    "\n",
    "\n",
    "    // Reading each character:\n",
    "    ifstream myCharacters(\"passengerData.txt\");\n",
    "    if(myCharacters.is_open()){\n",
    "        int i;\n",
    "        cout << \"\\n\";\n",
    "        while(getline(myCharacters, line)){\n",
    "            for(i = 0; i < line.size(); i++){\n",
    "                if(line[i] != ','){\n",
    "                    cout << line[i] << \" \";\n",
    "                }\n",
    "            }\n",
    "        }\n",
    "    }else{\n",
    "        cout << \"Error reading individual characters\";\n",
    "    }\n",
    "\n",
    "    return 0;\n",
    "}"
   ]
  },
  {
   "cell_type": "code",
   "execution_count": 37,
   "id": "d9099aea-1a3d-450d-bdf4-daa652f93609",
   "metadata": {},
   "outputs": [
    {
     "name": "stdout",
     "output_type": "stream",
     "text": [
      "File successfully opened!\n",
      "\n",
      "File successfully opened for reading\n",
      "\n",
      "1,2\n",
      "3,1\n",
      "5,3\n",
      "\n",
      "1 2 3 1 5 3 "
     ]
    }
   ],
   "source": [
    "!g++ passengerData.cpp -o passengerData\n",
    "!./passengerData"
   ]
  },
  {
   "cell_type": "code",
   "execution_count": null,
   "id": "e5072ad7-3709-48b1-acc7-df11242917af",
   "metadata": {},
   "outputs": [],
   "source": [
    "%%write"
   ]
  }
 ],
 "metadata": {
  "kernelspec": {
   "display_name": "Python 3 (ipykernel)",
   "language": "python",
   "name": "python3"
  },
  "language_info": {
   "codemirror_mode": {
    "name": "ipython",
    "version": 3
   },
   "file_extension": ".py",
   "mimetype": "text/x-python",
   "name": "python",
   "nbconvert_exporter": "python",
   "pygments_lexer": "ipython3",
   "version": "3.12.7"
  }
 },
 "nbformat": 4,
 "nbformat_minor": 5
}







def get_first_element(arr):
    return arr[0]

# O(1)
print(get_first_element([10, 20, 30]))





def binary_search(arr, target):
    left, right = 0, len(arr) - 1
    while left <= right:
        mid = (left + right) // 2
        if arr[mid] == target:
            return mid
        elif arr[mid] < target:
            left = mid + 1
        else:
            right = mid - 1
    return -1

# O(log n)
print(binary_search([1, 3, 5, 7, 9], 7))





def find_max(arr):
    max_val = arr[0]
    for num in arr:
        if num > max_val:
            max_val = num
    return max_val

# O(n)
print(find_max([1, 5, 2, 9, 3]))





def merge_sort(arr):
    if len(arr) <= 1:
        return arr
    mid = len(arr) // 2
    left = merge_sort(arr[:mid])
    right = merge_sort(arr[mid:])
    return merge(left, right)

def merge(left, right):
    result, i, j = [], 0, 0
    while i < len(left) and j < len(right):
        if left[i] < right[j]:
            result.append(left[i])
            i += 1
        else:
            result.append(right[j])
            j += 1
    result.extend(left[i:])
    result.extend(right[j:])
    return result

# O(n log n)
print(merge_sort([5, 2, 4, 6, 1, 3]))





def bubble_sort(arr):
    n = len(arr)
    for i in range(n):
        for j in range(n - i - 1):
            if arr[j] > arr[j + 1]:
                arr[j], arr[j + 1] = arr[j + 1], arr[j]
    return arr

# O(n^2)
print(bubble_sort([4, 2, 7, 1, 3]))





def fibonacci(n):
    if n <= 1:
        return n
    return fibonacci(n-1) + fibonacci(n-2)

# O(2^n)
print(fibonacci(5))





from itertools import permutations

def generate_permutations(arr):
    return list(permutations(arr))

# O(n!)
print(generate_permutations([1, 2, 3]))




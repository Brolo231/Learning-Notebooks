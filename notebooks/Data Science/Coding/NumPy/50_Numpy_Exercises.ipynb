{
 "cells": [
  {
   "cell_type": "markdown",
   "id": "4b14d584",
   "metadata": {
    "hideCode": false,
    "hidePrompt": false
   },
   "source": [
    "# NumPy Beginner Exercises\n",
    "### ========================"
   ]
  },
  {
   "cell_type": "code",
   "execution_count": 1,
   "id": "85860cf9-e27a-4bc7-9e94-6e5dbcc29c10",
   "metadata": {},
   "outputs": [],
   "source": [
    "# 1. Import required libraries\n",
    "import numpy as np"
   ]
  },
  {
   "cell_type": "code",
   "execution_count": 2,
   "id": "ae5c5194-4087-4416-baaa-9a61265091a2",
   "metadata": {},
   "outputs": [],
   "source": [
    "# 2. Exercise 1\n",
    "# Display current numpy version\n",
    "version = np.__version__ # Replace with your answer"
   ]
  },
  {
   "cell_type": "code",
   "execution_count": 22,
   "id": "7acfa2f5-f829-411a-8500-7d7ce495d587",
   "metadata": {},
   "outputs": [
    {
     "data": {
      "text/plain": [
       "array([0, 1, 2, 3, 4, 5, 6, 7, 8, 9])"
      ]
     },
     "execution_count": 22,
     "metadata": {},
     "output_type": "execute_result"
    }
   ],
   "source": [
    "# 3. Exercise 2\n",
    "# Create a 1D numpy array of numbers from 0 to 9\n",
    "arr_1d = np.arange(10)  # Replace with your answer\n",
    "arr_1d"
   ]
  },
  {
   "cell_type": "code",
   "execution_count": 16,
   "id": "0657b850-3de9-4d99-922e-3226cca931ea",
   "metadata": {},
   "outputs": [
    {
     "data": {
      "text/plain": [
       "array([[ True,  True,  True],\n",
       "       [ True,  True,  True],\n",
       "       [ True,  True,  True]])"
      ]
     },
     "execution_count": 16,
     "metadata": {},
     "output_type": "execute_result"
    }
   ],
   "source": [
    "# 4. Exercise 3\n",
    "# Create a 3x3 boolean numpy array\n",
    "bool_arr = np.ones((3,3), dtype=bool)  # Replace with your answer\n",
    "bool_arr\n",
    "\n",
    "# remember 1 is represented as True and 0 is represented as false "
   ]
  },
  {
   "cell_type": "code",
   "execution_count": 18,
   "id": "6f668b99-4e01-4b6c-b01e-a19959d8eabb",
   "metadata": {},
   "outputs": [
    {
     "data": {
      "text/plain": [
       "array([1, 3, 5, 7, 9])"
      ]
     },
     "execution_count": 18,
     "metadata": {},
     "output_type": "execute_result"
    }
   ],
   "source": [
    "# Question : Extract all odd numbers from array\n",
    "# input: arr = np.array([0, 1, 2, 3, 4, 5, 6, 7, 8, 9])\n",
    "# output: array([1, 3, 5, 7, 9])\n",
    "\n",
    "arr = np.arange(10)\n",
    "odd_numbers =  arr[arr%2 == 1] # Replace with your answer\n",
    "odd_numbers"
   ]
  },
  {
   "cell_type": "code",
   "execution_count": 29,
   "id": "11d977e1-896b-4020-a3e3-899ffe729972",
   "metadata": {},
   "outputs": [
    {
     "data": {
      "text/plain": [
       "array([ 0, -1,  2, -1,  4, -1,  6, -1,  8, -1])"
      ]
     },
     "execution_count": 29,
     "metadata": {},
     "output_type": "execute_result"
    }
   ],
   "source": [
    "# 6. Exercise 5\n",
    "# Replace all odd numbers in arr_1d with -1\n",
    "\n",
    "arr = np.arange(10)\n",
    "arr[arr%2 == 1] = -1  # Replace with your answer\n",
    "arr_replaced = arr\n",
    "arr_replaced"
   ]
  },
  {
   "cell_type": "code",
   "execution_count": 7,
   "id": "ed16cc35-edad-4109-b920-e7c0271d2abc",
   "metadata": {},
   "outputs": [],
   "source": [
    "# 7. Exercise 6\n",
    "# Replace all odd numbers with -1 without modifying the original array\n",
    "\n",
    "arr = np.arange(10)\n",
    "arr_copy = None  # Replace with your answer"
   ]
  },
  {
   "cell_type": "code",
   "execution_count": 8,
   "id": "29b9ec98-1322-44b5-818a-6a87532357cc",
   "metadata": {},
   "outputs": [],
   "source": [
    "# 8. Exercise 7\n",
    "# Reshape an array of size 9 to 3x3\n",
    "reshaped_arr = None  # Replace with your answer"
   ]
  },
  {
   "cell_type": "code",
   "execution_count": 9,
   "id": "02658dfa-9bdb-4d4f-8719-1ac1be8aa0ca",
   "metadata": {},
   "outputs": [],
   "source": [
    "# 9. Exercise 8\n",
    "# Stack two arrays vertically\n",
    "a = np.arange(6).reshape(2, 3)\n",
    "b = np.arange(6, 12).reshape(2, 3)\n",
    "v_stacked = None  # Replace with your answer"
   ]
  },
  {
   "cell_type": "code",
   "execution_count": 10,
   "id": "3f6d47e5-d249-4b5d-b37c-492f01b799fb",
   "metadata": {},
   "outputs": [],
   "source": [
    "# 10. Exercise 9\n",
    "# Stack two arrays horizontally\n",
    "h_stacked = None  # Replace with your answer"
   ]
  },
  {
   "cell_type": "code",
   "execution_count": 12,
   "id": "d0701e4a-918a-401a-944f-47d0d2b21a23",
   "metadata": {},
   "outputs": [],
   "source": [
    "# 11. Exercise 10\n",
    "# Create a custom sequence: [1,2,3] repeated 3 times and then [1,2,3] tiled 3 times\n",
    "rep = None  # Replace with your answer\n",
    "tile = None  # Replace with your answer"
   ]
  },
  {
   "cell_type": "code",
   "execution_count": 13,
   "id": "242b1315-3944-4e45-a281-90f8c98187cd",
   "metadata": {},
   "outputs": [],
   "source": [
    "# 12. Exercise 11\n",
    "# Get common items between two arrays\n",
    "a1 = np.array([1, 2, 3, 4, 5])\n",
    "a2 = np.array([4, 5, 6, 7, 8])\n",
    "common = None  # Replace with your answer"
   ]
  },
  {
   "cell_type": "code",
   "execution_count": 14,
   "id": "3d5d34c8-b68e-40bc-bdb7-cd3d91575fb3",
   "metadata": {},
   "outputs": [],
   "source": [
    "# 13. Exercise 12\n",
    "# Remove elements of a1 that are in a2\n",
    "diff = None  # Replace with your answer"
   ]
  },
  {
   "cell_type": "code",
   "execution_count": 15,
   "id": "cae024ea-640b-4c32-b0cb-d36bb5ef32ab",
   "metadata": {},
   "outputs": [],
   "source": [
    "# 14. Exercise 13\n",
    "# Get the positions where elements of a1 and a2 match\n",
    "match_positions = None  # Replace with your answer"
   ]
  },
  {
   "cell_type": "code",
   "execution_count": 16,
   "id": "d29d356e-b372-483c-85c4-012d4b22406d",
   "metadata": {},
   "outputs": [],
   "source": [
    "# 15. Exercise 14\n",
    "# Extract all numbers between 5 and 10 from the array\n",
    "array_range = np.array([1, 4, 6, 9, 12, 15])\n",
    "filtered = None  # Replace with your answer"
   ]
  },
  {
   "cell_type": "code",
   "execution_count": 17,
   "id": "bfad6d43-72cd-49b3-817b-d1a4a17c9cd4",
   "metadata": {},
   "outputs": [],
   "source": [
    "# 16. Exercise 15\n",
    "# Turn a scalar function into one that works on arrays\n",
    "def scalar_func(x):\n",
    "    return x ** 2 + 2 * x + 1\n",
    "\n",
    "vectorized_func = None  # Replace with your answer\n",
    "vectorized_result = None  # Apply vectorized_func to np.array([1, 2, 3])"
   ]
  },
  {
   "cell_type": "markdown",
   "id": "8ee538ed-81c9-4fc8-a34d-4b4c8a779c6b",
   "metadata": {},
   "source": [
    "# ---------------------------\n",
    "# ✅ ASSERTIONS FOR MARKING\n",
    "# ---------------------------"
   ]
  },
  {
   "cell_type": "code",
   "execution_count": 23,
   "id": "a8e8a503-1f81-4049-a480-a072747d5b7f",
   "metadata": {},
   "outputs": [
    {
     "ename": "NameError",
     "evalue": "name 'arr_replaced' is not defined",
     "output_type": "error",
     "traceback": [
      "\u001b[0;31m---------------------------------------------------------------------------\u001b[0m",
      "\u001b[0;31mNameError\u001b[0m                                 Traceback (most recent call last)",
      "Cell \u001b[0;32mIn[23], line 5\u001b[0m\n\u001b[1;32m      3\u001b[0m \u001b[38;5;28;01massert\u001b[39;00m bool_arr\u001b[38;5;241m.\u001b[39mshape \u001b[38;5;241m==\u001b[39m (\u001b[38;5;241m3\u001b[39m, \u001b[38;5;241m3\u001b[39m) \u001b[38;5;129;01mand\u001b[39;00m bool_arr\u001b[38;5;241m.\u001b[39mdtype \u001b[38;5;241m==\u001b[39m \u001b[38;5;28mbool\u001b[39m\n\u001b[1;32m      4\u001b[0m \u001b[38;5;28;01massert\u001b[39;00m np\u001b[38;5;241m.\u001b[39marray_equal(odd_numbers, np\u001b[38;5;241m.\u001b[39marray([\u001b[38;5;241m1\u001b[39m, \u001b[38;5;241m3\u001b[39m, \u001b[38;5;241m5\u001b[39m, \u001b[38;5;241m7\u001b[39m, \u001b[38;5;241m9\u001b[39m]))\n\u001b[0;32m----> 5\u001b[0m \u001b[38;5;28;01massert\u001b[39;00m np\u001b[38;5;241m.\u001b[39marray_equal(arr_replaced[arr_replaced \u001b[38;5;241m%\u001b[39m \u001b[38;5;241m2\u001b[39m \u001b[38;5;241m==\u001b[39m \u001b[38;5;241m1\u001b[39m], np\u001b[38;5;241m.\u001b[39marray([]))\n\u001b[1;32m      6\u001b[0m \u001b[38;5;28;01massert\u001b[39;00m np\u001b[38;5;241m.\u001b[39marray_equal(arr_copy, np\u001b[38;5;241m.\u001b[39mwhere(arr_1d \u001b[38;5;241m%\u001b[39m \u001b[38;5;241m2\u001b[39m \u001b[38;5;241m==\u001b[39m \u001b[38;5;241m1\u001b[39m, \u001b[38;5;241m-\u001b[39m\u001b[38;5;241m1\u001b[39m, arr_1d))\n\u001b[1;32m      7\u001b[0m \u001b[38;5;28;01massert\u001b[39;00m reshaped_arr\u001b[38;5;241m.\u001b[39mshape \u001b[38;5;241m==\u001b[39m (\u001b[38;5;241m3\u001b[39m, \u001b[38;5;241m3\u001b[39m)\n",
      "\u001b[0;31mNameError\u001b[0m: name 'arr_replaced' is not defined"
     ]
    }
   ],
   "source": [
    "assert version == np.__version__\n",
    "assert np.array_equal(arr_1d, np.arange(10))\n",
    "assert bool_arr.shape == (3, 3) and bool_arr.dtype == bool\n",
    "assert np.array_equal(odd_numbers, np.array([1, 3, 5, 7, 9]))\n",
    "assert np.array_equal(arr_replaced[arr_replaced % 2 == 1], np.array([]))\n",
    "assert np.array_equal(arr_copy, np.where(arr_1d % 2 == 1, -1, arr_1d))\n",
    "assert reshaped_arr.shape == (3, 3)\n",
    "assert np.array_equal(v_stacked, np.vstack((a, b)))\n",
    "assert np.array_equal(h_stacked, np.hstack((a, b)))\n",
    "assert np.array_equal(rep, np.repeat([1, 2, 3], 3))\n",
    "assert np.array_equal(tile, np.tile([1, 2, 3], 3))\n",
    "assert np.array_equal(common, np.intersect1d(a1, a2))\n",
    "assert np.array_equal(diff, np.setdiff1d(a1, a2))\n",
    "assert np.array_equal(match_positions, np.where(a1 == a2)[0])\n",
    "assert np.array_equal(filtered, np.array([6, 9]))\n",
    "assert callable(vectorized_func)\n",
    "assert np.array_equal(vectorized_result, np.array([4, 9, 16]))\n",
    "\n",
    "print(\"✅ All assertions passed! Well done.\")"
   ]
  },
  {
   "cell_type": "code",
   "execution_count": null,
   "id": "64c79420-752a-4fe5-8728-8f60a41d42d7",
   "metadata": {},
   "outputs": [],
   "source": []
  }
 ],
 "metadata": {
  "hide_code_all_hidden": false,
  "kernelspec": {
   "display_name": "Python 3 (ipykernel)",
   "language": "python",
   "name": "python3"
  },
  "language_info": {
   "codemirror_mode": {
    "name": "ipython",
    "version": 3
   },
   "file_extension": ".py",
   "mimetype": "text/x-python",
   "name": "python",
   "nbconvert_exporter": "python",
   "pygments_lexer": "ipython3",
   "version": "3.12.7"
  }
 },
 "nbformat": 4,
 "nbformat_minor": 5
}

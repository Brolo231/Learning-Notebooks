{
 "cells": [
  {
   "cell_type": "markdown",
   "id": "afcf845b-8024-4d9e-9950-ab3b854b2971",
   "metadata": {},
   "source": [
    "# NumPy"
   ]
  },
  {
   "cell_type": "markdown",
   "id": "ef9c4ed5-a951-40a8-8a39-a5191cdca5ed",
   "metadata": {},
   "source": [
    "## 1. Understanding Arrays (ndarray)\n",
    "- NumPy arrays are more efficient than Python lists for numerical operations.\n",
    "- Learn how to create arrays using:"
   ]
  },
  {
   "cell_type": "code",
   "execution_count": 2,
   "id": "c29711c9-d8fa-4bf1-81ac-d4072e2e2659",
   "metadata": {},
   "outputs": [
    {
     "data": {
      "text/plain": [
       "array([1, 2, 3, 4, 5])"
      ]
     },
     "execution_count": 2,
     "metadata": {},
     "output_type": "execute_result"
    }
   ],
   "source": [
    "import numpy as np\n",
    "arr = np.array([1, 2, 3, 4, 5])\n",
    "arr"
   ]
  },
  {
   "cell_type": "markdown",
   "id": "ac82d71c-8907-44c1-93a4-30ae5e8cbc4d",
   "metadata": {},
   "source": [
    "- Understand array shapes and dimensions (.shape, .ndim, .size).\n",
    "\n",
    "<b>.shape</b> → Returns a tuple representing the number of elements along each axis. \\\n",
    "<b>.ndim</b> → Returns the number of dimensions (axes). \\\n",
    "<b>.size</b> → Returns the total number of elements in the array.\n"
   ]
  },
  {
   "cell_type": "markdown",
   "id": "6bc3d226-0111-4bb7-ba27-edc27fc12934",
   "metadata": {},
   "source": [
    "## 2. Array Operations (Mathematical & Indexing)\n",
    "- Basic operations (+, -, *, /) work element-wise.\n",
    "- Learn indexing and slicing:"
   ]
  },
  {
   "cell_type": "code",
   "execution_count": 3,
   "id": "7414480e-2c4e-4c2d-b4a5-50cd1d52dc9c",
   "metadata": {},
   "outputs": [
    {
     "data": {
      "text/plain": [
       "array([2, 3, 4])"
      ]
     },
     "execution_count": 3,
     "metadata": {},
     "output_type": "execute_result"
    }
   ],
   "source": [
    "arr[1:4]  # Slices elements from index 1 to 3"
   ]
  },
  {
   "cell_type": "markdown",
   "id": "2cd52e34-064e-402b-8cf1-70a6238877d8",
   "metadata": {},
   "source": [
    "- Use Boolean indexing:"
   ]
  },
  {
   "cell_type": "code",
   "execution_count": 4,
   "id": "0ca37ed4-f0ab-461e-8cf9-da8552c6884c",
   "metadata": {},
   "outputs": [
    {
     "data": {
      "text/plain": [
       "array([4, 5])"
      ]
     },
     "execution_count": 4,
     "metadata": {},
     "output_type": "execute_result"
    }
   ],
   "source": [
    "arr[arr > 3]  # Returns elements greater than 3"
   ]
  },
  {
   "cell_type": "markdown",
   "id": "748c75ce-9e4f-49ce-90b4-b6ebcc31f1dd",
   "metadata": {},
   "source": [
    "## 4. Random Sampling & Normalization\n",
    "- Generating random numbers for data simulation:"
   ]
  },
  {
   "cell_type": "code",
   "execution_count": 5,
   "id": "63a9b31e-d4d2-437c-b358-3e97d09df81f",
   "metadata": {},
   "outputs": [
    {
     "data": {
      "text/plain": [
       "array([ 0.44111839,  2.05332413,  0.76888288, -0.52490855,  0.27063437,\n",
       "        0.34251631, -0.09509985, -0.48788557,  0.3798861 , -0.41387553])"
      ]
     },
     "execution_count": 5,
     "metadata": {},
     "output_type": "execute_result"
    }
   ],
   "source": [
    "np.random.randn(10)  # 10 random numbers from a normal distribution"
   ]
  },
  {
   "cell_type": "markdown",
   "id": "58425a0e-3361-4d2c-9e3c-0f9be09e8aed",
   "metadata": {},
   "source": [
    "- Normalizing data (important for ML):"
   ]
  },
  {
   "cell_type": "code",
   "execution_count": 7,
   "id": "0663a14d-f463-4721-837b-338349bd443b",
   "metadata": {},
   "outputs": [
    {
     "data": {
      "text/plain": [
       "array([-1.41421356, -0.70710678,  0.        ,  0.70710678,  1.41421356])"
      ]
     },
     "execution_count": 7,
     "metadata": {},
     "output_type": "execute_result"
    }
   ],
   "source": [
    "arr = (arr - np.mean(arr)) / np.std(arr)\n",
    "arr"
   ]
  },
  {
   "cell_type": "code",
   "execution_count": null,
   "id": "9fec8ff9-10a9-4c4e-a269-f68a03db786d",
   "metadata": {},
   "outputs": [],
   "source": []
  }
 ],
 "metadata": {
  "kernelspec": {
   "display_name": "Python 3 (ipykernel)",
   "language": "python",
   "name": "python3"
  },
  "language_info": {
   "codemirror_mode": {
    "name": "ipython",
    "version": 3
   },
   "file_extension": ".py",
   "mimetype": "text/x-python",
   "name": "python",
   "nbconvert_exporter": "python",
   "pygments_lexer": "ipython3",
   "version": "3.12.7"
  }
 },
 "nbformat": 4,
 "nbformat_minor": 5
}

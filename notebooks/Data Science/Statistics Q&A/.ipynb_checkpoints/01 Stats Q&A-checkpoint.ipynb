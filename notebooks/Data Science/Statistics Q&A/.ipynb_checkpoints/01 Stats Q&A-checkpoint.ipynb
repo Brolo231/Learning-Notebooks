{
 "cells": [
  {
   "cell_type": "markdown",
   "id": "51238d82-0433-4a35-b275-54858daf201f",
   "metadata": {},
   "source": [
    "# 🧠 Statistics for Data Science – Quiz / Self-Check|"
   ]
  },
  {
   "cell_type": "markdown",
   "id": "87cabd9b-fdf5-45cb-824d-1d02edb92c4d",
   "metadata": {},
   "source": [
    "## Types of Data\n",
    "\n",
    "**Q1:** What is the difference between *nominal* and *ordinal* data?"
   ]
  },
  {
   "cell_type": "code",
   "execution_count": null,
   "id": "0277a89e-5e0c-49eb-98f3-ad3224de9eef",
   "metadata": {},
   "outputs": [],
   "source": [
    "# Answer: "
   ]
  },
  {
   "cell_type": "markdown",
   "id": "b3792d2f-91b4-4e24-8649-5e65523f5872",
   "metadata": {},
   "source": [
    "## Shape of Distribution\n",
    "\n",
    "**Q2:** What does it mean if a dataset is *right-skewed*?\n"
   ]
  },
  {
   "cell_type": "code",
   "execution_count": null,
   "id": "d383f71a-5ab3-4846-8d86-ab543fe47244",
   "metadata": {},
   "outputs": [],
   "source": [
    "# Answer: "
   ]
  },
  {
   "cell_type": "markdown",
   "id": "dfd25e03-c895-49b8-8694-84666ef93fcd",
   "metadata": {},
   "source": [
    "## Variance and Standard Deviation\n",
    "\n",
    "**Q3:** What does a high standard deviation tell you about a dataset?\n",
    "\n",
    "**Q4:** Can variance ever be negative?"
   ]
  },
  {
   "cell_type": "code",
   "execution_count": null,
   "id": "7bec52df-fd74-4bc7-be29-341e47f6b4cc",
   "metadata": {},
   "outputs": [],
   "source": [
    "# Answer: "
   ]
  },
  {
   "cell_type": "markdown",
   "id": "62785e60-08dd-4ad4-9e00-1c82964539b4",
   "metadata": {},
   "source": [
    "## Percentiles, Quartiles, and IQR\n",
    "\n",
    "**Q5:** What does the 75th percentile represent?\n",
    "\n",
    "**Q6:** How is IQR calculated and what is it used for?"
   ]
  },
  {
   "cell_type": "code",
   "execution_count": null,
   "id": "8705ab19-99fe-467e-84e9-dcd3cc1733e0",
   "metadata": {},
   "outputs": [],
   "source": [
    "# Answer: "
   ]
  },
  {
   "cell_type": "markdown",
   "id": "bde9d0e2-568f-4952-90a8-fb5ffa0a7b9a",
   "metadata": {},
   "source": [
    "## Outliers\n",
    "\n",
    "**Q7:** How can you detect outliers using the IQR method?\n",
    "\n",
    "**Q8:** Why is it important to handle outliers before building a machine learning model?"
   ]
  },
  {
   "cell_type": "code",
   "execution_count": null,
   "id": "e3893264-e6d0-4f99-921b-8c272f978b18",
   "metadata": {},
   "outputs": [],
   "source": [
    "# Answer: "
   ]
  },
  {
   "cell_type": "markdown",
   "id": "c250b873-f080-41fb-a729-f3e98e0c4e54",
   "metadata": {},
   "source": [
    "## Correlation and Covariance\n",
    "\n",
    "**Q9:** What does a correlation coefficient of -0.95 indicate?\n",
    "\n",
    "**Q10:** How does correlation differ from covariance?\n"
   ]
  },
  {
   "cell_type": "code",
   "execution_count": null,
   "id": "1267bd65-8cf8-4bb0-a07a-947ffe7a3bf3",
   "metadata": {},
   "outputs": [],
   "source": [
    "# Answer: "
   ]
  },
  {
   "cell_type": "markdown",
   "id": "f99f71a1-ca8b-4c10-a706-103c2b80ab84",
   "metadata": {},
   "source": [
    "## Probability Basics\n",
    "\n",
    "**Q11:** What is the probability of getting heads in a fair coin toss?\n",
    "\n",
    "**Q12:** Why is probability important in machine learning?"
   ]
  },
  {
   "cell_type": "code",
   "execution_count": null,
   "id": "d35f7c48-41cf-401a-9ef8-e59a835642f1",
   "metadata": {},
   "outputs": [],
   "source": [
    "# Answer: "
   ]
  },
  {
   "cell_type": "markdown",
   "id": "aa6f0516-07b4-40ec-b445-3172fe3669ad",
   "metadata": {},
   "source": [
    "## Common Distributions\n",
    "\n",
    "**Q17:** Give an example where the Poisson distribution is appropriate.\n",
    "\n",
    "**Q18:** When should you use the normal distribution in analysis?\n"
   ]
  },
  {
   "cell_type": "code",
   "execution_count": null,
   "id": "9bdb2c73-8ef4-4d0e-a452-3f88f9d6e2e5",
   "metadata": {},
   "outputs": [],
   "source": [
    "# Answer: "
   ]
  },
  {
   "cell_type": "markdown",
   "id": "ad41753a-c5bf-4412-ac13-1f421dcfc06a",
   "metadata": {},
   "source": [
    "## Challenge Questions\n",
    "\n",
    "**Q19:** You have two features in your dataset with a correlation of 0.98. What should you consider doing before training a linear model?\n",
    "\n",
    "**Q20:** Why is understanding data distribution crucial before applying machine learning algorithms?"
   ]
  },
  {
   "cell_type": "code",
   "execution_count": null,
   "id": "29870cbb-642d-441d-a964-7048b96ba94e",
   "metadata": {},
   "outputs": [],
   "source": [
    "# Answer: "
   ]
  },
  {
   "cell_type": "markdown",
   "id": "abdf104f-ae1f-4eac-ac28-c32624484e32",
   "metadata": {},
   "source": [
    "<hr>\n",
    "<hr>\n",
    "\n",
    "# Answers\n",
    "<hr>\n",
    "<hr>\n",
    "\n",
    "\n",
    "Nominal vs Ordinal: \n",
    "- Nominal: Categories without order. \n",
    "- Ordinal: Categories with a logical order but no measurable spacing.\n",
    "\n",
    "Right-skewed: \n",
    "- Most values are on the left, with a tail extending to the right; mean > median.\n",
    "\n",
    "High standard deviation: \n",
    "- The data points are far from the mean → high variability.\n",
    "\n",
    "Variance negative? \n",
    "- No. Variance is always ≥ 0 because it’s the mean of squared deviations.\n",
    "\n",
    "\n",
    "75th percentile: \n",
    "- Value below which 75% of data falls.\n",
    " \n",
    "\n",
    "IQR: \n",
    "- IQR = Q3 − Q1. Measures spread of middle 50% of data. Useful for outlier detection.\n",
    " \n",
    "\n",
    "Outlier detection:\n",
    "- Outliers lie below Q1 - 1.5×IQR or above Q3 + 1.5×IQR.\n",
    " \n",
    "\n",
    "Importance of handling outliers:\n",
    "- Outliers can distort model training, predictions, and metrics.\n",
    " \n",
    "\n",
    "Correlation -0.95:\n",
    "- Strong negative linear relationship.\n",
    " \n",
    "\n",
    "Correlation vs Covariance:\n",
    "- Correlation shows strength + direction (normalized).\n",
    "- Covariance shows direction only (not normalized).\n",
    " \n",
    "\n",
    "Coin toss:\n",
    "- Probability of heads = 0.5.\n",
    " \n",
    "\n",
    "Importance of probability:\n",
    "- Used in predictions, uncertainty, and algorithms like Naive Bayes.\n",
    " \n",
    "\n",
    "Central Limit Theorem:\n",
    "- The sampling distribution of the mean approaches normal as sample size increases.\\\n",
    "\n",
    "\n",
    "Why sample?\n",
    "- Saves time and cost; makes generalizations when full data isn’t available.\n",
    "\n",
    "\n",
    "p-value:\n",
    "- Probability of observing current (or more extreme) result assuming null hypothesis is true.\n",
    " \n",
    "\n",
    "p < 0.05:\n",
    "- Statistically significant → reject the null hypothesis.\n",
    " \n",
    "\n",
    "Poisson example:\n",
    "- Number of emails received per hour.\n",
    " \n",
    "\n",
    "Normal distribution use case:\n",
    "- When data are symmetric and you need to use statistical models like t-tests, linear regression.\n",
    " \n",
    "\n",
    "High correlation between features:\n",
    "- Remove one or combine them to reduce multicollinearity.\n",
    " \n",
    "\n",
    "Understanding distribution:\n",
    "- Some models assume normality (e.g., linear regression); wrong assumptions can hurt performance.\n"
   ]
  }
 ],
 "metadata": {
  "kernelspec": {
   "display_name": "Python 3 (ipykernel)",
   "language": "python",
   "name": "python3"
  },
  "language_info": {
   "codemirror_mode": {
    "name": "ipython",
    "version": 3
   },
   "file_extension": ".py",
   "mimetype": "text/x-python",
   "name": "python",
   "nbconvert_exporter": "python",
   "pygments_lexer": "ipython3",
   "version": "3.12.7"
  }
 },
 "nbformat": 4,
 "nbformat_minor": 5
}

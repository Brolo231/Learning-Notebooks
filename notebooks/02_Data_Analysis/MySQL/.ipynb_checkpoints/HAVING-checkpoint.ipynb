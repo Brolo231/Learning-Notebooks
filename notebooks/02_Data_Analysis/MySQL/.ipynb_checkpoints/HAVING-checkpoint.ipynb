{
 "cells": [
  {
   "cell_type": "markdown",
   "id": "d831922a-2a1b-4c2d-b8e5-08ac1e359f65",
   "metadata": {},
   "source": [
    "# Having\n",
    "\n",
    "<hr>\n",
    "\n",
    "### The having clause is the equivalent of the where clause but for gorups after aggregation (GROUP BY)\n",
    "\n",
    "<hr>\n",
    "\n",
    "#### You usually use HAVING when you want to filter based on an aggregate function (e.g., SUM, COUNT, AVG)\n",
    "\n",
    "<hr>\n",
    "\n",
    "### SYNTAX: \n",
    "\n",
    "```SELECT column_name, aggregate_function(column_name)```\\\n",
    "```FROM table_name```\\\n",
    "```GROUP BY column_name```\\\n",
    "```HAVING condition;```"
   ]
  },
  {
   "cell_type": "code",
   "execution_count": null,
   "id": "c8dcb31a-d45b-4cb9-a1fb-5deaf84544a0",
   "metadata": {},
   "outputs": [],
   "source": []
  }
 ],
 "metadata": {
  "kernelspec": {
   "display_name": "Python 3 (ipykernel)",
   "language": "python",
   "name": "python3"
  },
  "language_info": {
   "codemirror_mode": {
    "name": "ipython",
    "version": 3
   },
   "file_extension": ".py",
   "mimetype": "text/x-python",
   "name": "python",
   "nbconvert_exporter": "python",
   "pygments_lexer": "ipython3",
   "version": "3.12.7"
  }
 },
 "nbformat": 4,
 "nbformat_minor": 5
}

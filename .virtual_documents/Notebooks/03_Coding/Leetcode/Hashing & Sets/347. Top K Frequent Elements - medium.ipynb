


from collections import defaultdict

# Without collections: 
# if num not in seen:
#     seen[num] = 0
# seen[num] += 1


class Solution:
    def topKFrequent(self, nums: list[int], k: int) -> list[int]:

        seen = defaultdict(int)

        for num in nums:
            seen[num] += 1

        for element in list(seen.items()):
            print(element)

        # print(list(seen.items()))

        # for key, value in seen.items():
            
        

s = Solution()
s.topKFrequent([1,1,1,5,5,2,3,3,3], 2)


seen = {}
seen[3] = 1
seen[3] 




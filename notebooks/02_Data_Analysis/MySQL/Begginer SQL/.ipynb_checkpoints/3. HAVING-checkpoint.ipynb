{
 "cells": [
  {
   "cell_type": "markdown",
   "id": "4ab34f44-ac94-4e2c-a19f-8f771afb6093",
   "metadata": {},
   "source": [
    "<style>\n",
    ".grid-container {\n",
    "    display: grid;\n",
    "    grid-template-columns: 1fr 1fr;\n",
    "    gap: 20px;\n",
    "}\n",
    ".grid-container img {\n",
    "    width: 70%;\n",
    "    margin: auto;\n",
    "}\n",
    "</style>"
   ]
  },
  {
   "cell_type": "markdown",
   "id": "d831922a-2a1b-4c2d-b8e5-08ac1e359f65",
   "metadata": {},
   "source": [
    "# Having\n",
    "\n",
    "<hr>\n",
    "\n",
    "### The having clause is the equivalent of the where clause but for gorups after aggregation (GROUP BY)\n",
    "\n",
    "<hr>\n",
    "\n",
    "#### You usually use HAVING when you want to filter based on an aggregate function (e.g., SUM, COUNT, AVG)\n",
    "\n",
    "<hr>\n",
    "\n",
    "### SYNTAX: \n",
    "\n",
    "```SELECT column_name, aggregate_function(column_name)```\\\n",
    "```FROM table_name```\\\n",
    "```GROUP BY column_name```\\\n",
    "```HAVING condition;```\n",
    "\n",
    "<hr>\n",
    "\n",
    "We previously looked at how we can use group by to group certain values together. Now if we want to display our aggregated data based off a condition we can use the HAVING clause. \n",
    "\n",
    "In the following we:\n",
    "- select gender and avgerage age\n",
    "- from employee_demographics\n",
    "- which is grouped based off the gender ('male' and 'female' are only two unique values)\n",
    "- which have an AVG(age) above 40\n",
    "\n",
    "**Note:** The ***which have an AVG(age) above 40*** refers to the rolled up group of values' average age\n",
    "\n",
    "<img src=\"static/HAVING_01.png\" style=\"width: 70%; margin: auto;\">\n",
    "\n",
    "The above only shows male because the average age of the female gender was below 40. \n",
    "\n"
   ]
  },
  {
   "cell_type": "code",
   "execution_count": null,
   "id": "c8dcb31a-d45b-4cb9-a1fb-5deaf84544a0",
   "metadata": {},
   "outputs": [],
   "source": []
  }
 ],
 "metadata": {
  "kernelspec": {
   "display_name": "Python 3 (ipykernel)",
   "language": "python",
   "name": "python3"
  },
  "language_info": {
   "codemirror_mode": {
    "name": "ipython",
    "version": 3
   },
   "file_extension": ".py",
   "mimetype": "text/x-python",
   "name": "python",
   "nbconvert_exporter": "python",
   "pygments_lexer": "ipython3",
   "version": "3.12.7"
  }
 },
 "nbformat": 4,
 "nbformat_minor": 5
}

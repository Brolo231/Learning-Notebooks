{
 "cells": [
  {
   "cell_type": "markdown",
   "id": "4087220b-212a-46d4-83f0-371063748e90",
   "metadata": {},
   "source": [
    "# Temp Tables\n",
    "\n",
    "<hr>\n",
    "\n",
    "A temporary table is a table that exists only during the session in which it is created. It is automatically dropped when:\n",
    "- The database session ends, or\n",
    "- The connection to the MySQL server is closed.\n",
    "\n",
    "Temporary tables are useful for storing intermediate results that you need to manipulate before saving them permanently.\n",
    "\n",
    "**Note:** You have to highlight and run the temp table query for it to initialize\n",
    "\n",
    "<hr>\n",
    "\n",
    "```sql\n",
    "CREATE TEMPORARY TABLE temp_table\n",
    "(\n",
    "name varchar(50),\n",
    "surname varchar(50)\n",
    ");\n",
    "\n",
    "INSERT INTO temp_table\n",
    "VALUES(\n",
    "'ben', 'leslie'\n",
    ");\n",
    "\n",
    "SELECT *\n",
    "FROM temp_table;\n",
    "```\n",
    "\n",
    "**Note:** Under schemas, no table was created called 'temp_table'. It only exists in this session (can be called as many times during session) and will be deleted when the session ends or the server is closed. \n",
    "\n",
    "<img src=\"static/TEMP_01.png\" style=\"display: flex; width: 60%; margin:auto;\"><br>\n",
    "\n",
    "<hr>\n",
    "\n",
    "#### The next method of using temp tables is as follows; \n",
    "\n",
    "```sql\n",
    "CREATE TEMPORARY TABLE salary_above_50k\n",
    "SELECT *\n",
    "FROM employee_salary\n",
    "WHERE salary > 50000;\n",
    "\n",
    "SELECT *\n",
    "FROM salary_above_50k;\n",
    "```\n",
    "\n",
    "<img src=\"static/TEMP_02.png\" style=\"display: flex; width: 60%; margin:auto;\"><br>"
   ]
  }
 ],
 "metadata": {
  "kernelspec": {
   "display_name": "Python 3 (ipykernel)",
   "language": "python",
   "name": "python3"
  },
  "language_info": {
   "codemirror_mode": {
    "name": "ipython",
    "version": 3
   },
   "file_extension": ".py",
   "mimetype": "text/x-python",
   "name": "python",
   "nbconvert_exporter": "python",
   "pygments_lexer": "ipython3",
   "version": "3.12.7"
  }
 },
 "nbformat": 4,
 "nbformat_minor": 5
}

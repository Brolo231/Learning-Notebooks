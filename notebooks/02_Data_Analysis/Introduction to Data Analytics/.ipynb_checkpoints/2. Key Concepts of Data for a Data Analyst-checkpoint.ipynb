{
 "cells": [
  {
   "cell_type": "markdown",
   "id": "247e04f1-39cc-4a88-8652-bd18b2c8e656",
   "metadata": {},
   "source": [
    "# Key Concepts of Data for a Data Analyst\n",
    "\n",
    "<hr>\n",
    "\n",
    "## 1. Data Collection – Getting the data you need\n",
    "\n",
    "What it is: Gathering data from different sources such as databases, APIs, surveys, web scraping, IoT devices, or internal company systems. \\\n",
    "Key Points:\n",
    "- Data can be structured (tables, spreadsheets) or unstructured (text, images, logs).\n",
    "- Collection methods vary: SQL queries, Python scripts, Excel imports, or BI tools.\n",
    "- Must consider **data quality**, **ethics**, and **privacy** (e.g., GDPR, POPIA).\n",
    "\n",
    "<br><hr style=\"width: 60%; margin: auto;\"><br>\n",
    "\n",
    "## 2. Data Cleanup (Data Wrangling/Preprocessing) – Making data usable\n",
    "\n",
    "What it is: Cleaning raw data so it’s accurate, consistent, and ready for analysis. \\\n",
    "Key Points:\n",
    "- Handle missing values (remove, impute, or fill).\n",
    "- Fix inconsistencies (date formats, typos, duplicates).\n",
    "- Detect and handle outliers.\n",
    "- Ensure data types (numbers, dates, categories) are correct.\n",
    "- This step can take 60–80% of a data analyst’s time.\n",
    "\n",
    "<br><hr style=\"width: 60%; margin: auto;\"><br>\n",
    "\n",
    "## 3. Exploration → Advanced EDA\n",
    "- Learn dimensionality reduction (PCA).\n",
    "- Feature engineering for ML.\n",
    "- Interactive exploration with Jupyter & Python.\n",
    "\n",
    "<br><hr style=\"width: 60%; margin: auto;\"><br>\n",
    "\n",
    "## 4.\tVisualization → Storytelling & Dashboards\n",
    "- Advanced visualization libraries (Plotly, D3.js).\n",
    "- BI dashboard tools (Power BI, Tableau).\n",
    "- Data storytelling techniques.\n",
    "\n",
    "<br><hr style=\"width: 60%; margin: auto;\"><br>\n",
    "    \n",
    "## 5.\tStatistics → Advanced Analytics\n",
    "- Time series analysis (ARIMA, Prophet).\n",
    "- A/B testing & experimental design.\n",
    "- Bayesian statistics.\n",
    "\n",
    "<br><hr style=\"width: 60%; margin: auto;\"><br>\n",
    "    \n",
    "## 6.\tMachine Learning → Transition into Data Science\n",
    "- Model evaluation (accuracy, precision, recall, ROC).\n",
    "- Deployment of ML models.\n",
    "- Deep learning (PyTorch, TensorFlow).\n",
    "- MLOps basics (CI/CD for ML)."
   ]
  },
  {
   "cell_type": "code",
   "execution_count": null,
   "id": "b7b677de-a5b4-4564-ac63-6920fcf8a370",
   "metadata": {},
   "outputs": [],
   "source": []
  }
 ],
 "metadata": {
  "kernelspec": {
   "display_name": "Python 3 (ipykernel)",
   "language": "python",
   "name": "python3"
  },
  "language_info": {
   "codemirror_mode": {
    "name": "ipython",
    "version": 3
   },
   "file_extension": ".py",
   "mimetype": "text/x-python",
   "name": "python",
   "nbconvert_exporter": "python",
   "pygments_lexer": "ipython3",
   "version": "3.12.7"
  }
 },
 "nbformat": 4,
 "nbformat_minor": 5
}

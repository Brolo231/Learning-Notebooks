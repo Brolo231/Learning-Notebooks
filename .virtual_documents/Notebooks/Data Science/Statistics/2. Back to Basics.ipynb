


# Install pandas 
import pandas as pd





# Creating a simple dataset using a Python dictionary
data = {
    'Student': ['Alice', 'Bob', 'Charlie', 'David', 'Eva'],
    'Score': [85, 90, 78, 92, 88]
}

# Convert the dictionary into a DataFrame (table)
df = pd.DataFrame(data)

# Display the table
print(df)








# Mean

mean_score = df['Score'].mean()
print("Mean Score:", mean_score)





# Median

median_score = df['Score'].median()
print("Median Score:", median_score)





# Mode

mode_score = df['Score'].mode()
print("Mode Score:", mode_score.tolist())





# Standard Deviation

std_score = df['Score'].std()
print("Standard Deviation:", std_score)





# Minimum, Maximum and Range

min_score = df['Score'].min()
max_score = df['Score'].max()
range_score = max_score - min_score

print("Min:", min_score, "| Max:", max_score, "| Range:", range_score)

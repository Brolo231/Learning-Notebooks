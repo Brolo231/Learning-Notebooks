


class Solution:
    def isPalindrome(self, s: str) -> bool:

        left = 0
        right = len(s) - 1
            
        while left < right:

            # while not s[left].isalnum() and left<right:
            #     left += 1

            # while not s[right].isalnum() and left<right:
            #     right -= 1

            # The above code was my original code but was not working with the test case: ".a"
            # After asking chatGPT for a solution it gave me the following code below. I was 
            # confused and thought the above was the same as the below. ChatGPT then explained 
            # the following: 
            
            # In Python, the and operator evaluates from left to right, and stops (short-circuits) 
            # as soon as it finds a condition that is False.
            
            while left < right and not s[left].isalnum():
                left += 1
                
            while left < right and not s[right].isalnum():
                right -= 1
            
            if s[left].lower() != s[right].lower():
                return False
            
            left += 1
            right -= 1

        return True





s = Solution()
s.isPalindrome(".a")








class Solution:
    def isPalindrome(self, s: str) -> bool:
        left, right = 0, len(s) - 1
        
        while left < right:
            # Move left forward if not alphanumeric
            while left < right and not s[left].isalnum():
                left += 1
            # Move right backward if not alphanumeric
            while left < right and not s[right].isalnum():
                right -= 1
            
            # Compare characters
            if s[left].lower() != s[right].lower():
                return False
            
            left += 1
            right -= 1
        
        return True

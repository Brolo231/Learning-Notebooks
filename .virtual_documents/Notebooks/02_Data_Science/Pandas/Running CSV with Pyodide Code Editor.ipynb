


from pyodide.http import open_url
import pandas as pd
import io

url = "https://brolo231.github.io/Learning-Notebooks/unclean_dataset.csv"
response = open_url(url)
data_str = response.read()

df = pd.read_csv(io.StringIO(data_str), on_bad_lines='skip')
print(df.head())





# Set display options to show all columns
pd.set_option('display.max_columns', None)   # Show all columns
pd.set_option('display.width', None)         # Don't wrap lines based on screen width
pd.set_option('display.max_colwidth', None)  # Show full content in each cell

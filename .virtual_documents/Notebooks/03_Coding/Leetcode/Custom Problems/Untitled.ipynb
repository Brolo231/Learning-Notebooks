


class Solution:
    def reverseSentence(sentence: str) -> str:

        reverse = ""
        for x in sentence.split(" "):
            if x[0].isalnum():
                reverse = x + " " + reverse 
            else:
                x = x[1:] + x[0]
                reverse = x + " " + reverse

        return reverse.strip()
            

s = Solution
test_cases = [
    "?day good a such !What",
    ".Hello",
    ".end !start ,middle",
    ".1234 is number favorite My",
    "@email my is This"
]
for test in test_cases:
    s.reverseSentence(test)




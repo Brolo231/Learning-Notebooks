{
 "cells": [
  {
   "cell_type": "markdown",
   "id": "cd7f5e2c-dfe5-4630-974d-94ce5e41ff04",
   "metadata": {},
   "source": [
    "# Arrays & Strings\n",
    "\n",
    "<hr>\n",
    "\n",
    "## <a href=\"https://leetcode.com/problems/two-sum/description/\">1. Two Sum</a>\n",
    "<span style=\"background-color: lightgreen; color: black;\">easy<span>\n",
    "\n",
    "Given an array of integers nums and an integer target, return indices of the two numbers such that they add up to target.\n",
    "\n",
    "You may assume that each input would have exactly one solution, and you may not use the same element twice.\n",
    "\n",
    "You can return the answer in any order.\n",
    "\n",
    " \n",
    "\n",
    "Example 1:\n",
    "\n",
    "```Input: nums = [2,7,11,15], target = 9``` \\\n",
    "```Output: [0,1]``` \\\n",
    "```Explanation: Because nums[0] + nums[1] == 9, we return [0, 1].``` \n",
    "\n",
    "Example 2:\n",
    "\n",
    "```Input: nums = [3,2,4], target = 6``` \\\n",
    "```Output: [1,2]``` \n",
    "\n",
    "Example 3:\n",
    "\n",
    "```Input: nums = [3,3], target = 6``` \\\n",
    "```Output: [0,1]```\n",
    " \n",
    "\n",
    "Constraints:\n",
    "\n",
    "2 <= nums.length <= 104 \\\n",
    "-109 <= nums[i] <= 109 \\\n",
    "-109 <= target <= 109 \\\n",
    "Only one valid answer exists.\n",
    "\n",
    "```class Solution:``` \\\n",
    "```    def twoSum(self, nums: List[int], target: int) -> List[int]:```"
   ]
  },
  {
   "cell_type": "code",
   "execution_count": 43,
   "id": "51783a3c-211f-4d20-848b-815a06c785a0",
   "metadata": {},
   "outputs": [
    {
     "data": {
      "text/plain": [
       "(0, 3)"
      ]
     },
     "execution_count": 43,
     "metadata": {},
     "output_type": "execute_result"
    }
   ],
   "source": [
    "class Solution:\n",
    "    # The following syntax tells us nums is expected to be a list containing integer values\n",
    "    # target is expected to be an integer\n",
    "    # output is expected to be a list of integers\n",
    "    def twoSum(self, nums: list[int], target: [int]) -> list[int]:\n",
    "\n",
    "        for i, value in enumerate(nums):\n",
    "            for j in range(len(nums)):\n",
    "                if value + nums[j] == target:\n",
    "                    return i, j\n",
    "                    break\n",
    "        print(\"No matches\")\n",
    "\n",
    "s = Solution()\n",
    "nums = [2,4,5,3]\n",
    "s.twoSum(nums, 5)\n"
   ]
  },
  {
   "cell_type": "code",
   "execution_count": 24,
   "id": "cfe703a4-24a5-4243-81fd-27f9ea0c4918",
   "metadata": {},
   "outputs": [],
   "source": [
    "# Trying using O(n) / Hash Map\n",
    "\n",
    "class Solution:\n",
    "    def twoSum(self, nums: list[int], target: [int]) -> list[int]:\n",
    "\n",
    "        seen = {}\n",
    "        for i, value in enumerate(nums):\n",
    "            if target - nums[i] in seen:\n",
    "                return i, seen[target - nums[i]]\n",
    "            seen[nums[i]] = i"
   ]
  },
  {
   "cell_type": "code",
   "execution_count": 25,
   "id": "fbe4b3d3-c654-4e21-b175-52117d3aae4d",
   "metadata": {},
   "outputs": [
    {
     "data": {
      "text/plain": [
       "(2, 0)"
      ]
     },
     "execution_count": 25,
     "metadata": {},
     "output_type": "execute_result"
    }
   ],
   "source": [
    "s = Solution()\n",
    "s.twoSum([2, 4, 3], 5)"
   ]
  },
  {
   "cell_type": "markdown",
   "id": "c8f280e2-c503-46a1-99ba-2e749bae6886",
   "metadata": {},
   "source": [
    "<hr>"
   ]
  },
  {
   "cell_type": "markdown",
   "id": "02ae7e52-2085-4346-9692-4a79c8a8d928",
   "metadata": {},
   "source": [
    "## <a href=\"https://leetcode.com/problems/best-time-to-buy-and-sell-stock/\">121. Best time to buy and sell stock</a>\n",
    "\n",
    "<span style=\"background-color: lightgreen; color: black;\">easy<span>\n",
    "\n",
    "You are given an array *prices* where *prices[i]* is the price of a given stock on the ith day.\n",
    "\n",
    "You want to maximize your profit by choosing a single day to buy one stock and choosing a different day in the future to sell that stock.\n",
    "\n",
    "Return the maximum profit you can achieve from this transaction. If you cannot achieve any profit, return 0.\n",
    "\n",
    " \n",
    "\n",
    "Example 1:\n",
    "\n",
    "```Input: prices = [7,1,5,3,6,4]```\\\n",
    "```Output: 5``` \\\n",
    "Explanation: Buy on day 2 (price = 1) and sell on day 5 (price = 6), profit = 6-1 = 5. \\\n",
    "**Note:** that buying on day 2 and selling on day 1 is not allowed because you must buy before you sell.\n",
    "\n",
    "Example 2:\n",
    "\n",
    "```Input: prices = [7,6,4,3,1]```\\\n",
    "```Output: 0``` \\\n",
    "Explanation: In this case, no transactions are done and the max profit = 0.\n",
    " \n",
    "\n",
    "Constraints:\n",
    "\n",
    "```1 <= prices.length <= 105```\\\n",
    "```0 <= prices[i] <= 104```\n",
    "\n",
    "Given: \\\n",
    "```class Solution:```\\\n",
    "```    def maxProfit(self, prices: List[int]) -> int:```\n",
    "        "
   ]
  },
  {
   "cell_type": "code",
   "execution_count": 1,
   "id": "49472271-3800-459b-a056-89cf7fbeeb32",
   "metadata": {},
   "outputs": [
    {
     "data": {
      "text/plain": [
       "8"
      ]
     },
     "execution_count": 1,
     "metadata": {},
     "output_type": "execute_result"
    }
   ],
   "source": [
    "class Solution:\n",
    "    def maxProfit(self, prices: list[int]) -> int:\n",
    "        current_highest_profit = 0\n",
    "        for idx, value in enumerate(prices):\n",
    "            for j in range(len(prices)):\n",
    "                if prices[j] - value > current_highest_profit and idx < j:\n",
    "                    current_highest_profit = prices[j] - value\n",
    "\n",
    "        return current_highest_profit\n",
    "\n",
    "s = Solution()\n",
    "s.maxProfit([1,7,6,4,3,1,9])\n",
    "\n",
    "        "
   ]
  },
  {
   "cell_type": "markdown",
   "id": "b1a2ec6e-b590-4cca-937f-7b5753a1ada3",
   "metadata": {},
   "source": [
    "### The above solution works. However, with a runtime of $O(n^2)$ the above is insuffiecient to pass leetcode grading"
   ]
  },
  {
   "cell_type": "markdown",
   "id": "f0125e6b-9e21-46b3-80b4-11d2c3023099",
   "metadata": {},
   "source": [
    "<hr>"
   ]
  },
  {
   "cell_type": "markdown",
   "id": "6101a6b8-8573-46b8-be21-cf4b7dbbfcb0",
   "metadata": {},
   "source": [
    "## <a href=\"https://leetcode.com/problems/product-of-array-except-self/description/\">238. Product of Array Except Self</a>\n",
    "\n",
    "\n",
    "<span style=\"background-color: yellow; color: black;\">medium<span>\n",
    "\n",
    "Given an integer array nums, return an array answer such that answer[i] is equal to the product of all the elements of nums except nums[i].\n",
    "\n",
    "The product of any prefix or suffix of nums is guaranteed to fit in a 32-bit integer.\n",
    "\n",
    "You must write an algorithm that runs in O(n) time and without using the division operation.\n",
    "\n",
    " \n",
    "\n",
    "Example 1:\n",
    "\n",
    "```Input: nums = [1,2,3,4]```\n",
    "```Output: [24,12,8,6]```\n",
    "\n",
    "Example 2:\n",
    "\n",
    "```Input: nums = [-1,1,0,-3,3]```\n",
    "```Output: [0,0,9,0,0]```\n",
    " \n",
    "\n",
    "Constraints:\n",
    "\n",
    "2 <= nums.length <= 105\n",
    "-30 <= nums[i] <= 30\n",
    "\n",
    "The input is generated such that answer[i] is guaranteed to fit in a 32-bit integer.\n",
    "\n",
    "```class Solution:```\\\n",
    "```    def productExceptSelf(self, nums: List[int]) -> List[int]:```\n",
    "        "
   ]
  },
  {
   "cell_type": "code",
   "execution_count": 65,
   "id": "8e83d138-f603-4f00-bb91-30df17fce435",
   "metadata": {},
   "outputs": [
    {
     "data": {
      "text/plain": [
       "[24, 12, 8, 6]"
      ]
     },
     "execution_count": 65,
     "metadata": {},
     "output_type": "execute_result"
    }
   ],
   "source": [
    "class Solution:\n",
    "    def productExceptSelf(self, nums: list[int]) -> list[int]:\n",
    "        answer = [1] * len(nums)\n",
    "        for idx, value in enumerate(nums):\n",
    "            for idx_answer, idx_value in enumerate(answer):\n",
    "                if idx != idx_answer:\n",
    "                    answer[idx] *= nums[idx_answer]\n",
    "\n",
    "        return answer\n",
    "            \n",
    "        \n",
    "\n",
    "s = Solution()\n",
    "s.productExceptSelf([1,2,3,4])"
   ]
  },
  {
   "cell_type": "markdown",
   "id": "7cbf07e2-8f68-43bf-9cad-3e8a124cde41",
   "metadata": {},
   "source": [
    "#### ^^^ The answer provided above is the only current method that i understand how to do on my own. However, with a time complexity of $0(n^2)$, it is insufficient to pass the leetcode grading test. \n",
    "\n",
    "ChatGPT answer: "
   ]
  },
  {
   "cell_type": "code",
   "execution_count": null,
   "id": "032c8d16-5175-4d51-ac22-627623c18530",
   "metadata": {},
   "outputs": [],
   "source": [
    "# O(n) Time, O(1) Extra Space (LeetCode Optimal)\n",
    "class Solution:\n",
    "    def productExceptSelf(self, nums: list[int]) -> list[int]:\n",
    "        n = len(nums)\n",
    "        answer = [1] * n\n",
    "\n",
    "        prefix = 1\n",
    "        for i in range(n):\n",
    "            answer[i] = prefix\n",
    "            prefix *= nums[i]\n",
    "\n",
    "        suffix = 1\n",
    "        for i in range(n - 1, -1, -1):\n",
    "            answer[i] *= suffix\n",
    "            suffix *= nums[i]\n",
    "\n",
    "        return answer\n"
   ]
  },
  {
   "cell_type": "markdown",
   "id": "25cec099-eb42-4baf-b9ba-4d9ac6946652",
   "metadata": {},
   "source": [
    "### If we could use division it would look as follows"
   ]
  },
  {
   "cell_type": "markdown",
   "id": "8db0000c-d4db-467d-a5f0-8f97ce95c914",
   "metadata": {},
   "source": [
    "**❗ What if there are zeros?**\n",
    "- If there’s 1 zero, all positions except the one with zero become 0. \n",
    "- If there are 2 or more zeros, every product is 0."
   ]
  },
  {
   "cell_type": "code",
   "execution_count": 66,
   "id": "26fdd630-2384-4b56-b5bf-5f235d8f976a",
   "metadata": {},
   "outputs": [],
   "source": [
    "class Solution:\n",
    "    def productExceptSelf(self, nums: list[int]) -> list[int]:\n",
    "        total_product = 1\n",
    "        zero_count = nums.count(0)\n",
    "\n",
    "        # If more than one zero, result is all zeros\n",
    "        if zero_count > 1:\n",
    "            return [0] * len(nums)\n",
    "\n",
    "        # Calculate product of all non-zero numbers\n",
    "        for num in nums:\n",
    "            if num != 0:\n",
    "                total_product *= num\n",
    "\n",
    "        result = []\n",
    "        for num in nums:\n",
    "            if zero_count == 1:\n",
    "                if num == 0:\n",
    "                    result.append(total_product)\n",
    "                else:\n",
    "                    result.append(0)\n",
    "            else:\n",
    "                result.append(total_product // num)\n",
    "\n",
    "        return result"
   ]
  },
  {
   "cell_type": "code",
   "execution_count": 67,
   "id": "5f0fc291-91f2-4a07-b379-c5a3e6fb807a",
   "metadata": {},
   "outputs": [
    {
     "name": "stdout",
     "output_type": "stream",
     "text": [
      "[24, 12, 8, 6]\n",
      "[0, 0, 9, 0, 0]\n"
     ]
    }
   ],
   "source": [
    "print(Solution().productExceptSelf([1, 2, 3, 4]))        # ➜ [24, 12, 8, 6]\n",
    "print(Solution().productExceptSelf([-1, 1, 0, -3, 3]))   # ➜ [0, 0, 9, 0, 0]"
   ]
  },
  {
   "cell_type": "markdown",
   "id": "18ea477e-68ff-485e-b53a-b551c65e5eb5",
   "metadata": {},
   "source": [
    "<hr>"
   ]
  },
  {
   "cell_type": "markdown",
   "id": "a041397d-50f9-41f9-ac65-0e7532bb69cd",
   "metadata": {},
   "source": [
    "## <a href=\"https://leetcode.com/problems/longest-substring-without-repeating-characters/\">3. Longest Substring without repeating characters</a>\n",
    "\n",
    "<span style=\"background-color: yellow; color: black;\">medium<span>\n",
    "\n",
    "Given a string s, find the length of the longest substring without duplicate characters.\n",
    "\n",
    "\n",
    "Example 1:\n",
    "\n",
    "```Input: s = \"abcabcbb\"``` \\\n",
    "```Output: 3``` \\\n",
    "Explanation: The answer is \"abc\", with the length of 3.\n",
    "\n",
    "Example 2:\n",
    "\n",
    "```Input: s = \"bbbbb\"```\\\n",
    "```Output: 1```\\\n",
    "Explanation: The answer is \"b\", with the length of 1.\n",
    "\n",
    "Example 3:\n",
    "\n",
    "```Input: s = \"pwwkew\"```\\\n",
    "```Output: 3```\\\n",
    "Explanation: The answer is \"wke\", with the length of 3. \\\n",
    "**Notice** that the answer must be a substring, \"pwke\" is a subsequence and not a substring.\n",
    " \n",
    "\n",
    "Constraints:\n",
    "\n",
    "0 <= s.length <= 5 * 104\n",
    "s consists of English letters, digits, symbols and spaces.\n",
    "\n",
    "```class Solution:```\\\n",
    "```    def lengthOfLongestSubstring(self, s: str) -> int:```\n",
    "        "
   ]
  },
  {
   "cell_type": "code",
   "execution_count": 57,
   "id": "5afa6455-009e-4fb9-b25c-fc619af39c6a",
   "metadata": {},
   "outputs": [],
   "source": [
    "class Solution:\n",
    "    def lengthOfLongestSubstring(self, s: str) -> int:\n",
    "        longest = 0\n",
    "        answer = []\n",
    "        if len(s) <= 1:\n",
    "            longest = len(s)\n",
    "        else:\n",
    "            for i in s:\n",
    "                if i not in answer:\n",
    "                    answer.append(i)\n",
    "                    print(answer)\n",
    "                else:\n",
    "                    if len(answer) > longest:\n",
    "                        longest = len(answer)\n",
    "                    answer = answer[-1:]\n",
    "                    if i not in answer:\n",
    "                        answer.append(i)\n",
    "                    print(answer)\n",
    "            if len(answer) > longest:\n",
    "                longest = len(answer)\n",
    "        \n",
    "\n",
    "        return longest"
   ]
  },
  {
   "cell_type": "code",
   "execution_count": 59,
   "id": "e91fde28-406b-4a7f-9aed-532cf9169327",
   "metadata": {},
   "outputs": [
    {
     "name": "stdout",
     "output_type": "stream",
     "text": [
      "['a']\n",
      "['a', 'n']\n",
      "['a', 'n', 'v']\n",
      "['a', 'n', 'v', 'i']\n",
      "['i', 'a']\n",
      "['i', 'a', 'j']\n"
     ]
    },
    {
     "data": {
      "text/plain": [
       "4"
      ]
     },
     "execution_count": 59,
     "metadata": {},
     "output_type": "execute_result"
    }
   ],
   "source": [
    "s = Solution()\n",
    "s.lengthOfLongestSubstring(\"anviaj\")"
   ]
  },
  {
   "cell_type": "markdown",
   "id": "d6dfba39-071f-4570-8483-176b038006c7",
   "metadata": {},
   "source": [
    "d\n",
    "dv\n",
    "v\n",
    "vd\n",
    "d\n",
    "dv\n",
    "dvf"
   ]
  },
  {
   "cell_type": "markdown",
   "id": "08d73993-478b-4936-ac40-9839c5953dd0",
   "metadata": {},
   "source": [
    "\"pwwkew\" \\\n",
    "\"pw<u>wke</u>w\"\n",
    "\n",
    "[p] - > [pw] \\\n",
    "[w] \\\n",
    "[w]- > [wk] -> [wke] \\\n",
    "[k] -> [ke] -> [kew]"
   ]
  },
  {
   "cell_type": "markdown",
   "id": "b46bce92-68fe-4383-9540-e5b155bf697e",
   "metadata": {},
   "source": [
    "## Stopped here and asked chatGPT to fix my solution instead of giving me optimal solution: "
   ]
  },
  {
   "cell_type": "code",
   "execution_count": 66,
   "id": "bae31a02-c302-48bb-a6c6-5392f13e0434",
   "metadata": {},
   "outputs": [],
   "source": [
    "class Solution:\n",
    "    def lengthOfLongestSubstring(self, s: str) -> int:\n",
    "        longest = 0\n",
    "        answer = []\n",
    "        \n",
    "        for i in s:\n",
    "            if i in answer:\n",
    "                # Remove characters from the start until the duplicate is gone\n",
    "                duplicate_index = answer.index(i)\n",
    "                answer = answer[duplicate_index + 1:]\n",
    "            \n",
    "            answer.append(i)\n",
    "            longest = max(longest, len(answer))\n",
    "        \n",
    "        return longest\n"
   ]
  },
  {
   "cell_type": "code",
   "execution_count": 67,
   "id": "9c05eb6c-727f-40a7-9f8e-ef603197a157",
   "metadata": {},
   "outputs": [
    {
     "name": "stdout",
     "output_type": "stream",
     "text": [
      "['a']\n",
      "['a', 'n']\n",
      "['a', 'n', 'v']\n",
      "['a', 'n', 'v', 'i']\n",
      "['n', 'v', 'i']\n",
      "['n', 'v', 'i', 'a']\n",
      "['n', 'v', 'i', 'a', 'j']\n"
     ]
    },
    {
     "data": {
      "text/plain": [
       "5"
      ]
     },
     "execution_count": 67,
     "metadata": {},
     "output_type": "execute_result"
    }
   ],
   "source": [
    "s = Solution()\n",
    "s.lengthOfLongestSubstring(\"anviaj\")"
   ]
  },
  {
   "cell_type": "markdown",
   "id": "fc4b09f5-8b6f-470d-8a89-020200f66b8c",
   "metadata": {},
   "source": [
    "## ChatGPT optimal solution: "
   ]
  },
  {
   "cell_type": "code",
   "execution_count": null,
   "id": "46dc3e2c-1f7d-4823-8dfb-3a943e2c9af7",
   "metadata": {},
   "outputs": [],
   "source": [
    "# ChatGPT optimal solution: \n",
    "\n",
    "class Solution:\n",
    "    def lengthOfLongestSubstring(self, s: str) -> int:\n",
    "        char_set = set()\n",
    "        left = 0\n",
    "        max_len = 0\n",
    "\n",
    "        for right in range(len(s)):\n",
    "            while s[right] in char_set:\n",
    "                char_set.remove(s[left])\n",
    "                left += 1\n",
    "            char_set.add(s[right])\n",
    "            max_len = max(max_len, right - left + 1)\n",
    "\n",
    "        return max_len"
   ]
  }
 ],
 "metadata": {
  "kernelspec": {
   "display_name": "Python 3 (ipykernel)",
   "language": "python",
   "name": "python3"
  },
  "language_info": {
   "codemirror_mode": {
    "name": "ipython",
    "version": 3
   },
   "file_extension": ".py",
   "mimetype": "text/x-python",
   "name": "python",
   "nbconvert_exporter": "python",
   "pygments_lexer": "ipython3",
   "version": "3.12.7"
  }
 },
 "nbformat": 4,
 "nbformat_minor": 5
}

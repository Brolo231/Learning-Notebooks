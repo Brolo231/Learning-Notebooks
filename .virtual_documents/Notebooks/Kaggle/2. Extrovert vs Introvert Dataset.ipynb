# Extrovert vs Introvert dataset has already been loaded from "How to use kaggle datasets in jupyter notebook" 

# Load the dataset
import pandas as pd
df = pd.read_csv('datasets/personality_dataset.csv')


# Load top 5 results 
df.head()


# Get a quick overview of the data
df.describe()


df.info()


df.select_dtypes(include='number').corr()


df["Personality"].value_counts(dropna=False)


# Average post rating by personality type
df.groupby("Personality")["Post_frequency"].mean()


# Average alone time by personality type
df.groupby("Personality")["Time_spent_Alone"].mean()


# Does stage fear play a role in personality type? 
df.groupby("Personality")["Stage_fear"].value_counts()


# Average friend size of personality type
df.groupby("Personality")["Friends_circle_size"].mean()


# Largest friend size of personality type
df.groupby("Personality")["Friends_circle_size"].max()


# Smallest friend size of personality type
df.groupby("Personality")["Friends_circle_size"].min()


# Understanding introverted perosnlaity type with a high friend circle size 
filtered = df[(df["Friends_circle_size"] == 14) & (df["Personality"] == "Introvert")]
filtered

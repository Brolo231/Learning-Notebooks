


class Solution:
    def containsDuplicate(self, nums: list[int]) -> bool:

        seen = {}
        for idx, value in enumerate(nums):
            if value in seen:
                return True
            seen[value] = idx
        return False

s = Solution()
s.containsDuplicate([1,2,3])





class Solution:
    def containsDuplicate(self, nums: list[int]) -> bool:

        seen = set()
        for idx, value in enumerate(nums):
            if value in seen:
                return True
            seen.add(value)
        return False

s = Solution()
s.containsDuplicate([1,2,3])


import timeit

dict_answer = '''
class Solution:
    def containsDuplicate(self, nums: list[int]) -> bool:

        seen = {}
        for idx, value in enumerate(nums):
            if value in seen:
                return True
            seen[value] = idx
        return False

s = Solution()
s.containsDuplicate([1,2,3])
'''

set_answer = '''
class Solution:
    def containsDuplicate(self, nums: list[int]) -> bool:

        seen = set()
        for idx, value in enumerate(nums):
            if value in seen:
                return True
            seen.add(value)
        return False

s = Solution()
s.containsDuplicate([1,2,3])
'''

print("dict_answer:", timeit.timeit(stmt=dict_answer, number=10000))
print("set_answer:", timeit.timeit(stmt=set_answer, number=10000))





class Solution:
    def isAnagram(self, s: str, t: str) -> bool:
        if len(s) == len(t):
            for i in s:
                if i in t:
                    continue
                else:
                    return False
            return True
        else:
            return False

s = Solution()
s.isAnagram("aacc", "ccac")





class Solution:
    def isAnagram(self, s: str, t: str) -> bool:

        seen = {}
        if len(s) != len(t):
            return False
            
        for letter in s:
            if letter in seen:
                seen[letter] += 1
            else:
                seen[letter] = 1

        for letter in t:
            if letter in seen and seen[letter] != 0:
                seen[letter] -= 1
            else:
                return False

        return True

s = Solution()
s.isAnagram("caac-", "acca-")


# Cheating solution is to use the sorted() method


class Solution:
    def isAnagram(self, s: str, t: str) -> bool:
        if sorted(s) == sorted(t):
            return True
        return False

s = Solution()
s.isAnagram("caac-", "acca+")





class Solution:
    def groupAnagrams(self, strs: list[str]) -> list[list[str]]:

        seen = []
        for value in strs:
            for idx, pair in enumerate(seen):
                if sorted(value) == sorted(pair[0]):
                    seen[idx].append(value)
                    break
                if sorted(value) != sorted(pair[0]) and idx == len(seen) - 1:
                    seen.append([value])
                    break
            if not seen:
                seen.append([strs[0]])

        return seen

s = Solution()
s.groupAnagrams(["eat","tea","tan","ate","nat","bat"])





class Solution:
    def groupAnagrams(self, strs: list[str]) -> list[list[str]]:
        anagrams = {}

        for word in strs:
            key = ''.join(sorted(word))  # use sorted string as the key
            if key not in anagrams:
                anagrams[key] = []
            anagrams[key].append(word)

        return list(anagrams.values())

s = Solution()
s.groupAnagrams(["eat","tea","tan","ate","nat","bat"])




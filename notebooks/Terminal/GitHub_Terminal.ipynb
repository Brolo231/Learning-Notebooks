{
 "cells": [
  {
   "cell_type": "markdown",
   "id": "2b72317b-d508-4d19-b511-2ee6311b097f",
   "metadata": {},
   "source": [
    "# <a href='https://brolo231.github.io/Learning-Notebooks/'>Home Page</a>"
   ]
  },
  {
   "cell_type": "markdown",
   "id": "2cf0ada9-1d3d-420f-99cb-8a3d9db66775",
   "metadata": {},
   "source": [
    "# GitHub & Git\n",
    "\n",
    "Git is a local version control system that tracks changes in files on your computer.\n",
    "#### If you havent already installed Git, install it:\n",
    "    • Linux (Debian-based): sudo apt install git\n",
    "\t• Mac: brew install git\n",
    "\t• Windows: Download and install Git for Windows\n",
    "\n",
    "#### Configure Git with your details to ensure commits are linked to GitHub\n",
    "` git config --global user.name \"Your Name\" ` \\\n",
    "` git config --global user.email \"your_email@example.com\" `"
   ]
  },
  {
   "cell_type": "markdown",
   "id": "90d8107e-edf9-40c2-b74b-01ab1e061a68",
   "metadata": {},
   "source": [
    "# GitHub CLI\n",
    "\n",
    "#### The easiest way to interact with GitHub from the terminal is by using the GitHub CLI.\n",
    "\n",
    "Ubuntu/Debian: ` sudo apt install gh ` \\\n",
    "Mac (homebrew): ` brew install gh ` \\\n",
    "Windows: Download from GitHub CLI website\n",
    "\n",
    "#### Authenticate GitHub CLI:\n",
    "` gh auth login `\n"
   ]
  },
  {
   "cell_type": "markdown",
   "id": "e351bc58-0ccc-459a-9d1c-3a871ed69018",
   "metadata": {},
   "source": [
    "## 1. List your repositories\n",
    "\n",
    "` gh repo list `"
   ]
  },
  {
   "cell_type": "markdown",
   "id": "576bec11-1a0b-4198-8491-4f1566c21fcb",
   "metadata": {},
   "source": [
    "## 2. Check to see if you're inside a git repo\n",
    "` git status `"
   ]
  },
  {
   "cell_type": "markdown",
   "id": "3987bb2b-dd55-4b81-b2a3-77c9b5f7ef81",
   "metadata": {},
   "source": [
    "## 3. Navigate to repo by cd into\n",
    "` cd /path/to/repository `\n",
    "\n",
    "#### Then we can use tree -a to list the full directory structure\n",
    "\n",
    "` tree -a `"
   ]
  },
  {
   "cell_type": "markdown",
   "id": "9264e1cd-9106-436f-832e-e7fb4721a044",
   "metadata": {},
   "source": [
    "## 4. Create a repository from the terminal\n",
    "\n",
    "1. Create a Local Repository \\\n",
    "        ` mkdir my-new-repo ` # Create a new folder \\\n",
    "        ` cd my-new-repo ` # Navigate into the folder \\\n",
    "        ` git init ` # Initialize Git in this folder \n",
    "\n",
    "2. Add files and make initial commit \\\n",
    "        ` echo \"# My New Repository\" >> README.md ` # Create a README file \\\n",
    "        ` git add . ` # Stage all files \\\n",
    "        ` git commit -m \"Initial commit\" ` # Commit the files\n",
    "\n",
    "3. Create a GitHub Repository from Terminal \\\n",
    "        ` gh repo create my-new-repo --public --source=. --remote=origin ` \\\n",
    "        \t• --public → Creates a public repository (use --private for private repos). \\\n",
    "        \t• --source=. → Uses the current directory as the repo. \\\n",
    "        \t• --remote=origin → Adds GitHub as a remote repository.\n",
    "\n",
    "4. Verify remote URL \\\n",
    "        ` git remote -v ` \\\n",
    "        # This tells us what repository our local git is linked to"
   ]
  },
  {
   "cell_type": "markdown",
   "id": "e4626fc0-3dfb-4d96-91ee-61deabe56002",
   "metadata": {},
   "source": [
    "## 5. Push code to github\n",
    "\n",
    "` git branch -M main ` # Rename default branch to 'main' (optional) \\\n",
    "` git push -u origin main ` # Push the repo to GitHub"
   ]
  },
  {
   "cell_type": "markdown",
   "id": "a3906365-93f3-4a0d-be22-65d8506d649a",
   "metadata": {},
   "source": [
    "<hr>"
   ]
  },
  {
   "cell_type": "markdown",
   "id": "faa232c5-603a-46d4-b1fd-cda5d57bf9e0",
   "metadata": {},
   "source": [
    "# 6. Force push local to github \n",
    "\n",
    "`git push -f originb main` \n",
    "\n",
    "# 7. Merge remote and local \n",
    "\n",
    "*This command fetches changes from the remote repository and merges them into your local branch.*\n",
    "\n",
    "`git pull origin main`\n",
    "\n"
   ]
  },
  {
   "cell_type": "code",
   "execution_count": null,
   "id": "a58531b6-0836-422c-9b44-8726c8d8bb8a",
   "metadata": {},
   "outputs": [],
   "source": []
  }
 ],
 "metadata": {
  "kernelspec": {
   "display_name": "Python 3 (ipykernel)",
   "language": "python",
   "name": "python3"
  },
  "language_info": {
   "codemirror_mode": {
    "name": "ipython",
    "version": 3
   },
   "file_extension": ".py",
   "mimetype": "text/x-python",
   "name": "python",
   "nbconvert_exporter": "python",
   "pygments_lexer": "ipython3",
   "version": "3.12.7"
  }
 },
 "nbformat": 4,
 "nbformat_minor": 5
}

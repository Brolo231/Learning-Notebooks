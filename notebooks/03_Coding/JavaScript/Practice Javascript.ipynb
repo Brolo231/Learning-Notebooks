{
 "cells": [
  {
   "cell_type": "markdown",
   "id": "344c72d4-c0c7-45b1-a544-5bbd6f3c835d",
   "metadata": {},
   "source": [
    "## Write a function isEven(number) that returns true if the number is even, else false."
   ]
  },
  {
   "cell_type": "code",
   "execution_count": null,
   "id": "c1e9035c-8e09-440b-a049-c0c8d41ccd26",
   "metadata": {},
   "outputs": [],
   "source": []
  },
  {
   "cell_type": "markdown",
   "id": "eff0b076-82f3-43ef-bd07-c81ff76e1c79",
   "metadata": {},
   "source": [
    "<hr>"
   ]
  },
  {
   "cell_type": "markdown",
   "id": "d53ad921-2518-4409-9024-40da7d23da22",
   "metadata": {},
   "source": [
    "## Create a class Rectangle:\n",
    "\t•\tProperties: width, height\n",
    "\t•\tMethods:\n",
    "\t•\tarea() returns area\n",
    "\t•\tperimeter() returns perimeter\n",
    "\n",
    "**Create an instance and log the area and perimeter.**"
   ]
  },
  {
   "cell_type": "code",
   "execution_count": null,
   "id": "623deeb1-d9d7-4309-8063-44a3ddaa439e",
   "metadata": {},
   "outputs": [],
   "source": []
  },
  {
   "cell_type": "markdown",
   "id": "804748bf-eaa6-4d5c-8d09-0f4fcbc929d8",
   "metadata": {},
   "source": [
    "<hr>"
   ]
  },
  {
   "cell_type": "code",
   "execution_count": null,
   "id": "0e6fdd6a-7fab-4d89-bb87-338a17cbbdf4",
   "metadata": {},
   "outputs": [],
   "source": []
  }
 ],
 "metadata": {
  "kernelspec": {
   "display_name": "JavaScript (Node.js)",
   "language": "javascript",
   "name": "javascript"
  },
  "language_info": {
   "file_extension": ".js",
   "mimetype": "application/javascript",
   "name": "javascript",
   "version": "18.20.8"
  }
 },
 "nbformat": 4,
 "nbformat_minor": 5
}

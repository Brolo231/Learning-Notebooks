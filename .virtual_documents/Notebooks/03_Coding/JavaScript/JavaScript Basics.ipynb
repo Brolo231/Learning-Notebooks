


let age = 25;              // a variable whose value can change
const name = "Brandon";    // a constant string variable
var isStudent = true;      // function-scoped boolean (legacy, avoid)


console.log(age)


console.log("Hello world")




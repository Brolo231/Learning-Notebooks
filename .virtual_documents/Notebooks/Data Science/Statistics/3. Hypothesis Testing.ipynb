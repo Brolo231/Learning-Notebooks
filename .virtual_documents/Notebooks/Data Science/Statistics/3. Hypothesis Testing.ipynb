import kagglehub
from kagglehub import KaggleDatasetAdapter

# If you want to load the whole dataset (no specific file), leave file_path as empty string
file_path = "personality_dataset.csv"  

df = kagglehub.load_dataset(
    KaggleDatasetAdapter.PANDAS,
    "rakeshkapilavai/extrovert-vs-introvert-behavior-data",
    file_path
)

print("First 5 records:")
print(df.head())


df.describe()




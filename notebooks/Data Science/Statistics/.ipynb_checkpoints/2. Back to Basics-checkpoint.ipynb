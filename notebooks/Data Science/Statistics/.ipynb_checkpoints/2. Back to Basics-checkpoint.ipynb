{
 "cells": [
  {
   "cell_type": "markdown",
   "id": "829a464b-2116-4c2a-a04e-ddbe0063bd3d",
   "metadata": {},
   "source": [
    "# Technical Introduction to Statistics \n",
    "\n",
    "This notebook will cover the fundamental statistical operations and how to utilize these concepts in a format that is *'data science ready'*"
   ]
  },
  {
   "cell_type": "code",
   "execution_count": 3,
   "id": "206c4a92-d076-4953-90b6-048dc85286ad",
   "metadata": {},
   "outputs": [],
   "source": [
    "# Install pandas \n",
    "import pandas as pd"
   ]
  },
  {
   "cell_type": "markdown",
   "id": "d78ba34a-990e-4dd3-90f8-33c3e5482557",
   "metadata": {},
   "source": [
    "Sample data for testing purposes:"
   ]
  },
  {
   "cell_type": "code",
   "execution_count": 4,
   "id": "30cfcdf7-832f-46ce-a6b9-cfa61590d4ce",
   "metadata": {},
   "outputs": [
    {
     "name": "stdout",
     "output_type": "stream",
     "text": [
      "   Student  Score\n",
      "0    Alice     85\n",
      "1      Bob     90\n",
      "2  Charlie     78\n",
      "3    David     92\n",
      "4      Eva     88\n"
     ]
    }
   ],
   "source": [
    "# Creating a simple dataset using a Python dictionary\n",
    "data = {\n",
    "    'Student': ['Alice', 'Bob', 'Charlie', 'David', 'Eva'],\n",
    "    'Score': [85, 90, 78, 92, 88]\n",
    "}\n",
    "\n",
    "# Convert the dictionary into a DataFrame (table)\n",
    "df = pd.DataFrame(data)\n",
    "\n",
    "# Display the table\n",
    "print(df)"
   ]
  },
  {
   "cell_type": "markdown",
   "id": "a8d0dddf-7b01-4d90-9905-c3dd9df83f08",
   "metadata": {},
   "source": [
    "### Descriptive statistics\n",
    "\n",
    "This is the branch of statistics that summarizes and describes the main features of a dataset so that we can get an idea of what the data looks like. "
   ]
  },
  {
   "cell_type": "markdown",
   "id": "a065a609-b6fb-45f7-a666-6f97dbce2b7f",
   "metadata": {},
   "source": [
    "- **Mean**"
   ]
  },
  {
   "cell_type": "code",
   "execution_count": 5,
   "id": "9f30f33a-7007-46e6-b00f-5d2ce4fa0843",
   "metadata": {},
   "outputs": [
    {
     "name": "stdout",
     "output_type": "stream",
     "text": [
      "Mean Score: 86.6\n"
     ]
    }
   ],
   "source": [
    "# Mean\n",
    "\n",
    "mean_score = df['Score'].mean()\n",
    "print(\"Mean Score:\", mean_score)"
   ]
  },
  {
   "cell_type": "markdown",
   "id": "c2940be0-1bca-4f68-95df-6c8f1ca008a2",
   "metadata": {},
   "source": [
    "- **Median** \\\n",
    "Sorts the scores and picks the middle one. Useful when your data has outliers."
   ]
  },
  {
   "cell_type": "code",
   "execution_count": 7,
   "id": "f51e0ca8-cd63-4b9f-a446-6c81d5ddadbd",
   "metadata": {},
   "outputs": [
    {
     "name": "stdout",
     "output_type": "stream",
     "text": [
      "Median Score: 88.0\n"
     ]
    }
   ],
   "source": [
    "# Median\n",
    "\n",
    "median_score = df['Score'].median()\n",
    "print(\"Median Score:\", median_score)"
   ]
  },
  {
   "cell_type": "markdown",
   "id": "f72b0829-9a85-4afc-b7e5-731946e69d04",
   "metadata": {},
   "source": [
    "- **Mode**"
   ]
  },
  {
   "cell_type": "code",
   "execution_count": 8,
   "id": "9ab5cc5d-b0ab-4d26-97de-3b478ecd5dbb",
   "metadata": {},
   "outputs": [
    {
     "name": "stdout",
     "output_type": "stream",
     "text": [
      "Mode Score: [78, 85, 88, 90, 92]\n"
     ]
    }
   ],
   "source": [
    "# Mode\n",
    "\n",
    "mode_score = df['Score'].mode()\n",
    "print(\"Mode Score:\", mode_score.tolist())"
   ]
  },
  {
   "cell_type": "markdown",
   "id": "28043d9c-221f-4640-8e2c-f51916b644e2",
   "metadata": {},
   "source": [
    "- **Standard Deviation** \\\n",
    "How spread out the data is\n",
    "\n",
    "  - A low standard deviation means most values are close to the mean → consistent, stable data.\n",
    "  - A high standard deviation means values are spread out over a wider range → more variability, less predictable."
   ]
  },
  {
   "cell_type": "code",
   "execution_count": 9,
   "id": "3851a8be-1f4d-40e0-8c88-8e28ee5bfc28",
   "metadata": {},
   "outputs": [
    {
     "name": "stdout",
     "output_type": "stream",
     "text": [
      "Standard Deviation: 5.458937625582473\n"
     ]
    }
   ],
   "source": [
    "# Standard Deviation\n",
    "\n",
    "std_score = df['Score'].std()\n",
    "print(\"Standard Deviation:\", std_score)"
   ]
  },
  {
   "cell_type": "markdown",
   "id": "0c4fe28e-c764-4546-912c-bebefc925238",
   "metadata": {},
   "source": [
    "- **Min, Max, and Range**"
   ]
  },
  {
   "cell_type": "code",
   "execution_count": 10,
   "id": "9944a366-13d2-4ce2-9a6c-50edf1320e36",
   "metadata": {},
   "outputs": [
    {
     "name": "stdout",
     "output_type": "stream",
     "text": [
      "Min: 78 | Max: 92 | Range: 14\n"
     ]
    }
   ],
   "source": [
    "# Minimum, Maximum and Range\n",
    "\n",
    "min_score = df['Score'].min()\n",
    "max_score = df['Score'].max()\n",
    "range_score = max_score - min_score\n",
    "\n",
    "print(\"Min:\", min_score, \"| Max:\", max_score, \"| Range:\", range_score)"
   ]
  }
 ],
 "metadata": {
  "kernelspec": {
   "display_name": "Python 3 (ipykernel)",
   "language": "python",
   "name": "python3"
  },
  "language_info": {
   "codemirror_mode": {
    "name": "ipython",
    "version": 3
   },
   "file_extension": ".py",
   "mimetype": "text/x-python",
   "name": "python",
   "nbconvert_exporter": "python",
   "pygments_lexer": "ipython3",
   "version": "3.12.7"
  }
 },
 "nbformat": 4,
 "nbformat_minor": 5
}

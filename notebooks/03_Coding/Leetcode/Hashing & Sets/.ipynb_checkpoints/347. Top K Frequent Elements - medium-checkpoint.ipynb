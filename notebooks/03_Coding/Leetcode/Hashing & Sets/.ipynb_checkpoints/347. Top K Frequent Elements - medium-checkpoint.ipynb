{
 "cells": [
  {
   "cell_type": "markdown",
   "id": "7db1b455-9089-44a1-8e3c-f6cd1d084fa0",
   "metadata": {},
   "source": [
    "# 347.  Top K Frequent Elements\n",
    "\n",
    "Given an integer array nums and an integer k, return the k most frequent elements. You may return the answer in any order.\n",
    "\n",
    " \n",
    "\n",
    "Example 1: \\\n",
    "```Input: nums = [1,1,1,2,2,3], k = 2``` \\\n",
    "```Output: [1,2]```\n",
    "\n",
    "Example 2: \\\n",
    "```Input: nums = [1], k = 1```\\\n",
    "```Output: [1]```\n",
    " \n",
    "Constraints:\n",
    "1 <= nums.length <= 105 \\\n",
    "-104 <= nums[i] <= 104 \\\n",
    "k is in the range [1, the number of unique elements in the array]. \\\n",
    "It is guaranteed that the answer is unique. \n",
    " \n",
    "\n",
    "Follow up: Your algorithm's time complexity must be better than O(n log n), where n is the array's size.\n",
    "\n",
    "```class Solution:```\\\n",
    "```    def topKFrequent(self, nums: List[int], k: int) -> List[int]:```\n"
   ]
  },
  {
   "cell_type": "code",
   "execution_count": 2,
   "id": "2616d9d3-199f-4b02-ad1c-2429a9395009",
   "metadata": {},
   "outputs": [],
   "source": [
    "from collections import defaultdict\n",
    "\n",
    "# Without collections: \n",
    "# if num not in seen:\n",
    "#     seen[num] = 0\n",
    "# seen[num] += 1"
   ]
  },
  {
   "cell_type": "code",
   "execution_count": 36,
   "id": "5663e0b8-fea2-49fc-85c5-1b393ab50725",
   "metadata": {},
   "outputs": [
    {
     "name": "stdout",
     "output_type": "stream",
     "text": [
      "(1, 3)\n",
      "(5, 2)\n",
      "(2, 1)\n",
      "(3, 3)\n"
     ]
    }
   ],
   "source": [
    "class Solution:\n",
    "    def topKFrequent(self, nums: list[int], k: int) -> list[int]:\n",
    "\n",
    "        seen = defaultdict(int)\n",
    "\n",
    "        for num in nums:\n",
    "            seen[num] += 1\n",
    "\n",
    "        for element in list(seen.items()):\n",
    "            print(element)\n",
    "\n",
    "        # print(list(seen.items()))\n",
    "\n",
    "        # for key, value in seen.items():\n",
    "            \n",
    "        \n",
    "\n",
    "s = Solution()\n",
    "s.topKFrequent([1,1,1,5,5,2,3,3,3], 2)"
   ]
  },
  {
   "cell_type": "code",
   "execution_count": 28,
   "id": "c913883d-687b-489c-b5ad-b64b05af460a",
   "metadata": {},
   "outputs": [
    {
     "data": {
      "text/plain": [
       "1"
      ]
     },
     "execution_count": 28,
     "metadata": {},
     "output_type": "execute_result"
    }
   ],
   "source": [
    "seen = {}\n",
    "seen[3] = 1\n",
    "seen[3] "
   ]
  },
  {
   "cell_type": "code",
   "execution_count": null,
   "id": "24823c2b-d2a3-4620-a283-7581049a61ac",
   "metadata": {},
   "outputs": [],
   "source": []
  }
 ],
 "metadata": {
  "kernelspec": {
   "display_name": "Python 3 (ipykernel)",
   "language": "python",
   "name": "python3"
  },
  "language_info": {
   "codemirror_mode": {
    "name": "ipython",
    "version": 3
   },
   "file_extension": ".py",
   "mimetype": "text/x-python",
   "name": "python",
   "nbconvert_exporter": "python",
   "pygments_lexer": "ipython3",
   "version": "3.12.7"
  }
 },
 "nbformat": 4,
 "nbformat_minor": 5
}

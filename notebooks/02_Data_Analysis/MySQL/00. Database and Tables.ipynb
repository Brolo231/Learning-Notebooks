{
 "cells": [
  {
   "cell_type": "markdown",
   "id": "f81d24a8-dbac-45b0-bd2e-6988e02db9db",
   "metadata": {},
   "source": [
    "# MySQL Learning \n",
    "\n",
    "<hr>\n",
    "\n",
    "### The following notebooks are structured around <a href=\"https://www.youtube.com/watch?v=rGx1QNdYzvs&list=PLUaB-1hjhk8FE_XZ87vPPSfHqb6OcM0cF\" target=\"_blank\">Alex the Analyst's Data Analyst Bootcamp </a> \n",
    "\n",
    "<hr>\n",
    "\n",
    "#### The introductory MySQL videos cover the database and database tables that will be used throughout the MySQL course content: \n",
    "\n",
    "<hr>\n",
    "\n",
    "## Database Schema: Parks_and_Recreation\n",
    "\n",
    "##\n",
    "\n",
    "<strong><div style=\"text-align: center;\">Table: employee_demographics</div></strong>\n",
    "\n",
    "| Column Name  | Data Type      | \n",
    "|--------------|----------------|\n",
    "| employee_id  | INT (PK)       | \n",
    "| first_name   | VARCHAR(50)    | \n",
    "| last_name    | VARCHAR(50)    | \n",
    "| age          | INT            | \n",
    "| gender       | VARCHAR(10)    | \n",
    "| birth_date   | DATE           | \n",
    "\n",
    "##\n",
    "\n",
    "<strong><div style=\"text-align: center;\">Table: employee_salary</div></strong>\n",
    "\n",
    "| Column Name | Data Type     |\n",
    "|-------------|---------------|\n",
    "| employee_id | INT           |\n",
    "| first_name  | VARCHAR(50)   |\n",
    "| last_name   | VARCHAR(50)   |\n",
    "| occupation  | VARCHAR(50)   |\n",
    "| salary      | INT           |\n",
    "| dept_id     | INT           |\n",
    "\n",
    "##\n",
    "\n",
    "<strong><div style=\"text-align: center;\">Table: parks_departments</div></strong>\n",
    "\n",
    "| Column Name     | Data Type    |\n",
    "|------------------|--------------|\n",
    "| department_id    | INT (AI, PK) |\n",
    "| department_name  | VARCHAR(50)  |\n",
    "\n",
    "## "
   ]
  }
 ],
 "metadata": {
  "kernelspec": {
   "display_name": "Python 3 (ipykernel)",
   "language": "python",
   "name": "python3"
  },
  "language_info": {
   "codemirror_mode": {
    "name": "ipython",
    "version": 3
   },
   "file_extension": ".py",
   "mimetype": "text/x-python",
   "name": "python",
   "nbconvert_exporter": "python",
   "pygments_lexer": "ipython3",
   "version": "3.12.7"
  }
 },
 "nbformat": 4,
 "nbformat_minor": 5
}

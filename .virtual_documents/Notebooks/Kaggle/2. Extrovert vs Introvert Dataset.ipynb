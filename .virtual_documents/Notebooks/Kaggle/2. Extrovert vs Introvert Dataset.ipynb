# Extrovert vs Introvert dataset has already been loaded from "How to use kaggle datasets in jupyter notebook" 

# Load the dataset
import pandas as pd
df = pd.read_csv('datasets/personality_dataset.csv')


# Load top 5 results 
df.head()


# Get a quick overview of the data
df.describe()


df.info()


df.select_dtypes(include='number').corr()

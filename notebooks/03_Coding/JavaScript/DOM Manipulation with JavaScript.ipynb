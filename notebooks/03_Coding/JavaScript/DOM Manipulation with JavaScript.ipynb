{
 "cells": [
  {
   "cell_type": "markdown",
   "id": "af491e12-5c92-489a-adc5-64c704e23dd3",
   "metadata": {},
   "source": [
    "# 🧠 JavaScript for Web Development — DOM Manipulation\n",
    "\n",
    "<hr>\n",
    "\n",
    "The DOM (Document Object Model) is a tree-like structure representing all elements in an HTML document. JavaScript lets you select, change, add, or remove these elements dynamically.\n",
    "\n",
    "### 🛠️ Core Topics You Need:\n",
    "\n",
    "## ✅ 1. Selecting Elements\n",
    "\n",
    "You can select HTML elements in several ways:"
   ]
  },
  {
   "cell_type": "code",
   "execution_count": null,
   "id": "963ff629-1a4e-49b2-ad09-0ad62248cad0",
   "metadata": {},
   "outputs": [],
   "source": [
    "document.getElementById(\"myDiv\");         // by ID\n",
    "document.getElementsByClassName(\"box\");   // by class (returns a collection)\n",
    "document.getElementsByTagName(\"div\");     // by tag\n",
    "document.querySelector(\".box\");           // first match using CSS selector\n",
    "document.querySelectorAll(\".box\");        // all matches (NodeList)"
   ]
  },
  {
   "cell_type": "markdown",
   "id": "2cfa5e1e-93e6-4294-a389-603c22e85457",
   "metadata": {},
   "source": [
    "## ✅ 2. Changing Styles (e.g., display: none → flex)\n",
    "\n",
    "Let’s say you have:"
   ]
  },
  {
   "cell_type": "code",
   "execution_count": null,
   "id": "c886b121-0d3b-43ea-a608-32ed40ab6622",
   "metadata": {},
   "outputs": [],
   "source": [
    "<div id=\"menu\" style=\"display: none;\">My Menu</div>\n",
    "<button id=\"toggleBtn\">Toggle Menu</button>"
   ]
  },
  {
   "cell_type": "markdown",
   "id": "c88aaa41-7a9c-4218-b527-15802185449e",
   "metadata": {},
   "source": [
    "Now in JavaScript:"
   ]
  },
  {
   "cell_type": "code",
   "execution_count": null,
   "id": "ecdb0626-73b1-49ba-91f3-f9ffd806e08c",
   "metadata": {},
   "outputs": [],
   "source": [
    "const menu = document.getElementById(\"menu\");\n",
    "const button = document.getElementById(\"toggleBtn\");\n",
    "\n",
    "button.addEventListener(\"click\", () => {\n",
    "  if (menu.style.display === \"none\") {\n",
    "    menu.style.display = \"flex\";\n",
    "  } else {\n",
    "    menu.style.display = \"none\";\n",
    "  }\n",
    "});"
   ]
  },
  {
   "cell_type": "markdown",
   "id": "690fce53-6cbf-41c2-861e-71034efad73c",
   "metadata": {},
   "source": [
    "|_🧠 .style.display allows you to toggle visibility."
   ]
  },
  {
   "cell_type": "markdown",
   "id": "e8e8ae6d-a48a-471a-873c-c8a165136f92",
   "metadata": {},
   "source": [
    "## ✅ 3. Adding/Removing Classes"
   ]
  },
  {
   "cell_type": "code",
   "execution_count": null,
   "id": "e3433c7b-df4b-4e67-affb-e85eb6b7a8d5",
   "metadata": {},
   "outputs": [],
   "source": [
    "menu.classList.add(\"visible\");\n",
    "menu.classList.remove(\"hidden\");\n",
    "menu.classList.toggle(\"visible\"); // toggles class on/off"
   ]
  },
  {
   "cell_type": "markdown",
   "id": "060347a6-fdb7-47b0-89d4-78188c0fb275",
   "metadata": {},
   "source": [
    "## ✅ 4. Changing Content"
   ]
  },
  {
   "cell_type": "code",
   "execution_count": null,
   "id": "f19e5a93-9155-45b4-bf57-4d674cd850b1",
   "metadata": {},
   "outputs": [],
   "source": [
    "menu.innerHTML = \"<p>New Menu Content</p>\";   // changes HTML\n",
    "menu.textContent = \"Just Text\";              // just text"
   ]
  },
  {
   "cell_type": "markdown",
   "id": "6719e3ce-73d2-4afb-af83-b484f8cfba6c",
   "metadata": {},
   "source": [
    "## ✅ 5. Creating/Removing Elements"
   ]
  },
  {
   "cell_type": "code",
   "execution_count": null,
   "id": "fddb841e-ddff-4054-95bc-1f1ce6c8d85f",
   "metadata": {},
   "outputs": [],
   "source": [
    "let newItem = document.createElement(\"div\");\n",
    "newItem.textContent = \"I'm new!\";\n",
    "document.body.appendChild(newItem);         // adds to the body\n",
    "\n",
    "menu.remove();                               // removes element"
   ]
  },
  {
   "cell_type": "markdown",
   "id": "014e4875-2bc4-4bc7-b17b-c4e988d3f404",
   "metadata": {},
   "source": [
    "## ✅ 6. Event Listeners"
   ]
  },
  {
   "cell_type": "code",
   "execution_count": null,
   "id": "6658ab43-53c6-44c0-aed0-fd8a8c9aaa1b",
   "metadata": {},
   "outputs": [],
   "source": [
    "button.addEventListener(\"click\", function() {\n",
    "  alert(\"Button clicked!\");\n",
    "});"
   ]
  },
  {
   "cell_type": "markdown",
   "id": "8b884a3c-5b1f-417c-8214-0513c6194c4b",
   "metadata": {},
   "source": [
    "## 📋 Summary\n",
    "\n",
    "###  📘 JavaScript DOM Manipulation Cheat Sheet\n",
    "\n",
    "| **Task**                     | **Method**                          | **Simple Example**                                                | **Notes**                                                   |\n",
    "|-----------------------------|-------------------------------------|-------------------------------------------------------------------|-------------------------------------------------------------|\n",
    "| **Select by ID**            | `document.getElementById()`         | `const box = document.getElementById(\"myBox\");`                   | Returns a single element with the specified `id`.           |\n",
    "| **Select by class/tag**     | `document.getElementsBy...()`       | `const items = document.getElementsByClassName(\"item\");`          | Returns an **HTMLCollection** — use loops to iterate.       |\n",
    "|                             |                                     | `const divs = document.getElementsByTagName(\"div\");`              |                                                             |\n",
    "| **Flexible selection**      | `document.querySelector()`          | `const firstItem = document.querySelector(\".item\");`              | Selects the **first** match using CSS selectors.            |\n",
    "|                             | `document.querySelectorAll()`       | `const allItems = document.querySelectorAll(\".item\");`            | Returns a **NodeList** — can use `forEach`.                 |\n",
    "| **Change display**          | `element.style.display = ...`       | `box.style.display = \"none\";`                                     | Useful for show/hide toggling.                             |\n",
    "| **Add/Remove/Toggle class** | `element.classList`                 | `box.classList.toggle(\"active\");`                                 | Use `.add()`, `.remove()`, or `.toggle()`.                  |\n",
    "| **Change content**          | `element.innerHTML / textContent`   | `box.textContent = \"Updated Text\";`                               | `innerHTML` includes tags, `textContent` is just text.      |\n",
    "| **Handle click**            | `element.addEventListener()`        | `btn.addEventListener(\"click\", () => alert(\"Clicked!\"));`         | Attach a function to run on events like `click`, `hover`.   |\n",
    "| **Create new element**      | `document.createElement()`          | `const newDiv = document.createElement(\"div\");`                   | Creates a new element in memory.                           |\n",
    "| **Add element**             | `parent.appendChild(newEl)`         | `document.body.appendChild(newDiv);`                              | Adds a new element to the DOM.                             |\n",
    "| **Remove element**          | `element.remove()`                  | `box.remove();`                                                   | Deletes the element from the DOM entirely.                  |"
   ]
  },
  {
   "cell_type": "markdown",
   "id": "a7f0c5c7-29f5-4d84-aef7-13d6c4f79eb2",
   "metadata": {},
   "source": [
    "<hr>\n",
    "\n",
    "### ✅ Practice Challenges\n",
    "\n",
    "| Challenge               | Difficulty | Key Concepts                          |\n",
    "|------------------------|------------|---------------------------------------|\n",
    "| Toggle Light/Dark Mode | Easy       | classList.toggle, event listener      |\n",
    "| Show/Hide Password Text| Easy       | DOM manipulation, input type toggle   |\n",
    "| Counter App            | Easy       | textContent, +=, events               |\n",
    "| To-Do List             | Medium     | create/remove elements dynamically    |\n",
    "| Image Gallery Viewer   | Medium     | src swap, thumbnails                  |"
   ]
  }
 ],
 "metadata": {
  "kernelspec": {
   "display_name": "JavaScript (Node.js)",
   "language": "javascript",
   "name": "javascript"
  },
  "language_info": {
   "file_extension": ".js",
   "mimetype": "application/javascript",
   "name": "javascript",
   "version": "18.20.8"
  }
 },
 "nbformat": 4,
 "nbformat_minor": 5
}

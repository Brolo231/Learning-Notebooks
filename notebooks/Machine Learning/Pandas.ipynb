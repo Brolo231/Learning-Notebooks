{
 "cells": [
  {
   "cell_type": "markdown",
   "id": "54ec3b7a-d50e-48b4-a3bc-6b376be3bd1d",
   "metadata": {},
   "source": [
    "# Pandas 101: By <a target=\"_blank\" href=\"https://medium.com/@niraj.e21/pandas-101-dccdc78c2248\">Niraj Tiwari</a>"
   ]
  },
  {
   "cell_type": "markdown",
   "id": "c9159915-c624-426d-916d-46a9219e05ec",
   "metadata": {},
   "source": [
    "### 📌 Table of Contents:\n",
    "1. <a href=\"#1\">Introduction to Pandas</a>\n",
    "2. <a href=\"#2\">Data Importing and Exporting</a>\n",
    "3. <a href=\"#3\">Basic Data Operations</a>\n",
    "4. <a href=\"#4\">Data Cleaning</a>\n",
    "5. <a href=\"#5\">Basic Data Analysis</a>\n",
    "6. <a href=\"#6\">Conditional Selections</a>\n",
    "7. <a href=\"#7\">Data Transformation</a>"
   ]
  },
  {
   "cell_type": "markdown",
   "id": "67040292-1e62-4cdf-b348-7e2e800addb6",
   "metadata": {},
   "source": [
    "<hr>"
   ]
  },
  {
   "cell_type": "markdown",
   "id": "19f7a96d-dfbb-4a30-ba52-3c0c991957bd",
   "metadata": {},
   "source": [
    "<p id=\"1\"></p>\n",
    "\n",
    "## **1. Introduction to Pandas**\n",
    "Pandas is an open-source library in Python used for data manipulation and analysis. It offers data structures and operations for manipulating numerical tables and time series. It’s particularly well-suited for handling structured data, i.e., data that is organized into tables.\n",
    "\n",
    "**Series and DataFrames:** The two primary data structures in Pandas.\n",
    "\n",
    "- **A Series** is a one-dimensional array-like structure.\n",
    "- **A DataFrame** is a two-dimensional, size-mutable, and potentially heterogeneous tabular data structure.\n",
    "\n",
    "**Example 1: Creating a Series**"
   ]
  },
  {
   "cell_type": "code",
   "execution_count": 1,
   "id": "8a270091-3f09-423f-b64a-dc885befe2cf",
   "metadata": {},
   "outputs": [
    {
     "name": "stdout",
     "output_type": "stream",
     "text": [
      "0    1\n",
      "1    3\n",
      "2    5\n",
      "3    7\n",
      "4    9\n",
      "dtype: int64\n"
     ]
    }
   ],
   "source": [
    "import pandas as pd\n",
    "s = pd.Series([1, 3, 5, 7, 9])\n",
    "print(s)"
   ]
  },
  {
   "cell_type": "markdown",
   "id": "7ca29962-8089-4a84-92ba-b22ede3a9f78",
   "metadata": {},
   "source": [
    "**Example 2: Creating a DataFrame**"
   ]
  },
  {
   "cell_type": "code",
   "execution_count": 2,
   "id": "d708fc9e-c9f5-44de-b1e2-01a86945cc35",
   "metadata": {},
   "outputs": [
    {
     "name": "stdout",
     "output_type": "stream",
     "text": [
      "    Name  Age\n",
      "0   John   28\n",
      "1   Anna   34\n",
      "2  Peter   29\n",
      "3  Linda   32\n"
     ]
    }
   ],
   "source": [
    "data = {'Name': ['John', 'Anna', 'Peter', 'Linda'],\n",
    "        'Age': [28, 34, 29, 32]}\n",
    "df = pd.DataFrame(data)\n",
    "print(df)"
   ]
  },
  {
   "cell_type": "markdown",
   "id": "ed4b9aeb-094a-4a86-8e50-345195b3dedd",
   "metadata": {},
   "source": [
    "<hr>"
   ]
  },
  {
   "cell_type": "markdown",
   "id": "3455a626-ec74-42a1-9b49-105684995c6e",
   "metadata": {},
   "source": [
    "<p id=\"2\"></p>\n",
    "\n",
    "## **2. Data Importing and Exporting** \n",
    "Pandas supports various data formats for importing and exporting, such as CSV, Excel, and SQL databases.\n",
    "\n",
    "**Reading from CSV**"
   ]
  },
  {
   "cell_type": "code",
   "execution_count": null,
   "id": "9a8c7930-afaa-4392-9b9d-5ba7e9c381f1",
   "metadata": {},
   "outputs": [],
   "source": [
    "df = pd.read_csv('path/to/your/file.csv')\n",
    "print(df.head())"
   ]
  },
  {
   "cell_type": "markdown",
   "id": "1d3ace4a-3e80-4f9b-bba0-9889d44fba61",
   "metadata": {},
   "source": [
    "**Writing data to CSV**"
   ]
  },
  {
   "cell_type": "markdown",
   "id": "61455d12-088b-48f6-906a-9f7f56410ad3",
   "metadata": {},
   "source": [
    "`df.to_csv('path/to/save/file.csv', index=False)`"
   ]
  },
  {
   "cell_type": "markdown",
   "id": "d8e015e3-6166-4cef-b15f-a0aef3c2f134",
   "metadata": {},
   "source": [
    "<hr>"
   ]
  },
  {
   "cell_type": "markdown",
   "id": "345ec58c-701f-4ad7-97ec-fac9aa783114",
   "metadata": {},
   "source": [
    "<p id=\"3\"></p>\n",
    "\n",
    "## **3. Basic Data Operations** \n",
    "These operations involve viewing, selecting, indexing, and slicing data.\n",
    "\n",
    "**Viewing Data**"
   ]
  },
  {
   "cell_type": "code",
   "execution_count": null,
   "id": "bc3472e6-01af-4164-a669-4e1c8b2b22b3",
   "metadata": {},
   "outputs": [],
   "source": [
    "# To look at the first few rows of a DataFrame.\n",
    "print(df.head())  # First five rows"
   ]
  },
  {
   "cell_type": "markdown",
   "id": "d6edcc4d-2600-428e-b42a-2f856659be80",
   "metadata": {},
   "source": [
    "**Selecting a Column**"
   ]
  },
  {
   "cell_type": "code",
   "execution_count": null,
   "id": "7c329a6b-6b27-44b0-b548-a64dff53e632",
   "metadata": {},
   "outputs": [],
   "source": [
    "# To access a column in the DataFrame.\n",
    "ages = df['Age']\n",
    "print(ages)\n",
    "print(df['Name'])  # Displays the 'Name' column"
   ]
  },
  {
   "cell_type": "markdown",
   "id": "dac5e1b6-f99d-4bd5-b7a7-11e06b352de7",
   "metadata": {},
   "source": [
    "**Slicing Rows**"
   ]
  },
  {
   "cell_type": "code",
   "execution_count": null,
   "id": "79b5e02d-371f-46a6-9ab9-2c343661b331",
   "metadata": {},
   "outputs": [],
   "source": [
    "subset = df[0:2]  # First two rows\n",
    "print(subset)"
   ]
  },
  {
   "cell_type": "markdown",
   "id": "3d6f3dd3-926b-4236-bc41-3fa2ae3050b4",
   "metadata": {},
   "source": [
    "**Filtering Data:** Selecting rows based on a condition."
   ]
  },
  {
   "cell_type": "code",
   "execution_count": null,
   "id": "054ff31c-f7c3-4e32-8c68-ef0940ea6f31",
   "metadata": {},
   "outputs": [],
   "source": [
    "filtered_df = df[df['Age'] > 30]  # Rows where age is greater than 30\n",
    "print(filtered_df)"
   ]
  },
  {
   "cell_type": "markdown",
   "id": "2d1d8034-a2e0-4462-b83e-5f105f2427f0",
   "metadata": {},
   "source": [
    "**Adding Columns:** You can add new columns to a DataFrame."
   ]
  },
  {
   "cell_type": "code",
   "execution_count": null,
   "id": "db20a4b9-d3cf-4efb-9e15-718c94176c36",
   "metadata": {},
   "outputs": [],
   "source": [
    "df['AgeInTenYears'] = df['Age'] + 10\n",
    "print(df)"
   ]
  },
  {
   "cell_type": "markdown",
   "id": "8bb20199-5426-4607-bd1b-1ed4880b2238",
   "metadata": {},
   "source": [
    "<hr>"
   ]
  },
  {
   "cell_type": "markdown",
   "id": "edcef1f8-f676-4b95-bfb8-9b29d3c27095",
   "metadata": {},
   "source": [
    "<p id='4'></p>\n",
    "\n",
    "## **4. Data Cleaning** \n",
    "Data cleaning involves handling missing data, data type conversion, and renaming/replacing values.\n",
    "\n",
    "**Handling Missing Data**"
   ]
  },
  {
   "cell_type": "code",
   "execution_count": null,
   "id": "8b72bf0e-3c7c-48cd-8a35-a961fbe4c6b6",
   "metadata": {},
   "outputs": [],
   "source": [
    "df.fillna(0, inplace=True)  # Replace missing values with 0"
   ]
  },
  {
   "cell_type": "markdown",
   "id": "b0543aa5-c398-4c66-9a73-ecf9c4d95f59",
   "metadata": {},
   "source": [
    "**Data Type Conversion**"
   ]
  },
  {
   "cell_type": "code",
   "execution_count": null,
   "id": "58c8b765-efbb-48e1-bedc-570ad169853e",
   "metadata": {},
   "outputs": [],
   "source": [
    "df['Age'] = df['Age'].astype(float)"
   ]
  },
  {
   "cell_type": "markdown",
   "id": "052db186-fffd-4584-9f50-3a4710e8fa66",
   "metadata": {},
   "source": [
    "**Renaming Columns**"
   ]
  },
  {
   "cell_type": "code",
   "execution_count": null,
   "id": "91181bdb-e245-45d6-b5c3-6477fa3bbf12",
   "metadata": {},
   "outputs": [],
   "source": [
    "df.rename(columns={'Age': 'AgeYears'}, inplace=True)"
   ]
  },
  {
   "cell_type": "markdown",
   "id": "a667bd00-ea83-48e6-b5d5-ee499269f894",
   "metadata": {},
   "source": [
    "<hr>"
   ]
  },
  {
   "cell_type": "markdown",
   "id": "14a4a13f-63a9-40d1-b223-88b301e1c155",
   "metadata": {},
   "source": [
    "<p id='5'></p>\n",
    "\n",
    "## 5. Basic Data Analysis\n",
    "Pandas provides functions to perform basic descriptive statistics and aggregations. \n",
    "\n",
    "**Descriptive Statistics**"
   ]
  },
  {
   "cell_type": "code",
   "execution_count": null,
   "id": "0e3d261a-8e8f-459b-b9ce-31594e1cc947",
   "metadata": {},
   "outputs": [],
   "source": [
    "# Quickly get a statistical summary of the data.\n",
    "print(df.describe())"
   ]
  },
  {
   "cell_type": "markdown",
   "id": "0c554f68-784f-4377-bb43-3e9daa433eae",
   "metadata": {},
   "source": [
    "**Aggregation**"
   ]
  },
  {
   "cell_type": "code",
   "execution_count": null,
   "id": "da7c43e4-7dfa-4fcd-86c1-c54762d406e8",
   "metadata": {},
   "outputs": [],
   "source": [
    "print(df['Age'].mean())  # Average age"
   ]
  },
  {
   "cell_type": "markdown",
   "id": "ccf1d9d3-9e1b-4854-a8b1-6c75fab90119",
   "metadata": {},
   "source": [
    "<hr>"
   ]
  },
  {
   "cell_type": "markdown",
   "id": "b0b35fed-e628-4558-8b2f-b6f542a896f5",
   "metadata": {},
   "source": [
    "<p id='6'></p>\n",
    "\n",
    "## 6. Conditional Selections\n",
    "This involves selections and filtering techniques.\n",
    "\n",
    "**Conditional Selections**"
   ]
  },
  {
   "cell_type": "code",
   "execution_count": null,
   "id": "7526f863-3235-48bd-b3ef-518edb3ad96c",
   "metadata": {},
   "outputs": [],
   "source": [
    "# Select rows where 'Age' is greater than 30\n",
    "print(df[df['Age'] > 30])\n",
    "\n",
    "filtered_df = df[df['Age'] > 30]  # Rows where age is greater than 30\n",
    "print(filtered_df)"
   ]
  },
  {
   "cell_type": "markdown",
   "id": "0bdcee5e-1569-407b-8797-828f73500ef7",
   "metadata": {},
   "source": [
    "<hr>"
   ]
  },
  {
   "cell_type": "markdown",
   "id": "8e628b1a-f90c-40d1-ae6c-93c25cc32289",
   "metadata": {},
   "source": [
    "<p id='7'></p>\n",
    "\n",
    "## 7. Data Transformation\n",
    "Transforming data using functions like `apply`, and performing group operations.\n",
    "\n",
    "**Using Apply**"
   ]
  },
  {
   "cell_type": "code",
   "execution_count": null,
   "id": "2f3a6f7e-d5fd-49dd-ad46-4a4110a2ebdc",
   "metadata": {},
   "outputs": [],
   "source": [
    "# Define a function\n",
    "def to_uppercase(name):\n",
    "    return name.upper()\n",
    "\n",
    "# Apply function to column\n",
    "df['Name'] = df['Name'].apply(to_uppercase)"
   ]
  },
  {
   "cell_type": "markdown",
   "id": "4a96876e-97ed-42ad-9146-a3bfe28fd6dc",
   "metadata": {},
   "source": [
    "*Another Example*"
   ]
  },
  {
   "cell_type": "code",
   "execution_count": null,
   "id": "3f40b044-0f62-4624-b10a-92af94c93caf",
   "metadata": {},
   "outputs": [],
   "source": [
    "# Sample DataFrame\n",
    "df = pd.DataFrame({'Period': [201701, 202012, 202305]})\n",
    "\n",
    "# Define function\n",
    "def format_period(period):\n",
    "    period = str(period)  # Convert to string\n",
    "    return f\"{period[:4]}-{period[4:]}\"  # Insert hyphen\n",
    "\n",
    "# Apply function\n",
    "df['Formatted_Period'] = df['Period'].apply(format_period)\n",
    "\n",
    "print(df)"
   ]
  },
  {
   "cell_type": "markdown",
   "id": "e042f9a3-40a8-48a6-92cd-634ae38815ed",
   "metadata": {},
   "source": [
    "**GroupBy Operations**"
   ]
  },
  {
   "cell_type": "code",
   "execution_count": null,
   "id": "b31c5155-34c2-430c-bf47-c013d3683f17",
   "metadata": {},
   "outputs": [],
   "source": [
    "# Grouping data and calculating mean for each group\n",
    "grouped = df.groupby('Department')\n",
    "print(grouped['Salary'].mean())"
   ]
  },
  {
   "cell_type": "markdown",
   "id": "b3a8fbfe-85a6-4f86-9aad-1ffe1fe1c1cb",
   "metadata": {},
   "source": [
    "**Pivot Tables**"
   ]
  },
  {
   "cell_type": "markdown",
   "id": "7b4fad15-5c3f-4ce7-9806-b818543a3233",
   "metadata": {},
   "source": [
    "**Explanation of the Pivot Table Below:** \\\n",
    "\t`1. index='Date' → Rows are based on the Date column.` \\\n",
    "\t`2. columns='Store' → Columns are based on the Store (A & B).` \\\n",
    "\t`3. values='Sales' → Values inside the table are from the Sales column.` \\\n",
    "\t`4. aggfunc='sum' → Aggregates sales using the sum function.` "
   ]
  },
  {
   "cell_type": "code",
   "execution_count": null,
   "id": "264a6ec3-fb62-4ab5-9280-e340c3263518",
   "metadata": {},
   "outputs": [],
   "source": [
    "# Sample sales data\n",
    "data = {\n",
    "    'Date': ['2024-01-01', '2024-01-01', '2024-01-02', '2024-01-02', '2024-01-03'],\n",
    "    'Store': ['A', 'B', 'A', 'B', 'A'],\n",
    "    'Product': ['Apple', 'Apple', 'Banana', 'Banana', 'Apple'],\n",
    "    'Sales': [100, 150, 200, 180, 120]\n",
    "}\n",
    "\n",
    "df = pd.DataFrame(data)\n",
    "\n",
    "# Convert Date column to datetime\n",
    "df['Date'] = pd.to_datetime(df['Date'])\n",
    "\n",
    "# Creating a pivot table\n",
    "pivot = df.pivot_table(index='Date', columns='Store', values='Sales', aggfunc='sum')\n",
    "\n",
    "print(pivot)"
   ]
  }
 ],
 "metadata": {
  "kernelspec": {
   "display_name": "Python 3 (ipykernel)",
   "language": "python",
   "name": "python3"
  },
  "language_info": {
   "codemirror_mode": {
    "name": "ipython",
    "version": 3
   },
   "file_extension": ".py",
   "mimetype": "text/x-python",
   "name": "python",
   "nbconvert_exporter": "python",
   "pygments_lexer": "ipython3",
   "version": "3.12.7"
  }
 },
 "nbformat": 4,
 "nbformat_minor": 5
}

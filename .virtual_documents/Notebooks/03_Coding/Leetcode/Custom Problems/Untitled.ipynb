


class Solution:
    def containsAnagram(self, sentence: str) -> bool:
        seen = []
    
        for word in sentence.split(" "):
            if sorted(word.strip().lower()) in seen:
                return True
            else:
                seen.append(sorted(word.strip().lower()))

        return False

s = Solution()
s.containsAnagram("Don't ignore that hat or that region")
             

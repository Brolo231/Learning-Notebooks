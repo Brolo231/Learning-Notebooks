{
 "cells": [
  {
   "cell_type": "markdown",
   "id": "4b14d584",
   "metadata": {
    "hideCode": false,
    "hidePrompt": false
   },
   "source": [
    "# Learn NumPy : NumPy 50 exercises and solution"
   ]
  },
  {
   "cell_type": "code",
   "execution_count": 6,
   "id": "7ef96885",
   "metadata": {},
   "outputs": [],
   "source": [
    "import numpy as np"
   ]
  },
  {
   "cell_type": "code",
   "execution_count": 23,
   "id": "d6ea1c99",
   "metadata": {
    "hideCode": false,
    "hidePrompt": false
   },
   "outputs": [],
   "source": [
    "# Question 1 : Create a 1D array of numbers from 0 to 9\n",
    "# Output : #> array([0, 1, 2, 3, 4, 5, 6, 7, 8, 9])\n",
    "\n",
    "Q1 = np.arange(9)"
   ]
  },
  {
   "cell_type": "code",
   "execution_count": 24,
   "id": "c231d884",
   "metadata": {},
   "outputs": [
    {
     "ename": "AssertionError",
     "evalue": "Q1 must contain numbers 0-9",
     "output_type": "error",
     "traceback": [
      "\u001b[0;31m---------------------------------------------------------------------------\u001b[0m",
      "\u001b[0;31mAssertionError\u001b[0m                            Traceback (most recent call last)",
      "Cell \u001b[0;32mIn[24], line 2\u001b[0m\n\u001b[1;32m      1\u001b[0m \u001b[38;5;28;01massert\u001b[39;00m \u001b[38;5;28misinstance\u001b[39m(Q1, np\u001b[38;5;241m.\u001b[39mndarray), \u001b[38;5;124m\"\u001b[39m\u001b[38;5;124mQ1 must be a NumPy array\u001b[39m\u001b[38;5;124m\"\u001b[39m\n\u001b[0;32m----> 2\u001b[0m \u001b[38;5;28;01massert\u001b[39;00m np\u001b[38;5;241m.\u001b[39marray_equal(Q1, np\u001b[38;5;241m.\u001b[39marange(\u001b[38;5;241m10\u001b[39m)), \u001b[38;5;124m\"\u001b[39m\u001b[38;5;124mQ1 must contain numbers 0-9\u001b[39m\u001b[38;5;124m\"\u001b[39m\n",
      "\u001b[0;31mAssertionError\u001b[0m: Q1 must contain numbers 0-9"
     ]
    }
   ],
   "source": [
    "assert isinstance(Q1, np.ndarray), \"Q1 must be a NumPy array\"\n",
    "assert np.array_equal(Q1, np.arange(10)), \"Q1 must contain numbers 0-9\""
   ]
  },
  {
   "cell_type": "code",
   "execution_count": null,
   "id": "69077d71",
   "metadata": {},
   "outputs": [],
   "source": []
  }
 ],
 "metadata": {
  "hide_code_all_hidden": false,
  "kernelspec": {
   "display_name": "Python 3 (ipykernel)",
   "language": "python",
   "name": "python3"
  },
  "language_info": {
   "codemirror_mode": {
    "name": "ipython",
    "version": 3
   },
   "file_extension": ".py",
   "mimetype": "text/x-python",
   "name": "python",
   "nbconvert_exporter": "python",
   "pygments_lexer": "ipython3",
   "version": "3.12.7"
  }
 },
 "nbformat": 4,
 "nbformat_minor": 5
}

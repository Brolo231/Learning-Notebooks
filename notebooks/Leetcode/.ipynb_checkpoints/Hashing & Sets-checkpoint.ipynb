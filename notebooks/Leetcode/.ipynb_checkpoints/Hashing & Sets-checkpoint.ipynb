{
 "cells": [
  {
   "cell_type": "markdown",
   "id": "db398f77-2a23-4277-8c7a-4d4604bc6382",
   "metadata": {},
   "source": [
    "# Hashing and Sets\n",
    "\n",
    "<hr>\n",
    "\n",
    "## <a href=\"https://leetcode.com/problems/contains-duplicate/description/\">217. Contains duplicate</a>\n",
    "<span style=\"background-color: lightgreen; color: black;\">easy<span>\n",
    "\n",
    "\n",
    "\n",
    "Given an integer array nums, return true if any value appears at least twice in the array, and return false if every element is distinct.\n",
    "\n",
    " \n",
    "\n",
    "Example 1:\n",
    "\n",
    "```Input: nums = [1,2,3,1]```\\\n",
    "```Output: true```\n",
    "\n",
    "Explanation:\n",
    "The element 1 occurs at the indices 0 and 3.\n",
    "\n",
    "Example 2:\n",
    "\n",
    "```Input: nums = [1,2,3,4]```\\\n",
    "```Output: false```\n",
    "\n",
    "Explanation:\n",
    "All elements are distinct.\n",
    "\n",
    "Example 3:\n",
    "\n",
    "```Input: nums = [1,1,1,3,3,4,3,2,4,2]```\\\n",
    "```Output: true```\n",
    "\n",
    "\n",
    "Constraints:\n",
    "\n",
    "1 <= nums.length <= 105\n",
    "-109 <= nums[i] <= 109\n",
    "\n",
    "```class Solution:```\\\n",
    "```    def containsDuplicate(self, nums: List[int]) -> bool:```\n"
   ]
  },
  {
   "cell_type": "code",
   "execution_count": 17,
   "id": "268cf06c-28ef-4f75-ad27-e24e82aee914",
   "metadata": {},
   "outputs": [
    {
     "name": "stdout",
     "output_type": "stream",
     "text": [
      "{1: 0, 2: 1, 3: 2}\n"
     ]
    },
    {
     "data": {
      "text/plain": [
       "False"
      ]
     },
     "execution_count": 17,
     "metadata": {},
     "output_type": "execute_result"
    }
   ],
   "source": [
    "class Solution:\n",
    "    def containsDuplicate(self, nums: list[int]) -> bool:\n",
    "\n",
    "        seen = {}\n",
    "        for idx, value in enumerate(nums):\n",
    "            if value in seen:\n",
    "                return True\n",
    "            seen[value] = idx\n",
    "        return False\n",
    "\n",
    "s = Solution()\n",
    "s.containsDuplicate([1,2,3])"
   ]
  },
  {
   "cell_type": "markdown",
   "id": "137e98da-2b67-44e2-82a7-43db7e9bce8d",
   "metadata": {},
   "source": [
    "***Notes:***\n",
    "- After running the above in leetcode, I noticed that it was slower and less memory efficient than other submissions. After reviewing solutions I gathered that using a set increases efficiency as well as dramatically improves memory. \n",
    "- This makes sense becasue a dictionary is storing key-value pairs whereas a set is only storing keys and since the above solution only makes use of the value we can replace value with the \"key\"\n",
    "- In terms of efficiency I will refer to chatGPT for why the set is faster than the dict.\n",
    "\n",
    "**chatGPT:** \\\n",
    "\"A set is more appropriate because it’s designed to store unique items and perform fast membership checks (in)\" \\\n",
    "\"Python’s set implementation is optimized for uniqueness and fast lookup.\" \\\n",
    "\"Since set.add() only adds keys and doesn’t check or store a corresponding value, it avoids the value handling steps required in a dict.\""
   ]
  },
  {
   "cell_type": "markdown",
   "id": "c87f7964-af6e-46f1-99d8-ddf0ad26f79b",
   "metadata": {},
   "source": [
    "<hr>\n",
    "\n",
    "## <a href=\"https://leetcode.com/problems/valid-anagram/description/\">242. Valid Anagram</a>\n",
    "<span style=\"background-color: lightgreen; color: black;\">easy<span>\n",
    "\n",
    "Given two strings s and t, return true if t is an anagram of s, and false otherwise.\n",
    "\n",
    " \n",
    "\n",
    "Example 1:\n",
    "\n",
    "```Input: s = \"anagram\", t = \"nagaram\"```\\\n",
    "```Output: true```\n",
    "\n",
    "Example 2:\n",
    "\n",
    "```Input: s = \"rat\", t = \"car\"```\\\n",
    "```Output: false```\n",
    "\n",
    " \n",
    "\n",
    "Constraints:\n",
    "\n",
    "1 <= s.length, t.length <= 5 * 104\n",
    "s and t consist of lowercase English letters.\n",
    " \n",
    "\n",
    "Follow up: What if the inputs contain Unicode characters? How would you adapt your solution to such a case?\n",
    "\n",
    "```class Solution:```\\\n",
    "```    def isAnagram(self, s: str, t: str) -> bool:```\n",
    "        "
   ]
  },
  {
   "cell_type": "code",
   "execution_count": 30,
   "id": "c85a842b-571d-499a-9e7b-a11aeceb879f",
   "metadata": {},
   "outputs": [
    {
     "data": {
      "text/plain": [
       "True"
      ]
     },
     "execution_count": 30,
     "metadata": {},
     "output_type": "execute_result"
    }
   ],
   "source": [
    "class Solution:\n",
    "    def isAnagram(self, s: str, t: str) -> bool:\n",
    "        if len(s) == len(t):\n",
    "            for i in s:\n",
    "                if i in t:\n",
    "                    continue\n",
    "                else:\n",
    "                    return False\n",
    "            return True\n",
    "        else:\n",
    "            return False\n",
    "\n",
    "s = Solution()\n",
    "s.isAnagram(\"aacc\", \"ccac\")"
   ]
  },
  {
   "cell_type": "markdown",
   "id": "3b7e42b2-bc58-4308-8cc2-cdd5d1071caf",
   "metadata": {},
   "source": [
    "^^ Incorrect\n",
    "\n",
    "**Second attempt:** "
   ]
  },
  {
   "cell_type": "code",
   "execution_count": null,
   "id": "f12a5db8-d49d-4d3d-b5ec-6d69a5658c82",
   "metadata": {},
   "outputs": [],
   "source": [
    "class Solution:\n",
    "    def isAnagram(self, s: str, t: str) -> bool:\n",
    "\n"
   ]
  }
 ],
 "metadata": {
  "kernelspec": {
   "display_name": "Python 3 (ipykernel)",
   "language": "python",
   "name": "python3"
  },
  "language_info": {
   "codemirror_mode": {
    "name": "ipython",
    "version": 3
   },
   "file_extension": ".py",
   "mimetype": "text/x-python",
   "name": "python",
   "nbconvert_exporter": "python",
   "pygments_lexer": "ipython3",
   "version": "3.12.7"
  }
 },
 "nbformat": 4,
 "nbformat_minor": 5
}

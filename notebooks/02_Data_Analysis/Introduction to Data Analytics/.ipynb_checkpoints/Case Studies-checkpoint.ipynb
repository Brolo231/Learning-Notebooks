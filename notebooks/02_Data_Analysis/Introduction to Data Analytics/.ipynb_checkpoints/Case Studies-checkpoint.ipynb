{
 "cells": [
  {
   "cell_type": "markdown",
   "id": "298c940a-81d4-41d8-ac2a-22ff210b9754",
   "metadata": {},
   "source": [
    "# Case Studies (AI generated)\n",
    "\n",
    "<hr>\n",
    "\n",
    "## Case Study 1: Retail Store Chain\n",
    "\n",
    "**Scenario:**\n",
    "You are working as a junior data analyst for FreshMart, a regional grocery store chain with 15 branches across the country. Recently, management has noticed that profits are flat despite an increase in overall sales. They suspect issues like inventory management, seasonal promotions, or regional performance differences. FreshMart collects data on sales, customer loyalty cards, supplier deliveries, and promotions.\n",
    "\n",
    "#### Tasks / Exercises:\n",
    "1. Generate 5 business questions related to competitor performance in the region (e.g., pricing, promotions, market share).\n",
    "<textarea style=\"color: green; min-width: 60%; max-width: 60%;  min-height: 10rem; margin: auto; display: block;\">\n",
    "</textarea>\n",
    "\n",
    "1. Create 3 possible data sources that could help investigate why sales are not translating into higher profits.\n",
    "<textarea style=\"color: green; min-width: 60%; max-width: 60%;  min-height: 10rem; margin: auto; display: block;\"></textarea>\n",
    "\n",
    "2. Write 2 hypotheses explaining the gap between sales growth and stagnant profits.\n",
    "<textarea style=\"color: green; min-width: 60%; max-width: 60%;  min-height: 10rem; margin: auto; display: block;\"></textarea>\n",
    "\n",
    "3. Identify at least 3 key metrics that would help FreshMart monitor store performance.\n",
    "<textarea style=\"color: green; min-width: 60%; max-width: 60%;  min-height: 10rem; margin: auto; display: block;\"></textarea>\n",
    "\n",
    "4. Suggest 1 short-term and 1 long-term analysis project that could address profitability concerns.\n",
    "<textarea style=\"color: green; min-width: 60%; max-width: 60%;  min-height: 10rem; margin: auto; display: block;\"></textarea>\n",
    "\n",
    "\n",
    "<br><hr><br>\n",
    "\n",
    "## Case Study 2: E-commerce Website\n",
    "\n",
    "**Scenario:**\n",
    "You join the analytics team at ShopEase, an e-commerce company specializing in electronics and fashion. The company tracks user behavior (clicks, search queries, cart activity), but cart abandonment rates are high. Marketing believes it’s due to shipping costs, while the product team thinks the website design is confusing. Customers have also complained about late deliveries.\n",
    "\n",
    "#### Tasks / Exercises:\n",
    "1. Generate 5 analytical questions related to cart abandonment (factors, trends, customer segments).\n",
    "<textarea style=\"color: green; min-width: 60%; max-width: 60%;  min-height: 10rem; margin: auto; display: block;\"></textarea>\n",
    "\n",
    "2.\tList 3 potential KPIs to measure checkout success and conversion.\n",
    "<textarea style=\"color: green; min-width: 60%; max-width: 60%;  min-height: 10rem; margin: auto; display: block;\"></textarea>\n",
    "   \n",
    "3.\tDraft 2 survey or feedback questions you would recommend sending to customers to gather qualitative data.\n",
    "<textarea style=\"color: green; min-width: 60%; max-width: 60%;  min-height: 10rem; margin: auto; display: block;\"></textarea>\n",
    "   \n",
    "4.\tIdentify 3 possible root causes of cart abandonment that could be tested with data.\n",
    "<textarea style=\"color: green; min-width: 60%; max-width: 60%;  min-height: 10rem; margin: auto; display: block;\"></textarea>\n",
    "   \n",
    "5.\tPropose a basic A/B test design the company could run to validate if shipping costs affect abandonment.\n",
    "<textarea style=\"color: green; min-width: 60%; max-width: 60%;  min-height: 10rem; margin: auto; display: block;\"></textarea>"
   ]
  }
 ],
 "metadata": {
  "kernelspec": {
   "display_name": "Python 3 (ipykernel)",
   "language": "python",
   "name": "python3"
  },
  "language_info": {
   "codemirror_mode": {
    "name": "ipython",
    "version": 3
   },
   "file_extension": ".py",
   "mimetype": "text/x-python",
   "name": "python",
   "nbconvert_exporter": "python",
   "pygments_lexer": "ipython3",
   "version": "3.12.7"
  }
 },
 "nbformat": 4,
 "nbformat_minor": 5
}

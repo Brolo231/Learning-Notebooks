{
 "cells": [
  {
   "cell_type": "markdown",
   "id": "0d4d8635-fd30-4ecf-bd68-540dae77bdbd",
   "metadata": {},
   "source": [
    "# Intermediate C++\n",
    "\n",
    "<hr>\n",
    "\n",
    "### 📌 Table of Contents\n",
    "- <a href=\"IO\">File Input & Output</a>\n",
    "- <a href=\"SQ\">Stacks & Queues</a>\n",
    "\n",
    "<hr>"
   ]
  },
  {
   "cell_type": "markdown",
   "id": "5674d886-23b7-4af6-bc47-a4fcec29eaae",
   "metadata": {},
   "source": [
    "<p id=\"IO\"></p>\n",
    "\n",
    "## 1. File Input and Output (I/O)\n",
    "\n",
    "File handling is **essential** for reading and writing data persistently. C++ provides the `<fstream>` library for this.\n",
    "\n",
    "**Opening and Writing to a File**\n",
    "\n",
    "`#include <iostream>` \\\n",
    "`#include <fstream>  // File handling library` \\\n",
    "`using namespace std;` \n",
    "\n",
    "`int main() {` \\\n",
    "`    ofstream outFile(\"example.txt\"); // Open file for writing` \\\n",
    "`    if (outFile.is_open()) {` \\\n",
    "`        outFile << \"Hello! This is a test file.\\n\";` \\\n",
    "`        outFile << \"C++ File I/O is useful.\\n\";` \\\n",
    "`        outFile.close(); // Always close the file` \\\n",
    "`    } else {` \\\n",
    "`        cout << \"Error opening file!\" << endl;` \\\n",
    "`    }` \\\n",
    "`    return 0;` \\\n",
    "`}`"
   ]
  },
  {
   "cell_type": "markdown",
   "id": "bed9f847-d93f-42b9-996c-e2e3f782a37f",
   "metadata": {},
   "source": [
    "<hr style=\"width: 30%;\">"
   ]
  },
  {
   "cell_type": "markdown",
   "id": "b988fa8d-b6e0-4e13-975a-e922f96c0554",
   "metadata": {},
   "source": [
    "**Reading from a File**\n",
    "\n",
    "`#include <iostream>` \\\n",
    "`#include <fstream>` \\\n",
    "`using namespace std;` \n",
    "\n",
    "`int main() {` \\\n",
    "`    ifstream inFile(\"example.txt\"); // Open file for reading` \\\n",
    "`    string line;` \n",
    "    \n",
    "`    if (inFile.is_open()) {` \\\n",
    "`        while (getline(inFile, line)) { // Read file line by line` \\\n",
    "`           cout << line << endl;` \\\n",
    "`        }` \\\n",
    "`        inFile.close();` \\\n",
    "`    } else {` \\\n",
    "`       cout << \"Error opening file!\" << endl;` \\\n",
    "`    }` \\\n",
    "`    return 0;` \\\n",
    "`}`"
   ]
  },
  {
   "cell_type": "markdown",
   "id": "3b3bcf9d-b546-4c3c-90d4-083c2a995b43",
   "metadata": {},
   "source": [
    "<hr style=\"width: 30%;\">"
   ]
  },
  {
   "cell_type": "markdown",
   "id": "d344eaf9-2d3b-46c5-a48a-ee9fc06ec00b",
   "metadata": {},
   "source": [
    "**Appending to a File**\n",
    "\n",
    "`ofstream outFile(\"example.txt\", ios::app); // Open in append mode` \\\n",
    "`outFile << \"Adding another line.\\n\";` \\\n",
    "`outFile.close();`"
   ]
  },
  {
   "cell_type": "markdown",
   "id": "4966bb60-488f-403d-a503-96ebb1ecb434",
   "metadata": {},
   "source": [
    "<hr>"
   ]
  },
  {
   "cell_type": "markdown",
   "id": "ea7c3995-2360-4569-b415-53c5c0f9490d",
   "metadata": {},
   "source": [
    "<p id=\"SQ\"></p>\n",
    "\n",
    "## 2. Stacks and Queues\n",
    "\n",
    "These are linear data structures that follow specific order rules.\n",
    "\n",
    "**(LIFO - Last In, First Out)**\n",
    "\n",
    "Stacks allow operations from one end only (top). You can use either an array or stack from `<stack>`.\n",
    "\n",
    "**Using Stack**\n",
    "\n",
    "`#include <iostream>` \\\n",
    "`#include <stack>  // Stack library` \\\n",
    "`using namespace std;`\n",
    "\n",
    "`int main() {` \\\n",
    "`    stack<int> s;` \\\n",
    "`    s.push(10);`\\\n",
    "`    s.push(20);`\\\n",
    "`    s.push(30);`\n",
    "\n",
    "`    cout << \"Top element: \" << s.top() << endl;`\\\n",
    "`    s.pop();`\\\n",
    "`    cout << \"After pop, top element: \" << s.top() << endl;`\\\n",
    "\n",
    "`    return 0;`\\\n",
    "`}`\n",
    "\n",
    "**OUTPUT:**\n",
    "\n",
    "`Top element: 30` \\\n",
    "`After pop, top element: 20`"
   ]
  },
  {
   "cell_type": "markdown",
   "id": "52aadc1b-9037-4307-899e-61081a13bac5",
   "metadata": {},
   "source": [
    "<hr style=\"width: 30%;\">"
   ]
  },
  {
   "cell_type": "markdown",
   "id": "d2afb6e2-9875-4368-b0a7-461a76f6a269",
   "metadata": {},
   "source": [
    "**Queue (FIFO - First In, First Out)**\n",
    "\n",
    "Queues allow operations from both ends.\n",
    "\n",
    "*Using queue:*\n",
    "\n",
    "`#include <iostream>\n",
    "`#include <queue>  // Queue library\n",
    "`using namespace std;\n",
    "\n",
    "`int main() {`\\\n",
    "`    queue<int> q;`\\\n",
    "`    q.push(1);`\\\n",
    "`    q.push(2);`\\\n",
    "`    q.push(3);`\n",
    "\n",
    "`    cout << \"Front element: \" << q.front() << endl;`\\\n",
    "`    q.pop();`\\\n",
    "`    cout << \"After pop, front element: \" << q.front() << endl;`\\\n",
    "\n",
    "`    return 0;`\\\n",
    "`}`\n",
    "\n",
    "**Output:**\n",
    "\n",
    "`Front element: 1` \\\n",
    "`After pop, front element: 2`"
   ]
  }
 ],
 "metadata": {
  "kernelspec": {
   "display_name": "Python 3 (ipykernel)",
   "language": "python",
   "name": "python3"
  },
  "language_info": {
   "codemirror_mode": {
    "name": "ipython",
    "version": 3
   },
   "file_extension": ".py",
   "mimetype": "text/x-python",
   "name": "python",
   "nbconvert_exporter": "python",
   "pygments_lexer": "ipython3",
   "version": "3.12.7"
  }
 },
 "nbformat": 4,
 "nbformat_minor": 5
}

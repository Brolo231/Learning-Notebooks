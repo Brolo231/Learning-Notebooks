





# Visualizing 2D vectors
import matplotlib.pyplot as plt
import numpy as np

v1 = [2, 3]
v2 = [1, -2]

plt.quiver(0, 0, v1[0], v1[1], angles='xy', scale_units='xy', scale=1, color='r', label='v1')
plt.quiver(0, 0, v2[0], v2[1], angles='xy', scale_units='xy', scale=1, color='b', label='v2')
plt.xlim(-3, 5)
plt.ylim(-3, 5)
plt.grid()
plt.axhline(0, color='black')
plt.axvline(0, color='black')
plt.gca().set_aspect('equal', adjustable='box')
plt.legend()
plt.title('2D Vectors')
plt.show()














# Dot product visual example
a = [1, 2]
b = [3, 1]
dot_product = a[0]*b[0] + a[1]*b[1]
print(f"Dot product of a and b: {dot_product}")







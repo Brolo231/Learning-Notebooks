{
 "cells": [
  {
   "cell_type": "markdown",
   "id": "42d99282-94f5-4c0b-a0e9-de4f23947887",
   "metadata": {},
   "source": [
    "## <a href=\"https://leetcode.com/problems/product-of-array-except-self/description/\">238. Product of Array Except Self</a>\n",
    "\n",
    "\n",
    "<span style=\"background-color: yellow; color: black;\">medium<span>\n",
    "\n",
    "Given an integer array nums, return an array answer such that answer[i] is equal to the product of all the elements of nums except nums[i].\n",
    "\n",
    "The product of any prefix or suffix of nums is guaranteed to fit in a 32-bit integer.\n",
    "\n",
    "You must write an algorithm that runs in O(n) time and without using the division operation.\n",
    "\n",
    " \n",
    "\n",
    "Example 1:\n",
    "\n",
    "```Input: nums = [1,2,3,4]```\n",
    "```Output: [24,12,8,6]```\n",
    "\n",
    "Example 2:\n",
    "\n",
    "```Input: nums = [-1,1,0,-3,3]```\n",
    "```Output: [0,0,9,0,0]```\n",
    " \n",
    "\n",
    "Constraints:\n",
    "\n",
    "2 <= nums.length <= 105\n",
    "-30 <= nums[i] <= 30\n",
    "\n",
    "The input is generated such that answer[i] is guaranteed to fit in a 32-bit integer.\n",
    "\n",
    "```class Solution:```\\\n",
    "```    def productExceptSelf(self, nums: List[int]) -> List[int]:```"
   ]
  },
  {
   "cell_type": "code",
   "execution_count": 1,
   "id": "2befe653-eec7-4771-a673-5713816620d1",
   "metadata": {},
   "outputs": [
    {
     "data": {
      "text/plain": [
       "[24, 12, 8, 6]"
      ]
     },
     "execution_count": 1,
     "metadata": {},
     "output_type": "execute_result"
    }
   ],
   "source": [
    "class Solution:\n",
    "    def productExceptSelf(self, nums: list[int]) -> list[int]:\n",
    "        answer = [1] * len(nums)\n",
    "        for idx, value in enumerate(nums):\n",
    "            for idx_answer, idx_value in enumerate(answer):\n",
    "                if idx != idx_answer:\n",
    "                    answer[idx] *= nums[idx_answer]\n",
    "\n",
    "        return answer\n",
    "            \n",
    "        \n",
    "\n",
    "s = Solution()\n",
    "s.productExceptSelf([1,2,3,4])"
   ]
  },
  {
   "cell_type": "markdown",
   "id": "52343c11-e8fb-46b8-85eb-84818320137c",
   "metadata": {},
   "source": [
    "ChatGPT Answer: "
   ]
  },
  {
   "cell_type": "code",
   "execution_count": 2,
   "id": "778e48b1-8989-4311-8dda-c2d409c5b93f",
   "metadata": {},
   "outputs": [],
   "source": [
    "# O(n) Time, O(1) Extra Space (LeetCode Optimal)\n",
    "class Solution:\n",
    "    def productExceptSelf(self, nums: list[int]) -> list[int]:\n",
    "        n = len(nums)\n",
    "        answer = [1] * n\n",
    "\n",
    "        prefix = 1\n",
    "        for i in range(n):\n",
    "            answer[i] = prefix\n",
    "            prefix *= nums[i]\n",
    "\n",
    "        suffix = 1\n",
    "        for i in range(n - 1, -1, -1):\n",
    "            answer[i] *= suffix\n",
    "            suffix *= nums[i]\n",
    "\n",
    "        return answer"
   ]
  },
  {
   "cell_type": "markdown",
   "id": "a1f39cd3-b984-495b-b150-79ba33662ddb",
   "metadata": {},
   "source": [
    "### If we could use division it would look as follows\n",
    "**❗ What if there are zeros?**\n",
    "- If there’s 1 zero, all positions except the one with zero become 0. \n",
    "- If there are 2 or more zeros, every product is 0."
   ]
  },
  {
   "cell_type": "code",
   "execution_count": 3,
   "id": "2e8e6efa-66c5-4afa-8815-041162a6ba31",
   "metadata": {},
   "outputs": [
    {
     "name": "stdout",
     "output_type": "stream",
     "text": [
      "[24, 12, 8, 6]\n",
      "[0, 0, 9, 0, 0]\n"
     ]
    }
   ],
   "source": [
    "class Solution:\n",
    "    def productExceptSelf(self, nums: list[int]) -> list[int]:\n",
    "        total_product = 1\n",
    "        zero_count = nums.count(0)\n",
    "\n",
    "        # If more than one zero, result is all zeros\n",
    "        if zero_count > 1:\n",
    "            return [0] * len(nums)\n",
    "\n",
    "        # Calculate product of all non-zero numbers\n",
    "        for num in nums:\n",
    "            if num != 0:\n",
    "                total_product *= num\n",
    "\n",
    "        result = []\n",
    "        for num in nums:\n",
    "            if zero_count == 1:\n",
    "                if num == 0:\n",
    "                    result.append(total_product)\n",
    "                else:\n",
    "                    result.append(0)\n",
    "            else:\n",
    "                result.append(total_product // num)\n",
    "\n",
    "        return result\n",
    "\n",
    "print(Solution().productExceptSelf([1, 2, 3, 4]))        # ➜ [24, 12, 8, 6]\n",
    "print(Solution().productExceptSelf([-1, 1, 0, -3, 3]))   # ➜ [0, 0, 9, 0, 0]"
   ]
  },
  {
   "cell_type": "code",
   "execution_count": null,
   "id": "de50b2dd-7b2f-4e4f-9cec-bfbbaa35c3fa",
   "metadata": {},
   "outputs": [],
   "source": []
  }
 ],
 "metadata": {
  "kernelspec": {
   "display_name": "Python 3 (ipykernel)",
   "language": "python",
   "name": "python3"
  },
  "language_info": {
   "codemirror_mode": {
    "name": "ipython",
    "version": 3
   },
   "file_extension": ".py",
   "mimetype": "text/x-python",
   "name": "python",
   "nbconvert_exporter": "python",
   "pygments_lexer": "ipython3",
   "version": "3.12.7"
  }
 },
 "nbformat": 4,
 "nbformat_minor": 5
}

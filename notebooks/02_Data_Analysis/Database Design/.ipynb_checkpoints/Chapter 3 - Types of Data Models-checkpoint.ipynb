{
 "cells": [
  {
   "cell_type": "markdown",
   "id": "57da7175-4d1c-4633-8c28-622a7e67a5f7",
   "metadata": {},
   "source": [
    "# Types of data models \n",
    "\n",
    "#### Data models define how data is represented and organized in a database. There are two main categories:\n",
    "\n",
    "<hr>\n",
    "\n",
    "## 1. High-level Conceptual Data Models\n",
    "\n",
    "- Focus on how people perceive and understand data.\n",
    "- Example: Entity-Relationship (ER) Model\n",
    "    - The concept or theory that defines how data can be represented using entities, attributes, and relationships. \n",
    "- Entities represent real-world objects (e.g., Employee, Project).\n",
    "- Attributes describe properties of entities (e.g., name, address, birthdate).\n",
    "- Relationships show associations between entities (e.g., an employee works on many projects).\n",
    "\n",
    "\n",
    "## 2. Record-based Logical Data Models\n",
    "\n",
    "- Closer to how data is actually stored on a computer, but still understandable to users.\n",
    "- Includes three main types:\n",
    "- Relational Model:\n",
    "    - Represents data as tables (relations) with rows and columns. Each record (instance) is a row in the table.\n",
    "Example: A “Membership” table with fields like ID, expiry date, and address.\n",
    "- Network Model:\n",
    "    - Represents data as record types connected through set types, showing one-to-many relationships.\n",
    "- Hierarchical Model:\n",
    "    - Represents data as a tree structure, where each branch contains related records in a parent-child relationship.\n",
    " \n",
    "<hr>\n",
    " \n",
    "<div style=\"text-align: center; font-size: 2rem; color: rgb(255, 105, 97);\">EXERCISE 4 - Pg 22</div>\n",
    "\n",
    "1. What is a data model?\n",
    "\n",
    "<div style=\"color: lightgreen;\">\n",
    "A data model is a way to describe how data is structured, stored, and related within a database. It provides a framework for organizing data and defining relationships between data elements.\n",
    "</div>\n",
    "\n",
    "2. What is a high-level conceptual data model?\n",
    "\n",
    "<div style=\"color: lightgreen;\">\n",
    "A high-level conceptual data model represents data in a way that is easy for people to understand. It focuses on how users perceive data rather than how it is stored. An example is the Entity-Relationship Model (ERM), which uses entities, attributes, and relationships to describe data.  \n",
    "</div>\n",
    "\n",
    "3. What is an entity? An attribute? A relationship?\n",
    "\n",
    "<div style=\"color: lightgreen;\">\n",
    "- Entity: A real-world object or concept that can be identified and stored in a database (e.g., Employee, Project).<br>\n",
    "- Attribute: A property or characteristic of an entity (e.g., Employee Name, Address, Birthdate). <br> \n",
    "- Relationship: An association or link between two or more entities (e.g., an Employee works on a Project).  \n",
    "</div>\n",
    "\n",
    "4. List and briefly describe the common record-based logical data models.\n",
    "\n",
    "<div style=\"color: lightgreen;\">\n",
    "- Relational Model: Represents data as tables (relations) with rows and columns; each row is a record or instance. <br>\n",
    "- Network Model: Represents data as record types connected through set types that show one-to-many relationships. <br>  \n",
    "- Hierarchical Model: Organizes data in a tree-like structure where each parent record can have multiple child records.  \n",
    "</div>"
   ]
  },
  {
   "cell_type": "code",
   "execution_count": null,
   "id": "37a430df-8bbb-432f-89f7-8622e8309c95",
   "metadata": {},
   "outputs": [],
   "source": []
  }
 ],
 "metadata": {
  "kernelspec": {
   "display_name": "Python 3 (ipykernel)",
   "language": "python",
   "name": "python3"
  },
  "language_info": {
   "codemirror_mode": {
    "name": "ipython",
    "version": 3
   },
   "file_extension": ".py",
   "mimetype": "text/x-python",
   "name": "python",
   "nbconvert_exporter": "python",
   "pygments_lexer": "ipython3",
   "version": "3.12.7"
  }
 },
 "nbformat": 4,
 "nbformat_minor": 5
}

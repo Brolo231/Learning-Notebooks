


class Solution:
    # The following syntax tells us nums is expected to be a list containing integer values
    # target is expected to be an integer
    # output is expected to be a list of integers
    def twoSum(self, nums: list[int], target: [int]) -> list[int]:

        for i, value in enumerate(nums):
            for j in range(len(nums)):
                if value + nums[j] == target:
                    return i, j
                    break
        print("No matches")

s = Solution()
nums = [2,4,5,3]
s.twoSum(nums, 5)









class Solution:
    def maxProfit(self, prices: list[int]) -> int:
        current_highest_profit = 0
        for idx, value in enumerate(prices):
            for j in range(len(prices)):
                if prices[j] - value > current_highest_profit and idx < j:
                    current_highest_profit = prices[j] - value

        return current_highest_profit

s = Solution()
s.maxProfit([1,7,6,4,3,1,8])

        








class Solution:
    def productExceptSelf(self, nums: list[int]) -> list[int]:
        answer = [1] * len(nums)
        for idx, value in enumerate(nums):
            for idx_answer, idx_value in enumerate(answer):
                if idx != idx_answer:
                    answer[idx] *= nums[idx_answer]

        return answer
            
        

s = Solution()
s.productExceptSelf([1,2,3,4])





# O(n) Time, O(1) Extra Space (LeetCode Optimal)
class Solution:
    def productExceptSelf(self, nums: list[int]) -> list[int]:
        n = len(nums)
        answer = [1] * n

        prefix = 1
        for i in range(n):
            answer[i] = prefix
            prefix *= nums[i]

        suffix = 1
        for i in range(n - 1, -1, -1):
            answer[i] *= suffix
            suffix *= nums[i]

        return answer









class Solution:
    def productExceptSelf(self, nums: list[int]) -> list[int]:
        total_product = 1
        zero_count = nums.count(0)

        # If more than one zero, result is all zeros
        if zero_count > 1:
            return [0] * len(nums)

        # Calculate product of all non-zero numbers
        for num in nums:
            if num != 0:
                total_product *= num

        result = []
        for num in nums:
            if zero_count == 1:
                if num == 0:
                    result.append(total_product)
                else:
                    result.append(0)
            else:
                result.append(total_product // num)

        return result


print(Solution().productExceptSelf([1, 2, 3, 4]))        # ➜ [24, 12, 8, 6]
print(Solution().productExceptSelf([-1, 1, 0, -3, 3]))   # ➜ [0, 0, 9, 0, 0]








class Solution:
    def lengthOfLongestSubstring(self, s: str) -> int:
        longest = 0
        answer = []
        if len(s) <= 1:
            longest = len(s)
        else:
            for i in s:
                if i not in answer:
                    answer.append(i)
                    print(answer)
                else:
                    if len(answer) > longest:
                        longest = len(answer)
                    answer = answer[-1:]
                    if i not in answer:
                        answer.append(i)
                    print(answer)
            if len(answer) > longest:
                longest = len(answer)
        

        return longest


s = Solution()
s.lengthOfLongestSubstring("anviaj")











class Solution:
    def lengthOfLongestSubstring(self, s: str) -> int:
        longest = 0
        answer = []
        
        for i in s:
            if i in answer:
                # Remove characters from the start until the duplicate is gone
                duplicate_index = answer.index(i)
                answer = answer[duplicate_index + 1:]
            
            answer.append(i)
            longest = max(longest, len(answer))
        
        return longest



s = Solution()
s.lengthOfLongestSubstring("anviaj")





# ChatGPT optimal solution: 

class Solution:
    def lengthOfLongestSubstring(self, s: str) -> int:
        char_set = set()
        left = 0
        max_len = 0

        for right in range(len(s)):
            while s[right] in char_set:
                char_set.remove(s[left])
                left += 1
            char_set.add(s[right])
            max_len = max(max_len, right - left + 1)

        return max_len

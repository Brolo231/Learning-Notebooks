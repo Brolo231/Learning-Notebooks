{
 "cells": [
  {
   "cell_type": "markdown",
   "id": "7b279af9-a38e-45ea-94fb-49873d18eb85",
   "metadata": {},
   "source": [
    "You are given a sentence where the word order has been reversed, and punctuation marks are incorrectly attached to the beginning of words instead of their proper positions. Additionally, the first word is not capitalized, and the original punctuation marks (like ., !, ?) should be moved to the end of the sentence with correct formatting.\n",
    "\n",
    "Your task is to:\n",
    "1. Reverse the order of words.\n",
    "2. Move any leading punctuation (like ., !, ?, ,) to the end of the word it belongs to.\n",
    "3. Ensure the resulting sentence starts with a capital letter and ends with the correct punctuation mark (preserved from the original sentence).\n",
    "\n",
    "Assumptions:\n",
    "- The sentence is not empty and ends with valid punctuation at the beginning of the first word.\n",
    "- Words are separated by exactly one space.\n",
    "- Punctuation only appears as a leading character on a word (e.g., .Ben), not in the middle or end.\n",
    "\n",
    "Example 1: \\\n",
    "```Input:```\n",
    "```\".Ben I'm !Hi\"```\n",
    "Output: \\\n",
    "```\"Hi! I'm Ben.\"```\n",
    "\n",
    "Explanation: \n",
    "- Reversed input: .Ben I'm !Hi\n",
    "- Reversed back: Hi! I'm Ben.\n",
    "\n",
    "Example 3: \\\n",
    "```Input:```\n",
    "```\".you thank ,Hello\"```\n",
    "Output: \\\n",
    "```\"Hello, thank you.\"```\n",
    "\n",
    "```class Solution():``` \\\n",
    "```    def reverseSentence(sentence: str) -> str:```"
   ]
  },
  {
   "cell_type": "code",
   "execution_count": 42,
   "id": "fbecd4b1-30e7-4911-ad48-5c9d2f2508b7",
   "metadata": {},
   "outputs": [
    {
     "name": "stdout",
     "output_type": "stream",
     "text": [
      "?day good a such !What\n",
      ".Hello\n",
      ".end !start ,middle\n",
      ".1234 is number favorite My\n",
      "@email my is This\n"
     ]
    }
   ],
   "source": [
    "\n",
    "def reverseSentence(sentence: str) -> str:\n",
    "\n",
    "    reverse = \"\"\n",
    "    for x in sentence.split(\" \"):\n",
    "        if x[0].isalnum():\n",
    "            reverse = x + \" \" + reverse \n",
    "        else:\n",
    "            x = x[1:] + x[0]\n",
    "            reverse = x + \" \" + reverse\n",
    "\n",
    "    return reverse.strip()\n",
    "            \n",
    "\n",
    "s = Solution\n",
    "\n",
    "test_cases = [\n",
    "    \"?day good a such !What\",\n",
    "    \".Hello\",\n",
    "    \".end !start ,middle\",\n",
    "    \".1234 is number favorite My\",\n",
    "    \"@email my is This\"\n",
    "]\n",
    "\n",
    "for test in test_cases:\n",
    "    s"
   ]
  },
  {
   "cell_type": "code",
   "execution_count": null,
   "id": "c3bcbb27-5cf8-4246-a560-5c80c6b5c649",
   "metadata": {},
   "outputs": [],
   "source": []
  }
 ],
 "metadata": {
  "kernelspec": {
   "display_name": "Python 3 (ipykernel)",
   "language": "python",
   "name": "python3"
  },
  "language_info": {
   "codemirror_mode": {
    "name": "ipython",
    "version": 3
   },
   "file_extension": ".py",
   "mimetype": "text/x-python",
   "name": "python",
   "nbconvert_exporter": "python",
   "pygments_lexer": "ipython3",
   "version": "3.12.7"
  }
 },
 "nbformat": 4,
 "nbformat_minor": 5
}

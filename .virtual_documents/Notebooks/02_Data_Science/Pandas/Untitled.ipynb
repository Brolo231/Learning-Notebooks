from pyodide.http import open_url
import pandas as pd
import io

url = "https://brolo231.github.io/Learning-Notebooks/unclean_dataset.csv"
response = open_url(url)
data_str = response.read()

df = pd.read_csv(io.StringIO(data_str), on_bad_lines='skip')
print(df.head())

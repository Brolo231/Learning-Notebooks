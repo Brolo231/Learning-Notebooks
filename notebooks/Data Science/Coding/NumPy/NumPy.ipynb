{
 "cells": [
  {
   "cell_type": "markdown",
   "id": "afcf845b-8024-4d9e-9950-ab3b854b2971",
   "metadata": {},
   "source": [
    "# NumPy"
   ]
  },
  {
   "cell_type": "markdown",
   "id": "e42b1f68-df0d-4475-bd34-d8fb763326b2",
   "metadata": {},
   "source": [
    "## 📋 Table of Contents\n",
    "1. [Understanding Arrays](#1-understanding-arrays-ndarray)\n",
    "2. [Creating Special Arrays](#2-creating-special-arrays)\n",
    "3. [Indexing & Slicing](#3-indexing-and-slicing)\n",
    "4. [Array Operations (Mathematical & Indexing)](#4-array-operations-mathematical-and-indexing)\n",
    "5. [Random Sampling & Normalizations](#5-random-sampling-and-normalization)\n",
    "6. [Useful NumPy Functions](#6-useful-numpy-functions)\n",
    "7. [Linear Algebra in NumPy](#7-linear-algebra-in-numpy)"
   ]
  },
  {
   "cell_type": "markdown",
   "id": "ef9c4ed5-a951-40a8-8a39-a5191cdca5ed",
   "metadata": {},
   "source": [
    "## 1. Understanding Arrays (ndarray)\n",
    "- NumPy arrays are more efficient than Python lists for numerical operations.\n",
    "- Learn how to create arrays using:"
   ]
  },
  {
   "cell_type": "code",
   "execution_count": 2,
   "id": "c29711c9-d8fa-4bf1-81ac-d4072e2e2659",
   "metadata": {},
   "outputs": [
    {
     "name": "stdout",
     "output_type": "stream",
     "text": [
      "[1 2 3 4 5] \n",
      "\n",
      "[[1 2 3]\n",
      " [4 5 6]] \n",
      "\n",
      "[[[1 2]\n",
      "  [3 4]]\n",
      "\n",
      " [[5 6]\n",
      "  [7 8]]] \n",
      "\n"
     ]
    }
   ],
   "source": [
    "import numpy as np\n",
    "\n",
    "# Creating a 1D array\n",
    "arr1 = np.array([1, 2, 3, 4, 5])\n",
    "print(arr1, '\\n')\n",
    "\n",
    "# Creating a 2D array (matrix)\n",
    "arr2 = np.array([[1, 2, 3], [4, 5, 6]])\n",
    "print(arr2, '\\n')\n",
    "\n",
    "# Creating a 3D array\n",
    "arr3 = np.array([[[1, 2], [3, 4]], [[5, 6], [7, 8]]])\n",
    "print(arr3, '\\n')"
   ]
  },
  {
   "cell_type": "markdown",
   "id": "ac82d71c-8907-44c1-93a4-30ae5e8cbc4d",
   "metadata": {},
   "source": [
    "- Understand array shapes and dimensions (.shape, .ndim, .size).\n",
    "\n",
    "<b>.shape</b> → Returns a tuple representing the number of elements along each axis. \\\n",
    "<b>.ndim</b> → Returns the number of dimensions (axes). \\\n",
    "<b>.size</b> → Returns the total number of elements in the array.\n"
   ]
  },
  {
   "cell_type": "code",
   "execution_count": 3,
   "id": "f1fcfeda-da0b-44ec-a2d5-236fc8c65b34",
   "metadata": {},
   "outputs": [
    {
     "name": "stdout",
     "output_type": "stream",
     "text": [
      "(2, 3)\n",
      "6\n",
      "2\n",
      "int64\n"
     ]
    }
   ],
   "source": [
    "print(arr2.shape)   # (2, 3) → 2 rows, 3 columns\n",
    "print(arr2.size)    # 6 → Total elements\n",
    "print(arr2.ndim)    # 2 → Number of dimensions\n",
    "print(arr2.dtype)   # int → Data type of elements"
   ]
  },
  {
   "cell_type": "markdown",
   "id": "db879c6b-7382-4e27-ae10-f5f49ec758ab",
   "metadata": {},
   "source": [
    "## 2. Creating Special Arrays"
   ]
  },
  {
   "cell_type": "code",
   "execution_count": 15,
   "id": "766a9c11-1aab-4626-8e99-87062de55ac8",
   "metadata": {},
   "outputs": [
    {
     "name": "stdout",
     "output_type": "stream",
     "text": [
      "[[0. 0. 0.]\n",
      " [0. 0. 0.]\n",
      " [0. 0. 0.]] \n",
      "\n",
      "[[1. 1. 1. 1.]\n",
      " [1. 1. 1. 1.]] \n",
      "\n",
      "[[9 9 9]\n",
      " [9 9 9]\n",
      " [9 9 9]] \n",
      "\n",
      "[[1. 0. 0. 0.]\n",
      " [0. 1. 0. 0.]\n",
      " [0. 0. 1. 0.]\n",
      " [0. 0. 0. 1.]] \n",
      "\n",
      "[[0.93352448 0.79362093 0.00932645]\n",
      " [0.32696253 0.47562898 0.79989309]] \n",
      "\n"
     ]
    }
   ],
   "source": [
    "print(np.zeros((3, 3)), '\\n')   # 3x3 matrix filled with 0s\n",
    "print(np.ones((2, 4)),'\\n')    # 2x4 matrix filled with 1s\n",
    "print(np.full((3, 3), 9),'\\n') # 3x3 matrix filled with 9s\n",
    "print(np.eye(4),'\\n')          # 4x4 identity matrix\n",
    "print(np.random.rand(2, 3),'\\n')  # 2x3 matrix with random values"
   ]
  },
  {
   "cell_type": "markdown",
   "id": "393c09c2-6f99-4717-a949-d783ac37cddc",
   "metadata": {},
   "source": [
    "## 3. Indexing and Slicing"
   ]
  },
  {
   "cell_type": "code",
   "execution_count": 11,
   "id": "adf6c231-5a45-4a79-9abb-666a49790521",
   "metadata": {},
   "outputs": [
    {
     "name": "stdout",
     "output_type": "stream",
     "text": [
      "20\n",
      "50\n",
      "[20 30 40]\n"
     ]
    }
   ],
   "source": [
    "arr = np.array([10, 20, 30, 40, 50])\n",
    "\n",
    "print(arr[1])    # 20\n",
    "print(arr[-1])   # 50\n",
    "print(arr[1:4])  # [20, 30, 40]"
   ]
  },
  {
   "cell_type": "markdown",
   "id": "e931b384-b58a-41de-b44f-9cb9aba917f1",
   "metadata": {},
   "source": [
    "- Indexing in 2D Arrays"
   ]
  },
  {
   "cell_type": "code",
   "execution_count": 16,
   "id": "9d1fe0b9-cf3f-4cfc-8dba-a743ffec5a58",
   "metadata": {},
   "outputs": [
    {
     "name": "stdout",
     "output_type": "stream",
     "text": [
      "60\n",
      "[20 50 80]\n",
      "[10 20 30]\n"
     ]
    }
   ],
   "source": [
    "matrix = np.array([[10, 20, 30], [40, 50, 60], [70, 80, 90]])\n",
    "print(matrix[1, 2])   # 60 (row 1, col 2)\n",
    "print(matrix[:, 1])   # [20, 50, 80] (all rows, col 1)\n",
    "print(matrix[0, :])   # [10, 20, 30] (first row)"
   ]
  },
  {
   "cell_type": "markdown",
   "id": "2cd52e34-064e-402b-8cf1-70a6238877d8",
   "metadata": {},
   "source": [
    "- Use Boolean indexing:"
   ]
  },
  {
   "cell_type": "code",
   "execution_count": 20,
   "id": "0ca37ed4-f0ab-461e-8cf9-da8552c6884c",
   "metadata": {},
   "outputs": [
    {
     "data": {
      "text/plain": [
       "array([3, 4, 5])"
      ]
     },
     "execution_count": 20,
     "metadata": {},
     "output_type": "execute_result"
    }
   ],
   "source": [
    "arr = np.array([1,2,3,4,5])\n",
    "arr[arr > 2]  # Returns elements greater than 3"
   ]
  },
  {
   "cell_type": "markdown",
   "id": "6bc3d226-0111-4bb7-ba27-edc27fc12934",
   "metadata": {},
   "source": [
    "## 4. Array Operations (Mathematical and Indexing)\n",
    "- Basic operations (+, -, *, /) work element-wise.\n",
    "- Learn indexing and slicing:"
   ]
  },
  {
   "cell_type": "code",
   "execution_count": 17,
   "id": "7414480e-2c4e-4c2d-b4a5-50cd1d52dc9c",
   "metadata": {},
   "outputs": [
    {
     "name": "stdout",
     "output_type": "stream",
     "text": [
      "[5 7 9]\n",
      "[-3 -3 -3]\n",
      "[ 4 10 18]\n",
      "[0.25 0.4  0.5 ]\n"
     ]
    }
   ],
   "source": [
    "arr1 = np.array([1, 2, 3])\n",
    "arr2 = np.array([4, 5, 6])\n",
    "\n",
    "print(arr1 + arr2)  # [5, 7, 9]\n",
    "print(arr1 - arr2)  # [-3, -3, -3]\n",
    "print(arr1 * arr2)  # [4, 10, 18]\n",
    "print(arr1 / arr2)  # [0.25, 0.4, 0.5]"
   ]
  },
  {
   "cell_type": "markdown",
   "id": "3e91377e-8656-4e8b-8336-c24cf4295ff1",
   "metadata": {},
   "source": [
    "- Element-wise and Broadcasting"
   ]
  },
  {
   "cell_type": "code",
   "execution_count": 21,
   "id": "bc266312-f75c-48be-ab50-a98843e48edb",
   "metadata": {},
   "outputs": [
    {
     "name": "stdout",
     "output_type": "stream",
     "text": [
      "[2 4 6]\n"
     ]
    }
   ],
   "source": [
    "arr = np.array([1, 2, 3])\n",
    "print(arr * 2)  # [2, 4, 6]"
   ]
  },
  {
   "cell_type": "markdown",
   "id": "748c75ce-9e4f-49ce-90b4-b6ebcc31f1dd",
   "metadata": {},
   "source": [
    "## 5. Random Sampling and Normalization\n",
    "- Generating random numbers for data simulation:"
   ]
  },
  {
   "cell_type": "code",
   "execution_count": 5,
   "id": "63a9b31e-d4d2-437c-b358-3e97d09df81f",
   "metadata": {},
   "outputs": [
    {
     "data": {
      "text/plain": [
       "array([ 0.44111839,  2.05332413,  0.76888288, -0.52490855,  0.27063437,\n",
       "        0.34251631, -0.09509985, -0.48788557,  0.3798861 , -0.41387553])"
      ]
     },
     "execution_count": 5,
     "metadata": {},
     "output_type": "execute_result"
    }
   ],
   "source": [
    "np.random.randn(10)  # 10 random numbers from a normal distribution"
   ]
  },
  {
   "cell_type": "markdown",
   "id": "58425a0e-3361-4d2c-9e3c-0f9be09e8aed",
   "metadata": {},
   "source": [
    "- Normalizing data (important for ML):"
   ]
  },
  {
   "cell_type": "code",
   "execution_count": 7,
   "id": "0663a14d-f463-4721-837b-338349bd443b",
   "metadata": {},
   "outputs": [
    {
     "data": {
      "text/plain": [
       "array([-1.41421356, -0.70710678,  0.        ,  0.70710678,  1.41421356])"
      ]
     },
     "execution_count": 7,
     "metadata": {},
     "output_type": "execute_result"
    }
   ],
   "source": [
    "arr = (arr - np.mean(arr)) / np.std(arr)\n",
    "arr"
   ]
  },
  {
   "cell_type": "markdown",
   "id": "ad88d09e-01ca-4a78-a4cb-d24d4af4124f",
   "metadata": {},
   "source": [
    "## 6. Useful NumPy Functions\n",
    "\n",
    "- Aggregation Functions"
   ]
  },
  {
   "cell_type": "code",
   "execution_count": 22,
   "id": "d0973e40-6aa6-4cbb-9d57-398cc0519d89",
   "metadata": {},
   "outputs": [
    {
     "name": "stdout",
     "output_type": "stream",
     "text": [
      "150\n",
      "30.0\n",
      "10\n",
      "50\n",
      "14.142135623730951\n"
     ]
    }
   ],
   "source": [
    "arr = np.array([10, 20, 30, 40, 50])\n",
    "\n",
    "print(arr.sum())    # 150\n",
    "print(arr.mean())   # 30.0\n",
    "print(arr.min())    # 10\n",
    "print(arr.max())    # 50\n",
    "print(arr.std())    # Standard deviation"
   ]
  },
  {
   "cell_type": "markdown",
   "id": "9ea37eb4-78ac-477b-ad8c-6cf5b65950d0",
   "metadata": {},
   "source": [
    "- Reshaping Arrays"
   ]
  },
  {
   "cell_type": "code",
   "execution_count": 23,
   "id": "42a5987e-04f5-424a-a543-2cf10f87796f",
   "metadata": {},
   "outputs": [
    {
     "name": "stdout",
     "output_type": "stream",
     "text": [
      "[[1 2 3]\n",
      " [4 5 6]]\n"
     ]
    }
   ],
   "source": [
    "arr = np.array([1, 2, 3, 4, 5, 6])\n",
    "\n",
    "reshaped = arr.reshape(2, 3)  # Convert to 2 rows, 3 columns\n",
    "print(reshaped)"
   ]
  },
  {
   "cell_type": "markdown",
   "id": "d7a39b92-60f1-4e49-b999-f9ff4086c149",
   "metadata": {},
   "source": [
    "- Stacking Arrays"
   ]
  },
  {
   "cell_type": "code",
   "execution_count": 24,
   "id": "69a2e3dd-b9a3-493d-b02d-27eaa83475e7",
   "metadata": {},
   "outputs": [
    {
     "name": "stdout",
     "output_type": "stream",
     "text": [
      "[[1 2 3]\n",
      " [4 5 6]]\n",
      "[1 2 3 4 5 6]\n"
     ]
    }
   ],
   "source": [
    "arr1 = np.array([1, 2, 3])\n",
    "arr2 = np.array([4, 5, 6])\n",
    "\n",
    "print(np.vstack((arr1, arr2)))  # Vertical stack\n",
    "print(np.hstack((arr1, arr2)))  # Horizontal stack"
   ]
  },
  {
   "cell_type": "markdown",
   "id": "bc8eb227-5333-4772-b11d-e870fe096ab3",
   "metadata": {},
   "source": [
    "## 7. Linear Algebra in NumPy\n",
    "<b>Linear algebra</b>\n",
    "\n",
    "- Dot Product"
   ]
  },
  {
   "cell_type": "code",
   "execution_count": 25,
   "id": "f6177bca-b85e-4045-8970-ba35529ae899",
   "metadata": {},
   "outputs": [
    {
     "name": "stdout",
     "output_type": "stream",
     "text": [
      "32\n"
     ]
    }
   ],
   "source": [
    "a = np.array([1, 2, 3])\n",
    "b = np.array([4, 5, 6])\n",
    "\n",
    "print(np.dot(a, b))  # (1*4 + 2*5 + 3*6) = 32"
   ]
  },
  {
   "cell_type": "markdown",
   "id": "bed06bfc-07ff-42f2-9b11-3e20be6adf13",
   "metadata": {},
   "source": [
    "- Matrix Multiplication"
   ]
  },
  {
   "cell_type": "code",
   "execution_count": 26,
   "id": "3b07df6b-2fc5-4127-81e2-740e0251e6fd",
   "metadata": {},
   "outputs": [
    {
     "name": "stdout",
     "output_type": "stream",
     "text": [
      "[[19 22]\n",
      " [43 50]]\n"
     ]
    }
   ],
   "source": [
    "A = np.array([[1, 2], [3, 4]])\n",
    "B = np.array([[5, 6], [7, 8]])\n",
    "\n",
    "print(np.matmul(A, B))  # Matrix multiplication"
   ]
  },
  {
   "cell_type": "markdown",
   "id": "19909f62-9017-4ad6-a303-162729de94d9",
   "metadata": {},
   "source": [
    "- Inverse of a Matrix"
   ]
  },
  {
   "cell_type": "code",
   "execution_count": 27,
   "id": "ff7057cc-7744-4c42-9656-70a871c0417f",
   "metadata": {},
   "outputs": [
    {
     "name": "stdout",
     "output_type": "stream",
     "text": [
      "[[-2.   1. ]\n",
      " [ 1.5 -0.5]]\n"
     ]
    }
   ],
   "source": [
    "A = np.array([[1, 2], [3, 4]])\n",
    "print(np.linalg.inv(A))  # Inverse of A"
   ]
  },
  {
   "cell_type": "markdown",
   "id": "c77576fd-2ab3-4f75-baf6-cc75f0cfabda",
   "metadata": {},
   "source": [
    "- Eigenvalues and Eigenvectors"
   ]
  },
  {
   "cell_type": "code",
   "execution_count": 28,
   "id": "256f0a90-29c1-475d-8db1-6bef9cd06570",
   "metadata": {},
   "outputs": [
    {
     "name": "stdout",
     "output_type": "stream",
     "text": [
      "[3. 1.]\n",
      "[[ 0.70710678  0.70710678]\n",
      " [-0.70710678  0.70710678]]\n"
     ]
    }
   ],
   "source": [
    "A = np.array([[2, -1], [-1, 2]])\n",
    "eigenvalues, eigenvectors = np.linalg.eig(A)\n",
    "\n",
    "print(eigenvalues)   # Eigenvalues\n",
    "print(eigenvectors)  # Eigenvectors"
   ]
  }
 ],
 "metadata": {
  "kernelspec": {
   "display_name": "Python 3 (ipykernel)",
   "language": "python",
   "name": "python3"
  },
  "language_info": {
   "codemirror_mode": {
    "name": "ipython",
    "version": 3
   },
   "file_extension": ".py",
   "mimetype": "text/x-python",
   "name": "python",
   "nbconvert_exporter": "python",
   "pygments_lexer": "ipython3",
   "version": "3.12.7"
  }
 },
 "nbformat": 4,
 "nbformat_minor": 5
}

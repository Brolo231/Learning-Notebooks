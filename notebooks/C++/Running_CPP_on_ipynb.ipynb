{
 "cells": [
  {
   "cell_type": "markdown",
   "id": "d8633e9e-ea6e-4538-b1bd-399d765e8de1",
   "metadata": {},
   "source": [
    "# Working with C++ on notebooks \n",
    "\n",
    "### The following will create a cpp file called hello and write the below code into it:\n",
    "\n",
    "#### Note: The issue with the following method is that when the below structure is executed, the file will be created and written, and each rerun will overide the file and rewrite it. "
   ]
  },
  {
   "cell_type": "code",
   "execution_count": 9,
   "id": "bdddb4d2-dab5-4712-b1f0-f12959e19016",
   "metadata": {},
   "outputs": [
    {
     "name": "stdout",
     "output_type": "stream",
     "text": [
      "Overwriting hello.cpp\n"
     ]
    }
   ],
   "source": [
    "%%writefile hello.cpp\n",
    "#include <iostream>\n",
    "using namespace std;\n",
    "\n",
    "int main(){\n",
    "    cout << \"Hello world\";\n",
    "}"
   ]
  },
  {
   "cell_type": "code",
   "execution_count": null,
   "id": "dfeeb1b6-be18-44c0-b63d-398c0fe7e35a",
   "metadata": {},
   "outputs": [],
   "source": [
    "# The code is then compiled and r"
   ]
  },
  {
   "cell_type": "code",
   "execution_count": 10,
   "id": "6882fbe3-89f3-4217-941c-74fc2607db3b",
   "metadata": {},
   "outputs": [
    {
     "name": "stdout",
     "output_type": "stream",
     "text": [
      "Hello world"
     ]
    }
   ],
   "source": [
    "# The following compiles the code and runs it\n",
    "!g++ hello.cpp -o hello\n",
    "!./hello"
   ]
  },
  {
   "cell_type": "code",
   "execution_count": 12,
   "id": "eeb25525-0dab-4b20-8668-db0f0cfe8ea3",
   "metadata": {},
   "outputs": [
    {
     "name": "stdout",
     "output_type": "stream",
     "text": [
      "Python is better!\n"
     ]
    }
   ],
   "source": [
    "# Whats great is its easy to switch between python and c++\n",
    "print(\"Python is better!\")"
   ]
  }
 ],
 "metadata": {
  "kernelspec": {
   "display_name": "Python 3 (ipykernel)",
   "language": "python",
   "name": "python3"
  },
  "language_info": {
   "codemirror_mode": {
    "name": "ipython",
    "version": 3
   },
   "file_extension": ".py",
   "mimetype": "text/x-python",
   "name": "python",
   "nbconvert_exporter": "python",
   "pygments_lexer": "ipython3",
   "version": "3.12.7"
  }
 },
 "nbformat": 4,
 "nbformat_minor": 5
}

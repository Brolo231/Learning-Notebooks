{
 "cells": [
  {
   "cell_type": "markdown",
   "id": "dd11a359-d561-4762-8c46-f2e727751299",
   "metadata": {},
   "source": [
    "# Before the advent of database systems \n",
    "\n",
    "**Before modern databases, organizations used file-based systems to manage data. Each department or application maintained its own data files, often independently. Over time, this approach led to major inefficiencies and management issues, prompting the shift to the database approach.**\n",
    "\n",
    "<hr>\n",
    "\n",
    "## 🗃️ File-Based System\n",
    "\n",
    "A file-based system stores data in separate files, each manipulated by specific application programs developed for individual departments (e.g., banking systems handling accounts, loans, and statements).\n",
    "\n",
    "**❌ Disadvantages**\n",
    "1. Data Redundancy – Same information stored in multiple places, leading to wasted space and inconsistencies.\n",
    "\n",
    "2.\tData Isolation – Data scattered across files makes retrieval difficult for new applications.\n",
    "\n",
    "3.\tIntegrity Problems – Maintaining consistent and correct data is challenging due to hard-coded constraints in applications.\n",
    "\n",
    "4.\tSecurity Problems – Inconsistent and ad-hoc access controls make enforcing privileges difficult.\n",
    "\n",
    "5.\tConcurrency Access Issues – Files are often locked when in use, preventing simultaneous access by multiple users.\n",
    "\n",
    "<hr>\n",
    "\n",
    "## 💾 Database Approach\n",
    "\n",
    "**The database approach emerged to solve these issues by centralizing data management through database management software (DBMS).**\n",
    "- Provides structured, efficient storage, manipulation, and retrieval of data.\n",
    "- Supports business operations, including tracking customers, employees, orders, and products.\n",
    "- Enables concurrent multi-user access, data integrity, and security control.\n",
    "\n",
    "<hr>\n",
    "\n",
    "## 📊 The Meaning of Data\n",
    "\n",
    "- Data are factual pieces of information — such as measurements, statistics, or attributes of people, places, or events.\n",
    "- Can be stored in various forms: spreadsheets, ledgers, lists, or databases.\n",
    "- A database provides a powerful, mechanical means to organize, search, retrieve, and process information efficiently.\n",
    "\n",
    "<hr>\n",
    "\n",
    "## 🔑 Key Terms\n",
    "\n",
    "- Concurrency: Database’s ability to allow multiple users to access the same record simultaneously.\n",
    "- Data Element: A single fact or piece of information.\n",
    "- Data Inconsistency: Conflicts between different copies of the same data.\n",
    "- Data Isolation: Determines when and how data changes become visible to other users or systems.\n",
    "- Data Integrity: Ensures data is correct and consistent.\n",
    "- Data Redundancy: Occurs when a field needs to be updated in multiple places.\n",
    "- Database Approach: Centralized management of organizational data.\n",
    "- Database Management Software: Tool for storing, manipulating, and retrieving data efficiently.\n",
    "- File-Based System: System where application programs manage their own data files independently."
   ]
  },
  {
   "cell_type": "code",
   "execution_count": null,
   "id": "57745591-95bd-4b10-9a0a-ed15054dc086",
   "metadata": {},
   "outputs": [],
   "source": []
  }
 ],
 "metadata": {
  "kernelspec": {
   "display_name": "Python 3 (ipykernel)",
   "language": "python",
   "name": "python3"
  },
  "language_info": {
   "codemirror_mode": {
    "name": "ipython",
    "version": 3
   },
   "file_extension": ".py",
   "mimetype": "text/x-python",
   "name": "python",
   "nbconvert_exporter": "python",
   "pygments_lexer": "ipython3",
   "version": "3.12.7"
  }
 },
 "nbformat": 4,
 "nbformat_minor": 5
}

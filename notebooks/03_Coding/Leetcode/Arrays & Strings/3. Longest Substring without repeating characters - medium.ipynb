{
 "cells": [
  {
   "cell_type": "markdown",
   "id": "d65fb43f-92ba-4862-ba2a-6877ab789104",
   "metadata": {},
   "source": [
    "## <a href=\"https://leetcode.com/problems/longest-substring-without-repeating-characters/\">3. Longest Substring without repeating characters</a>\n",
    "\n",
    "<span style=\"background-color: yellow; color: black;\">medium<span>\n",
    "\n",
    "Given a string s, find the length of the longest substring without duplicate characters.\n",
    "\n",
    "\n",
    "Example 1:\n",
    "\n",
    "```Input: s = \"abcabcbb\"``` \\\n",
    "```Output: 3``` \\\n",
    "Explanation: The answer is \"abc\", with the length of 3.\n",
    "\n",
    "Example 2:\n",
    "\n",
    "```Input: s = \"bbbbb\"```\\\n",
    "```Output: 1```\\\n",
    "Explanation: The answer is \"b\", with the length of 1.\n",
    "\n",
    "Example 3:\n",
    "\n",
    "```Input: s = \"pwwkew\"```\\\n",
    "```Output: 3```\\\n",
    "Explanation: The answer is \"wke\", with the length of 3. \\\n",
    "**Notice** that the answer must be a substring, \"pwke\" is a subsequence and not a substring.\n",
    " \n",
    "\n",
    "Constraints:\n",
    "\n",
    "0 <= s.length <= 5 * 104\n",
    "s consists of English letters, digits, symbols and spaces.\n",
    "\n",
    "```class Solution:```\\\n",
    "```    def lengthOfLongestSubstring(self, s: str) -> int:```\n",
    "        "
   ]
  },
  {
   "cell_type": "code",
   "execution_count": 2,
   "id": "26e1e702-1efd-4acf-b885-609c859cd80c",
   "metadata": {},
   "outputs": [
    {
     "name": "stdout",
     "output_type": "stream",
     "text": [
      "['a']\n",
      "['a', 'n']\n",
      "['a', 'n', 'v']\n",
      "['a', 'n', 'v', 'i']\n",
      "['i', 'a']\n",
      "['i', 'a', 'j']\n"
     ]
    },
    {
     "data": {
      "text/plain": [
       "4"
      ]
     },
     "execution_count": 2,
     "metadata": {},
     "output_type": "execute_result"
    }
   ],
   "source": [
    "class Solution:\n",
    "    def lengthOfLongestSubstring(self, s: str) -> int:\n",
    "        longest = 0\n",
    "        answer = []\n",
    "        if len(s) <= 1:\n",
    "            longest = len(s)\n",
    "        else:\n",
    "            for i in s:\n",
    "                if i not in answer:\n",
    "                    answer.append(i)\n",
    "                    print(answer)\n",
    "                else:\n",
    "                    if len(answer) > longest:\n",
    "                        longest = len(answer)\n",
    "                    answer = answer[-1:]\n",
    "                    if i not in answer:\n",
    "                        answer.append(i)\n",
    "                    print(answer)\n",
    "            if len(answer) > longest:\n",
    "                longest = len(answer)\n",
    "        \n",
    "\n",
    "        return longest\n",
    "\n",
    "s = Solution()\n",
    "s.lengthOfLongestSubstring(\"anviaj\")"
   ]
  },
  {
   "cell_type": "markdown",
   "id": "0f1964a4-8097-4f6c-aece-7e5652aee3bf",
   "metadata": {},
   "source": [
    "## Stopped here and asked chatGPT to fix my solution instead of giving me optimal solution: "
   ]
  },
  {
   "cell_type": "code",
   "execution_count": 4,
   "id": "3fe3f691-e306-4c79-8b56-2134eb145529",
   "metadata": {},
   "outputs": [
    {
     "data": {
      "text/plain": [
       "5"
      ]
     },
     "execution_count": 4,
     "metadata": {},
     "output_type": "execute_result"
    }
   ],
   "source": [
    "class Solution:\n",
    "    def lengthOfLongestSubstring(self, s: str) -> int:\n",
    "        longest = 0\n",
    "        answer = []\n",
    "        \n",
    "        for i in s:\n",
    "            if i in answer:\n",
    "                # Remove characters from the start until the duplicate is gone\n",
    "                duplicate_index = answer.index(i)\n",
    "                answer = answer[duplicate_index + 1:]\n",
    "            \n",
    "            answer.append(i)\n",
    "            longest = max(longest, len(answer))\n",
    "        \n",
    "        return longest\n",
    "\n",
    "s = Solution()\n",
    "s.lengthOfLongestSubstring(\"anviaj\")"
   ]
  },
  {
   "cell_type": "markdown",
   "id": "a19db0a1-b375-4c13-a488-49c0a0aa3d1d",
   "metadata": {},
   "source": [
    "## ChatGPT optimal solution: "
   ]
  },
  {
   "cell_type": "code",
   "execution_count": null,
   "id": "7a92a653-1f2f-45f6-ae09-a31989ce6b68",
   "metadata": {},
   "outputs": [],
   "source": [
    "# ChatGPT optimal solution: \n",
    "\n",
    "class Solution:\n",
    "    def lengthOfLongestSubstring(self, s: str) -> int:\n",
    "        char_set = set()\n",
    "        left = 0\n",
    "        max_len = 0\n",
    "\n",
    "        for right in range(len(s)):\n",
    "            while s[right] in char_set:\n",
    "                char_set.remove(s[left])\n",
    "                left += 1\n",
    "            char_set.add(s[right])\n",
    "            max_len = max(max_len, right - left + 1)\n",
    "\n",
    "        return max_len"
   ]
  }
 ],
 "metadata": {
  "kernelspec": {
   "display_name": "Python 3 (ipykernel)",
   "language": "python",
   "name": "python3"
  },
  "language_info": {
   "codemirror_mode": {
    "name": "ipython",
    "version": 3
   },
   "file_extension": ".py",
   "mimetype": "text/x-python",
   "name": "python",
   "nbconvert_exporter": "python",
   "pygments_lexer": "ipython3",
   "version": "3.12.7"
  }
 },
 "nbformat": 4,
 "nbformat_minor": 5
}

{
 "cells": [
  {
   "cell_type": "markdown",
   "id": "15278441-3a3b-4375-a007-3cd2c8ea3536",
   "metadata": {},
   "source": [
    "## 1. Two Sum\n",
    "easy\n",
    "\n",
    "Given an array of integers nums and an integer target, return indices of the two numbers such that they add up to target.\n",
    "\n",
    "You may assume that each input would have exactly one solution, and you may not use the same element twice.\n",
    "\n",
    "You can return the answer in any order.\n",
    "\n",
    "Example 1:\n",
    "\n",
    "Input: nums = [2,7,11,15], target = 9 \\\n",
    "Output: [0,1] \\\n",
    "Explanation: Because nums[0] + nums[1] == 9, we return [0, 1]. \\\n",
    "\n",
    "Example 2:\n",
    "\n",
    "Input: nums = [3,2,4], target = 6 \\\n",
    "Output: [1,2]\n",
    "\n",
    "Example 3:\n",
    "\n",
    "Input: nums = [3,3], target = 6 \\\n",
    "Output: [0,1]\n",
    "\n",
    "Constraints:\n",
    "\n",
    "2 <= nums.length <= 104\\\n",
    "-109 <= nums[i] <= 109\\\n",
    "-109 <= target <= 109\\\n",
    "Only one valid answer exists.\n",
    "\n",
    "class Solution:\\\n",
    "    def twoSum(self, nums: List[int], target: int) -> List[int]:\n",
    "\n",
    "<hr>"
   ]
  },
  {
   "cell_type": "code",
   "execution_count": 4,
   "id": "da7bdf0d-257b-4a64-87d8-1c0aa9c6f47b",
   "metadata": {},
   "outputs": [],
   "source": [
    "class Solution:\n",
    "    def twoSum(self, nums: list[int], target: int) -> list[int]:\n",
    "\n",
    "        for i in range(len(nums)-1):\n",
    "            for j in range(1, len(nums)):\n",
    "                if nums[i] + nums[j] == target:\n",
    "                    target = i, j\n",
    "                    break\n",
    "\n",
    "        return target"
   ]
  },
  {
   "cell_type": "code",
   "execution_count": 8,
   "id": "353fcdd9-3d59-41d8-9eb2-c0a6f16d8421",
   "metadata": {},
   "outputs": [
    {
     "data": {
      "text/plain": [
       "(0, 4)"
      ]
     },
     "execution_count": 8,
     "metadata": {},
     "output_type": "execute_result"
    }
   ],
   "source": [
    "s = Solution()\n",
    "s.twoSum([-1, -3, -1, 4, -2], -3)"
   ]
  },
  {
   "cell_type": "code",
   "execution_count": null,
   "id": "bdeb261f-fdcc-4507-b519-d9f74f58fddd",
   "metadata": {},
   "outputs": [],
   "source": []
  }
 ],
 "metadata": {
  "kernelspec": {
   "display_name": "Python 3 (ipykernel)",
   "language": "python",
   "name": "python3"
  },
  "language_info": {
   "codemirror_mode": {
    "name": "ipython",
    "version": 3
   },
   "file_extension": ".py",
   "mimetype": "text/x-python",
   "name": "python",
   "nbconvert_exporter": "python",
   "pygments_lexer": "ipython3",
   "version": "3.12.7"
  }
 },
 "nbformat": 4,
 "nbformat_minor": 5
}

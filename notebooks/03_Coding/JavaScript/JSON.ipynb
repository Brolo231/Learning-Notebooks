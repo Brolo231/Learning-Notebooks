{
 "cells": [
  {
   "cell_type": "markdown",
   "id": "949f3c3c-ef04-403b-8724-d2445545aa44",
   "metadata": {},
   "source": [
    "# 📦 What is JSON?\n",
    "\n",
    "#### JSON stands for JavaScript Object Notation. It’s a text-based format for storing and exchanging data, widely used in web development — especially in APIs.\n",
    "\n",
    "✅ JSON is:\n",
    "\t•\tLanguage-independent (though it originates from JavaScript)\n",
    "\t•\tLightweight and easy to read\n",
    "\t•\tCommonly used to send data between a client (browser) and server\n",
    "\n",
    "<hr>\n",
    "\n",
    "#### 🧠 JSON vs JavaScript Object\n",
    "\n",
    "✅ JavaScript Object:"
   ]
  },
  {
   "cell_type": "code",
   "execution_count": 1,
   "id": "838129d0-ae04-4e10-bb36-4246498926f0",
   "metadata": {},
   "outputs": [],
   "source": [
    "const user = {\n",
    "  name: \"john\",\n",
    "  age: 25,\n",
    "  isAdmin: false\n",
    "};"
   ]
  },
  {
   "cell_type": "markdown",
   "id": "1fe949cf-4e65-4db0-b62c-9215d87b0514",
   "metadata": {},
   "source": [
    "✅ JSON (as a string):"
   ]
  },
  {
   "cell_type": "code",
   "execution_count": null,
   "id": "cb6616a3-2114-459e-b8a0-c4ecaca5ef7b",
   "metadata": {},
   "outputs": [],
   "source": [
    "{\n",
    "  \"name\": \"john\",\n",
    "  \"age\": 25,\n",
    "  \"isAdmin\": false\n",
    "}\n",
    "\n",
    "// running the above will throw an error as this is not how we create a json "
   ]
  },
  {
   "cell_type": "markdown",
   "id": "fef161b1-14ef-4997-a268-20475ad03583",
   "metadata": {},
   "source": [
    "<hr>\n",
    "\n",
    "### ✍️ How to Create JSON\n",
    "\n",
    "JSON is just a string formatted correctly.\n",
    "\n",
    "*Example:*"
   ]
  },
  {
   "cell_type": "code",
   "execution_count": 3,
   "id": "41453d50-e1bb-4daa-9835-e1df0f2af848",
   "metadata": {},
   "outputs": [],
   "source": [
    "const jsonString = `{\n",
    "  \"product\": \"Laptop\",\n",
    "  \"price\": 8999,\n",
    "  \"available\": true\n",
    "}`;"
   ]
  },
  {
   "cell_type": "markdown",
   "id": "e8606e25-0ab4-4a62-ac23-867965e91bce",
   "metadata": {},
   "source": [
    "You can also convert a JavaScript object to JSON using:"
   ]
  },
  {
   "cell_type": "code",
   "execution_count": 4,
   "id": "94f63fb0-c153-4d68-8e0c-d406e5d9f0e4",
   "metadata": {},
   "outputs": [],
   "source": [
    "const obj = { name: \"Brandon\", age: 25 };\n",
    "const json = JSON.stringify(obj); // '{\"name\":\"Brandon\",\"age\":25}'"
   ]
  },
  {
   "cell_type": "markdown",
   "id": "cae9126d-5cfa-4122-896c-1762a64aa0ca",
   "metadata": {},
   "source": [
    "<hr>\n",
    "\n",
    "### 🔁 Convert Between JSON and JS\n",
    "\n",
    "| Conversion              | Method           | Example                                |\n",
    "|-------------------------|------------------|----------------------------------------|\n",
    "| Object → JSON string    | JSON.stringify() | JSON.stringify({name: \"Brandon\"})      |\n",
    "| JSON string → Object    | JSON.parse()     | JSON.parse('{\"name\":\"Brandon\"}')       |"
   ]
  },
  {
   "cell_type": "markdown",
   "id": "d37dc31b-5933-4ca4-9506-c6836a461e76",
   "metadata": {},
   "source": [
    "<hr>\n",
    "\n",
    "# 📁 JSON in Web Development\n",
    "\n",
    "## ✅ 1. Sending data to server (POST)"
   ]
  },
  {
   "cell_type": "code",
   "execution_count": null,
   "id": "9f5b98da-a2e4-4f5b-ac53-a638ac621891",
   "metadata": {},
   "outputs": [],
   "source": [
    "fetch(\"/submit\", {\n",
    "  method: \"POST\",\n",
    "  headers: {\n",
    "    \"Content-Type\": \"application/json\"\n",
    "  },\n",
    "  body: JSON.stringify({ username: \"brandon\", score: 100 })\n",
    "});"
   ]
  },
  {
   "cell_type": "markdown",
   "id": "ce6f0327-0ef4-440c-a6a3-55c9e3624951",
   "metadata": {},
   "source": [
    "## ✅ 2. Receiving data from server (GET)"
   ]
  },
  {
   "cell_type": "code",
   "execution_count": null,
   "id": "1aaabda7-3b8a-49e6-ad44-8b9d67e6c5a7",
   "metadata": {},
   "outputs": [],
   "source": [
    "fetch(\"/user.json\")\n",
    "  .then(response => response.json())  // auto-parses JSON\n",
    "  .then(data => console.log(data));   // { name: \"Brandon\", ... }"
   ]
  },
  {
   "cell_type": "markdown",
   "id": "34878ae9-ff43-4bfb-8bf3-590d4d52cab8",
   "metadata": {},
   "source": [
    "<hr>\n",
    "\n",
    "*💡 JSON Structure Rules*\n",
    "1. Data is in key/value pairs: \"name\": \"Brandon\"\n",
    "2. Keys must be strings in double quotes.\n",
    "3. Data can be:\n",
    "    - String\n",
    "    - Number\n",
    "    - Boolean\n",
    "    - Null\n",
    "    - Array\n",
    "    - Object\n",
    "4. JSON cannot contain functions, undefined, or comments."
   ]
  },
  {
   "cell_type": "code",
   "execution_count": null,
   "id": "6a1ffc21-f29e-4505-9579-02214ff504ef",
   "metadata": {},
   "outputs": [],
   "source": []
  }
 ],
 "metadata": {
  "kernelspec": {
   "display_name": "JavaScript (Node.js)",
   "language": "javascript",
   "name": "javascript"
  },
  "language_info": {
   "file_extension": ".js",
   "mimetype": "application/javascript",
   "name": "javascript",
   "version": "18.20.8"
  }
 },
 "nbformat": 4,
 "nbformat_minor": 5
}

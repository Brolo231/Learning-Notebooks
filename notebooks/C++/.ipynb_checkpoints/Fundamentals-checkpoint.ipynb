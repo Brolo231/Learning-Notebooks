{
 "cells": [
  {
   "cell_type": "markdown",
   "id": "c81c7fdf-d803-4c1c-a4fd-d4230c47418c",
   "metadata": {},
   "source": [
    "# C++ Basics Refresher\n",
    "\n",
    "<hr>\n",
    "\n",
    "## 1.1 Variables & Data Types\n",
    "\n",
    "In C++, every variable has a type. Common ones include:\n",
    "\n",
    "#include <iostream>\n",
    "using namespace std;\n",
    "\n",
    "`int main() {` \\\n",
    "`    int age = 21;`         // Integer \\\n",
    "`    float pi = 3.14;`      // Floating point number \\\n",
    "`    char grade = 'A';`     // Character \\\n",
    "`    string name = \"Brandon\"` // String (requires #include <string>) \\\n",
    "`    bool isStudent = true;'` // Boolean (true/false) \\\n",
    "    // Display variables \\\n",
    "`    cout << \"Name: \" << name << \", Age: \" << age << endl;` \\\n",
    "`    return 0;` \\\n",
    "`}`"
   ]
  },
  {
   "cell_type": "markdown",
   "id": "dd2b13c9-23c1-4e4b-ad6d-88ead78c8242",
   "metadata": {},
   "source": [
    "<hr>"
   ]
  },
  {
   "cell_type": "markdown",
   "id": "03df2bf8-cb4a-4407-8ee7-f26ab43a8f39",
   "metadata": {},
   "source": [
    "## 1.2 Input & Output\n",
    "\n",
    "User input is handled using cin:\n",
    "\n",
    "`include <iostream>` \\\n",
    "`using namespace std;` \n",
    "\n",
    "`int main() {` \\\n",
    "`    string name;` \\\n",
    "`    int age;` \n",
    "\n",
    "`    cout << \"Enter your name: \";` \\\n",
    "`    cin >> name;` \\\n",
    "`    cout << \"Enter your age: \";` \\\n",
    "`    cin >> age;` \n",
    "\n",
    "`    cout << \"Hello, \" << name << \"! You are \" << age << \" years old.\" << endl;` \\\n",
    "`    return 0;` \\\n",
    "`}`"
   ]
  },
  {
   "cell_type": "markdown",
   "id": "61efe7c2-3afc-4c5a-aa86-fc0b7bf3327f",
   "metadata": {},
   "source": [
    "<hr>"
   ]
  },
  {
   "cell_type": "code",
   "execution_count": null,
   "id": "5f1aac06-6f01-4ba6-8da1-e88b8cb62f0d",
   "metadata": {},
   "outputs": [],
   "source": []
  }
 ],
 "metadata": {
  "kernelspec": {
   "display_name": "Python 3 (ipykernel)",
   "language": "python",
   "name": "python3"
  },
  "language_info": {
   "codemirror_mode": {
    "name": "ipython",
    "version": 3
   },
   "file_extension": ".py",
   "mimetype": "text/x-python",
   "name": "python",
   "nbconvert_exporter": "python",
   "pygments_lexer": "ipython3",
   "version": "3.12.7"
  }
 },
 "nbformat": 4,
 "nbformat_minor": 5
}

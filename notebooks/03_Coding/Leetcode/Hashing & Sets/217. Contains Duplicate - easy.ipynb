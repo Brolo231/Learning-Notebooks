{
 "cells": [
  {
   "cell_type": "markdown",
   "id": "a692c0df-de4a-4f55-9170-478db0f6934e",
   "metadata": {},
   "source": [
    "## <a href=\"https://leetcode.com/problems/contains-duplicate/description/\">217. Contains duplicate</a>\n",
    "<span style=\"background-color: lightgreen; color: black;\">easy<span>\n",
    "\n",
    "\n",
    "\n",
    "Given an integer array nums, return true if any value appears at least twice in the array, and return false if every element is distinct.\n",
    "\n",
    " \n",
    "\n",
    "Example 1:\n",
    "\n",
    "```Input: nums = [1,2,3,1]```\\\n",
    "```Output: true```\n",
    "\n",
    "Explanation:\n",
    "The element 1 occurs at the indices 0 and 3.\n",
    "\n",
    "Example 2:\n",
    "\n",
    "```Input: nums = [1,2,3,4]```\\\n",
    "```Output: false```\n",
    "\n",
    "Explanation:\n",
    "All elements are distinct.\n",
    "\n",
    "Example 3:\n",
    "\n",
    "```Input: nums = [1,1,1,3,3,4,3,2,4,2]```\\\n",
    "```Output: true```\n",
    "\n",
    "\n",
    "Constraints:\n",
    "\n",
    "1 <= nums.length <= 105\n",
    "-109 <= nums[i] <= 109\n",
    "\n",
    "```class Solution:```\\\n",
    "```    def containsDuplicate(self, nums: List[int]) -> bool:```"
   ]
  },
  {
   "cell_type": "code",
   "execution_count": 2,
   "id": "82799e73-6f10-4020-bed2-9326467349c6",
   "metadata": {},
   "outputs": [
    {
     "data": {
      "text/plain": [
       "False"
      ]
     },
     "execution_count": 2,
     "metadata": {},
     "output_type": "execute_result"
    }
   ],
   "source": [
    "class Solution:\n",
    "    def containsDuplicate(self, nums: list[int]) -> bool:\n",
    "\n",
    "        seen = {}\n",
    "        for idx, value in enumerate(nums):\n",
    "            if value in seen:\n",
    "                return True\n",
    "            seen[value] = idx\n",
    "        return False\n",
    "\n",
    "s = Solution()\n",
    "s.containsDuplicate([1,2,3])"
   ]
  },
  {
   "cell_type": "markdown",
   "id": "85031374-3c78-4f45-a200-b682d54e871a",
   "metadata": {},
   "source": [
    "***Notes:***\n",
    "- After running the above in leetcode, I noticed that it was slower and not as memory efficient as other submissions. After reviewing solutions I gathered that using a set increases efficiency as well as memory. \n",
    "- This makes sense now becasue a dictionary is storing key-value pairs whereas a set is only storing keys and since the above solution only makes use of the value we can replace value with the \"key\"\n",
    "\n",
    "**chatGPT:** \\\n",
    "\"A set is more appropriate because it’s designed to store unique items and perform fast membership checks (in)\" \\\n",
    "\"Python’s set implementation is optimized for uniqueness and fast lookup.\" \\\n",
    "\"Since set.add() only adds keys and doesn’t check or store a corresponding value, it avoids the value handling steps required in a dict.\""
   ]
  },
  {
   "cell_type": "code",
   "execution_count": 3,
   "id": "ea4bf2c0-e641-4e18-8ea9-aebc4bd064b0",
   "metadata": {},
   "outputs": [
    {
     "data": {
      "text/plain": [
       "False"
      ]
     },
     "execution_count": 3,
     "metadata": {},
     "output_type": "execute_result"
    }
   ],
   "source": [
    "class Solution:\n",
    "    def containsDuplicate(self, nums: list[int]) -> bool:\n",
    "\n",
    "        seen = set()\n",
    "        for idx, value in enumerate(nums):\n",
    "            if value in seen:\n",
    "                return True\n",
    "            seen.add(value)\n",
    "        return False\n",
    "\n",
    "s = Solution()\n",
    "s.containsDuplicate([1,2,3])"
   ]
  },
  {
   "cell_type": "code",
   "execution_count": 4,
   "id": "8f37d739-069a-4d7b-99b4-89baf6e985fd",
   "metadata": {},
   "outputs": [
    {
     "name": "stdout",
     "output_type": "stream",
     "text": [
      "dict_answer: 0.07857200000012199\n",
      "set_answer: 0.03418487500016454\n"
     ]
    }
   ],
   "source": [
    "import timeit\n",
    "\n",
    "dict_answer = '''\n",
    "class Solution:\n",
    "    def containsDuplicate(self, nums: list[int]) -> bool:\n",
    "\n",
    "        seen = {}\n",
    "        for idx, value in enumerate(nums):\n",
    "            if value in seen:\n",
    "                return True\n",
    "            seen[value] = idx\n",
    "        return False\n",
    "\n",
    "s = Solution()\n",
    "s.containsDuplicate([1,2,3])\n",
    "'''\n",
    "\n",
    "set_answer = '''\n",
    "class Solution:\n",
    "    def containsDuplicate(self, nums: list[int]) -> bool:\n",
    "\n",
    "        seen = set()\n",
    "        for idx, value in enumerate(nums):\n",
    "            if value in seen:\n",
    "                return True\n",
    "            seen.add(value)\n",
    "        return False\n",
    "\n",
    "s = Solution()\n",
    "s.containsDuplicate([1,2,3])\n",
    "'''\n",
    "\n",
    "print(\"dict_answer:\", timeit.timeit(stmt=dict_answer, number=10000))\n",
    "print(\"set_answer:\", timeit.timeit(stmt=set_answer, number=10000))"
   ]
  }
 ],
 "metadata": {
  "kernelspec": {
   "display_name": "Python 3 (ipykernel)",
   "language": "python",
   "name": "python3"
  },
  "language_info": {
   "codemirror_mode": {
    "name": "ipython",
    "version": 3
   },
   "file_extension": ".py",
   "mimetype": "text/x-python",
   "name": "python",
   "nbconvert_exporter": "python",
   "pygments_lexer": "ipython3",
   "version": "3.12.7"
  }
 },
 "nbformat": 4,
 "nbformat_minor": 5
}
